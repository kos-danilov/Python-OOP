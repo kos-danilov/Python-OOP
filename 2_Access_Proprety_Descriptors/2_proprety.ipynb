{
 "cells": [
  {
   "cell_type": "markdown",
   "metadata": {},
   "source": [
    "#4"
   ]
  },
  {
   "cell_type": "code",
   "execution_count": 1,
   "metadata": {},
   "outputs": [],
   "source": [
    "class Car:\n",
    "    def __init__(self):\n",
    "        self.__model = None\n",
    "        \n",
    "    @classmethod\n",
    "    def check(cls, value):\n",
    "        return isinstance(value, str) and 2 <= len(value) <= 100\n",
    "\n",
    "    @property\n",
    "    def model(self):\n",
    "        return self.__model\n",
    "\n",
    "    @model.setter\n",
    "    def model(self, model):\n",
    "        if self.check(model):\n",
    "            self.__model = model\n"
   ]
  },
  {
   "cell_type": "code",
   "execution_count": 2,
   "metadata": {},
   "outputs": [
    {
     "data": {
      "text/plain": [
       "'Toyota'"
      ]
     },
     "execution_count": 2,
     "metadata": {},
     "output_type": "execute_result"
    }
   ],
   "source": [
    "car = Car()\n",
    "car.model = \"Toyota\"\n",
    "car.model"
   ]
  },
  {
   "cell_type": "markdown",
   "metadata": {},
   "source": [
    "#5"
   ]
  },
  {
   "cell_type": "code",
   "execution_count": 3,
   "metadata": {},
   "outputs": [],
   "source": [
    "class WindowDlg:\n",
    "    @classmethod\n",
    "    def check(cls, value):\n",
    "        return isinstance(value, int) and 0 <= value <= 10000\n",
    "\n",
    "    def __init__(self, title, width, height) -> None:\n",
    "        self.__title = title\n",
    "        self.__width = width if self.check(width) else None\n",
    "        self.__height = height if self.check(height) else None\n",
    "\n",
    "    def show(self):\n",
    "        print(f'{self.__title}: {self.__width}, {self.__height}')\n",
    "\n",
    "    @property\n",
    "    def width(self):\n",
    "        return self.__width\n",
    "\n",
    "    @width.setter\n",
    "    def width(self, value):\n",
    "        self.__width = value if self.check(value) else self.__width\n",
    "        self.show()\n",
    "\n",
    "    @property\n",
    "    def height(self):\n",
    "        return self.__height\n",
    "    \n",
    "    @height.setter\n",
    "    def height(self, value):\n",
    "        self.__height = value if self.check(value) else self.__height\n",
    "        self.show()"
   ]
  },
  {
   "cell_type": "markdown",
   "metadata": {},
   "source": [
    "#6"
   ]
  },
  {
   "cell_type": "code",
   "execution_count": 4,
   "metadata": {},
   "outputs": [],
   "source": [
    "class StackObj:\n",
    "    def __init__(self, data) -> None:\n",
    "        self.__data = data\n",
    "        self.__next = None\n",
    "\n",
    "    @property\n",
    "    def next(self):\n",
    "        return self.__next\n",
    "\n",
    "    @next.setter\n",
    "    def next(self, next):\n",
    "        self.__next = next if isinstance(next, StackObj) or next is None else self.__next\n",
    "\n",
    "    @property\n",
    "    def data(self):\n",
    "        return self.__data\n",
    "\n",
    "    @data.setter\n",
    "    def data(self, data):\n",
    "        self.__data = data\n",
    "\n",
    "class Stack:\n",
    "    def __init__(self) -> None:\n",
    "        self.top = None\n",
    "        self.last = None\n",
    "\n",
    "    def push(self, obj):\n",
    "        if self.last:\n",
    "            self.last.next = obj\n",
    "\n",
    "        self.last = obj\n",
    "\n",
    "        if self.top is None:\n",
    "            self.top = obj\n",
    "    \n",
    "    def pop(self):\n",
    "        last_new = self.top\n",
    "        \n",
    "        if last_new is None:\n",
    "            return\n",
    "        \n",
    "        while last_new and last_new.next != self.last:\n",
    "            last_new = last_new.next\n",
    "        \n",
    "        if last_new:\n",
    "            last_new.next = None\n",
    "        \n",
    "        last = self.last\n",
    "        self.last = last_new\n",
    "\n",
    "        if self.last is None:\n",
    "            self.top = None\n",
    "        \n",
    "        return last\n",
    "\n",
    "\n",
    "    def get_data(self):\n",
    "        data = []\n",
    "        curr = self.top\n",
    "\n",
    "        if curr is None:\n",
    "            return data\n",
    "\n",
    "        data.append(curr.data)\n",
    "\n",
    "        while curr.next:\n",
    "            curr = curr.next\n",
    "            data.append(curr.data)\n",
    "            \n",
    "        return data"
   ]
  },
  {
   "cell_type": "markdown",
   "metadata": {},
   "source": [
    "#7"
   ]
  },
  {
   "cell_type": "code",
   "execution_count": 5,
   "metadata": {},
   "outputs": [],
   "source": [
    "class RadiusVector2D:\n",
    "    MIN_COORD = -100\n",
    "    MAX_COORD = 1024\n",
    "\n",
    "    @classmethod\n",
    "    def check(cls, value):\n",
    "        return isinstance(value, (int, float)) and cls.MIN_COORD <= value <= cls.MAX_COORD\n",
    "\n",
    "    def __init__(self, x=0, y=0) -> None:\n",
    "        self.__x = self.__y = 0\n",
    "        self.x = x\n",
    "        self.y = y\n",
    "\n",
    "    @property\n",
    "    def x(self):\n",
    "        return self.__x\n",
    "\n",
    "    @x.setter\n",
    "    def x(self, x):\n",
    "        if self.check(x):\n",
    "            self.__x = x\n",
    "    \n",
    "    @property\n",
    "    def y(self):\n",
    "        return self.__y\n",
    "\n",
    "    @y.setter\n",
    "    def y(self, y):\n",
    "        if self.check(y):\n",
    "            self.__y = y\n",
    "\n",
    "    @staticmethod\n",
    "    def norm2(vector):\n",
    "        return vector.x**2 + vector.y**2"
   ]
  },
  {
   "cell_type": "markdown",
   "metadata": {},
   "source": [
    "#8"
   ]
  },
  {
   "cell_type": "code",
   "execution_count": 6,
   "metadata": {},
   "outputs": [],
   "source": [
    "class TreeObj:\n",
    "    def __init__(self, indx, value=None):\n",
    "        self.indx = indx if isinstance(indx, int) else None\n",
    "        self.value = value\n",
    "        self.__left = None\n",
    "        self.__right = None\n",
    "\n",
    "    @property\n",
    "    def left(self):\n",
    "        return self.__left\n",
    "\n",
    "    @left.setter\n",
    "    def left(self, left):\n",
    "        self.__left = left\n",
    "\n",
    "    @property\n",
    "    def right(self):\n",
    "        return self.__right\n",
    "\n",
    "    @right.setter\n",
    "    def right(self, right):\n",
    "        self.__right = right\n",
    "\n",
    "class DecisionTree:        \n",
    "    @classmethod\n",
    "    def predict(cls, root, x):\n",
    "        curr_obj = root\n",
    "        \n",
    "        while curr_obj.indx != -1:\n",
    "            if x[curr_obj.indx] == 1:\n",
    "                curr_obj = curr_obj.left\n",
    "            else:\n",
    "                curr_obj = curr_obj.right\n",
    "\n",
    "        return curr_obj.value\n",
    "\n",
    "    @classmethod\n",
    "    def add_obj(cls, obj, node=None, left=True):\n",
    "        if node:        \n",
    "            if left:\n",
    "                node.left = obj\n",
    "            else:\n",
    "                node.right = obj\n",
    "        return obj"
   ]
  },
  {
   "cell_type": "code",
   "execution_count": 7,
   "metadata": {},
   "outputs": [
    {
     "data": {
      "text/plain": [
       "'будет программистом'"
      ]
     },
     "execution_count": 7,
     "metadata": {},
     "output_type": "execute_result"
    }
   ],
   "source": [
    "root = DecisionTree.add_obj(TreeObj(0))\n",
    "v_11 = DecisionTree.add_obj(TreeObj(1), root)\n",
    "v_12 = DecisionTree.add_obj(TreeObj(2), root, False)\n",
    "DecisionTree.add_obj(TreeObj(-1, \"будет программистом\"), v_11)\n",
    "DecisionTree.add_obj(TreeObj(-1, \"будет кодером\"), v_11, False)\n",
    "DecisionTree.add_obj(TreeObj(-1, \"не все потеряно\"), v_12)\n",
    "DecisionTree.add_obj(TreeObj(-1, \"безнадежен\"), v_12, False)\n",
    "x = [1, 1, 0]\n",
    "res = DecisionTree.predict(root, x) # будет программистом\n",
    "res"
   ]
  },
  {
   "cell_type": "markdown",
   "metadata": {},
   "source": [
    "#9"
   ]
  },
  {
   "cell_type": "code",
   "execution_count": 8,
   "metadata": {},
   "outputs": [],
   "source": [
    "class LineTo:\n",
    "    def __init__(self, x, y) -> None:\n",
    "        self.x = x\n",
    "        self.y = y\n",
    "\n",
    "class PathLines:\n",
    "    def __init__(self, *args) -> None:\n",
    "        self.points = list(args)\n",
    "\n",
    "    def get_path(self):\n",
    "        return self.points\n",
    "\n",
    "    def get_length(self):\n",
    "        curr_x = 0\n",
    "        curr_y = 0\n",
    "        path = 0\n",
    "\n",
    "        for point in self.points:\n",
    "            path += ((point.x - curr_x)**2 + (point.y - curr_y)**2)**0.5\n",
    "            curr_x = point.x\n",
    "            curr_y = point.y\n",
    "\n",
    "        return path\n",
    "\n",
    "    def add_line(self, line):\n",
    "        if isinstance(line, LineTo):\n",
    "            self.points.append(line)\n",
    "        else:\n",
    "            raise ValueError('Only LineTo objects are acceptable')"
   ]
  },
  {
   "cell_type": "code",
   "execution_count": 9,
   "metadata": {},
   "outputs": [],
   "source": [
    "p = PathLines(LineTo(10, 20), LineTo(10, 30))\n",
    "p.add_line(LineTo(20, -10))\n",
    "dist = p.get_length()\n"
   ]
  },
  {
   "cell_type": "markdown",
   "metadata": {},
   "source": [
    "#10"
   ]
  },
  {
   "cell_type": "code",
   "execution_count": 10,
   "metadata": {},
   "outputs": [],
   "source": [
    "class PhoneNumber:\n",
    "    NUMBERS = set('0123456789')\n",
    "\n",
    "    def __init__(self, number, fio) -> None:\n",
    "        if set(str(number)) <= self.NUMBERS:\n",
    "            self.number = number\n",
    "        else:\n",
    "            raise ValueError('Please provide correct number')\n",
    "        \n",
    "        self.fio = fio\n",
    "\n",
    "class PhoneBook:\n",
    "    def __init__(self) -> None:\n",
    "        self.phones = []\n",
    "\n",
    "    def add_phone(self, phone):\n",
    "        self.phones.append(phone)\n",
    "\n",
    "    def remove_phone(self, indx):\n",
    "        self.phones.pop(indx)\n",
    "\n",
    "    def get_phone_list(self):\n",
    "        return self.phones"
   ]
  }
 ],
 "metadata": {
  "kernelspec": {
   "display_name": "Python 3.9.12 64-bit",
   "language": "python",
   "name": "python3"
  },
  "language_info": {
   "codemirror_mode": {
    "name": "ipython",
    "version": 3
   },
   "file_extension": ".py",
   "mimetype": "text/x-python",
   "name": "python",
   "nbconvert_exporter": "python",
   "pygments_lexer": "ipython3",
   "version": "3.9.12"
  },
  "orig_nbformat": 4,
  "vscode": {
   "interpreter": {
    "hash": "aee8b7b246df8f9039afb4144a1f6fd8d2ca17a180786b69acc140d282b71a49"
   }
  }
 },
 "nbformat": 4,
 "nbformat_minor": 2
}
