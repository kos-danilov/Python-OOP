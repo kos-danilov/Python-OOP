{
 "cells": [
  {
   "cell_type": "markdown",
   "metadata": {},
   "source": [
    "#6"
   ]
  },
  {
   "cell_type": "code",
   "execution_count": 1,
   "metadata": {},
   "outputs": [],
   "source": [
    "class FloatValue:\n",
    "    @classmethod\n",
    "    def check(cls, value):\n",
    "        if not isinstance(value, float):\n",
    "            raise TypeError(\"Присваивать можно только вещественный тип данных.\")\n",
    "    \n",
    "    def __set_name__(self, owner, name):\n",
    "        self.name = \"_\" + name\n",
    "\n",
    "    def __get__(self, instance, owner):\n",
    "        return getattr(instance, self.name)\n",
    "\n",
    "    def __set__(self, instance, value):\n",
    "        self.check(value)\n",
    "        setattr(instance, self.name, value)\n",
    "\n",
    "class Cell:\n",
    "    value = FloatValue()\n",
    "\n",
    "    def __init__(self, value) -> None:\n",
    "        self.value = value\n",
    "\n",
    "class TableSheet:\n",
    "    def __init__(self, N, M) -> None:\n",
    "        self.cells = [[Cell(0.0) for x in range(M)] for y in range(N)]"
   ]
  },
  {
   "cell_type": "code",
   "execution_count": 2,
   "metadata": {},
   "outputs": [],
   "source": [
    "table = TableSheet(5, 3)\n",
    "curr = 1.0\n",
    "\n",
    "for i in range(5):\n",
    "    for j in range(3):\n",
    "        table.cells[i][j].value = curr\n",
    "        curr += 1"
   ]
  },
  {
   "cell_type": "markdown",
   "metadata": {},
   "source": [
    "#7"
   ]
  },
  {
   "cell_type": "code",
   "execution_count": 3,
   "metadata": {},
   "outputs": [],
   "source": [
    "class ValidateString:\n",
    "    def __init__(self, min_length, max_length) -> None:\n",
    "        self.min_length = min_length\n",
    "        self.max_length = max_length\n",
    "\n",
    "    def validate(self, string):\n",
    "        return isinstance(string, str) and self.min_length <= len(string) <= self.max_length\n",
    "\n",
    "class StringValue:\n",
    "    def __init__(self, validator) -> None:\n",
    "        self.validator = validator\n",
    "        \n",
    "    def __set_name__(self, owner, name):\n",
    "        self.name = \"_\" + name\n",
    "\n",
    "    def __get__(self, instance, owner):\n",
    "        return getattr(instance, self.name)\n",
    "\n",
    "    def __set__(self, instance, value):\n",
    "        if self.validator.validate(value):\n",
    "            setattr(instance, self.name, value)\n",
    "\n",
    "class RegisterForm:\n",
    "    login = StringValue(validator=ValidateString(min_length=3, max_length=100))\n",
    "    password = StringValue(validator=ValidateString(min_length=3, max_length=100))\n",
    "    email = StringValue(validator=ValidateString(min_length=3, max_length=100))\n",
    "\n",
    "    def __init__(self, login, password, email) -> None:\n",
    "        self.login = login\n",
    "        self.password = password\n",
    "        self.email = email\n",
    "\n",
    "    def get_fields(self):\n",
    "        return [self.login, self.password, self.email]\n",
    "\n",
    "    def show(self):\n",
    "        return f'<form>\\nЛогин: {self.login}\\nПароль: {self.password}\\nEmail: {self.email}\\n</form>'"
   ]
  },
  {
   "cell_type": "markdown",
   "metadata": {},
   "source": [
    "#8"
   ]
  },
  {
   "cell_type": "code",
   "execution_count": 4,
   "metadata": {},
   "outputs": [],
   "source": [
    "class StringValue:\n",
    "    def __init__(self, min_length=2, max_length=50) -> None:\n",
    "        self.min_length = min_length\n",
    "        self.max_length = max_length\n",
    "\n",
    "    def validate(self, string):\n",
    "        return isinstance(string, str) and self.min_length <= len(string) <= self.max_length\n",
    "\n",
    "    def __set_name__(self, owner, name):\n",
    "        self.name = \"_\" + name\n",
    "\n",
    "    def __get__(self, instance, owner):\n",
    "        return getattr(instance, self.name)\n",
    "\n",
    "    def __set__(self, instance, value):\n",
    "        if self.validate(value):\n",
    "            setattr(instance, self.name, value)\n",
    "\n",
    "class PriceValue:\n",
    "    MIN_VALUE=0\n",
    "\n",
    "    def __init__(self, max_value=10000) -> None:\n",
    "        self.max_value = max_value\n",
    "\n",
    "    def validate(self, value):\n",
    "        return isinstance(value, (int, float)) and self.MIN_VALUE <= value <= self.max_value\n",
    "\n",
    "    def __set_name__(self, owner, name):\n",
    "        self.name = \"_\" + name\n",
    "\n",
    "    def __get__(self, instance, owner):\n",
    "        return getattr(instance, self.name)\n",
    "\n",
    "    def __set__(self, instance, value):\n",
    "        if self.validate(value):\n",
    "            setattr(instance, self.name, value)\n",
    "\n",
    "class Product:\n",
    "    name = StringValue()\n",
    "    price = PriceValue()\n",
    "\n",
    "    def __init__(self, name, price):\n",
    "        self.name = name\n",
    "        self.price = price\n",
    "\n",
    "class SuperShop:\n",
    "    def __init__(self, name) -> None:\n",
    "        self.name = name\n",
    "        self.goods = []\n",
    "\n",
    "    def add_product(self, product):\n",
    "        self.goods.append(product)\n",
    "\n",
    "    def remove_product(self, product):\n",
    "        if product in self.goods:\n",
    "            self.goods.pop(self.goods.index(product))"
   ]
  },
  {
   "cell_type": "code",
   "execution_count": 5,
   "metadata": {},
   "outputs": [
    {
     "name": "stdout",
     "output_type": "stream",
     "text": [
      "Курс по Python: 0\n",
      "Курс по Python ООП: 2000\n"
     ]
    }
   ],
   "source": [
    "shop = SuperShop(\"У Балакирева\")\n",
    "shop.add_product(Product(\"Курс по Python\", 0))\n",
    "shop.add_product(Product(\"Курс по Python ООП\", 2000))\n",
    "for p in shop.goods:\n",
    "    print(f\"{p.name}: {p.price}\")\n"
   ]
  },
  {
   "cell_type": "markdown",
   "metadata": {},
   "source": [
    "#9"
   ]
  },
  {
   "cell_type": "code",
   "execution_count": 6,
   "metadata": {},
   "outputs": [],
   "source": [
    "class Thing:\n",
    "    def __init__(self, name, weight) -> None:\n",
    "        self.name = name\n",
    "        self.weight = weight\n",
    "\n",
    "class Bag:\n",
    "    def __init__(self, max_weight) -> None:\n",
    "        self.max_weight = max_weight\n",
    "        self.curr_weight = 0\n",
    "        self.__things = []\n",
    "\n",
    "    @property\n",
    "    def things(self):\n",
    "        return self.__things\n",
    "\n",
    "    def add_thing(self, thing):\n",
    "        if thing.weight + self.curr_weight <= self.max_weight:\n",
    "            self.curr_weight += thing.weight\n",
    "            self.__things.append(thing)\n",
    "\n",
    "    def remove_thing(self, indx):\n",
    "        self.curr_weight -= self.__things[indx].weight\n",
    "        self.__things.pop(indx)\n",
    "\n",
    "    def get_total_weight(self):\n",
    "        return self.curr_weight"
   ]
  },
  {
   "cell_type": "code",
   "execution_count": 7,
   "metadata": {},
   "outputs": [
    {
     "name": "stdout",
     "output_type": "stream",
     "text": [
      "Книга по Python: 100\n",
      "Котелок: 500\n",
      "Спички: 20\n",
      "Бумага: 100\n"
     ]
    }
   ],
   "source": [
    "bag = Bag(1000)\n",
    "bag.add_thing(Thing(\"Книга по Python\", 100))\n",
    "bag.add_thing(Thing(\"Котелок\", 500))\n",
    "bag.add_thing(Thing(\"Спички\", 20))\n",
    "bag.add_thing(Thing(\"Бумага\", 100))\n",
    "w = bag.get_total_weight()\n",
    "for t in bag.things:\n",
    "    print(f\"{t.name}: {t.weight}\")\n"
   ]
  },
  {
   "cell_type": "code",
   "execution_count": 8,
   "metadata": {},
   "outputs": [
    {
     "data": {
      "text/plain": [
       "720"
      ]
     },
     "execution_count": 8,
     "metadata": {},
     "output_type": "execute_result"
    }
   ],
   "source": [
    "bag.get_total_weight()"
   ]
  },
  {
   "cell_type": "markdown",
   "metadata": {},
   "source": [
    "#10"
   ]
  },
  {
   "cell_type": "code",
   "execution_count": 9,
   "metadata": {},
   "outputs": [],
   "source": [
    "class Telecast:\n",
    "    def __init__(self, id, name, duration) -> None:\n",
    "        self.__id = id\n",
    "        self.__name = name\n",
    "        self.__duration = duration\n",
    "\n",
    "    @property\n",
    "    def uid(self):\n",
    "        return self.__id\n",
    "\n",
    "    @uid.setter\n",
    "    def uid(self, id):\n",
    "        self.__id = id\n",
    "\n",
    "    @property\n",
    "    def name(self):\n",
    "        return self.__name\n",
    "\n",
    "    @name.setter\n",
    "    def name(self, name):\n",
    "        self.__name = name\n",
    "\n",
    "    @property\n",
    "    def duration(self):\n",
    "        return self.__duration\n",
    "\n",
    "    @duration.setter\n",
    "    def duration(self, duration):\n",
    "        self.__duration = duration\n",
    "    \n",
    "class TVProgram:\n",
    "    def __init__(self, name) -> None:\n",
    "        self.name = name\n",
    "        self.items = []\n",
    "\n",
    "    def add_telecast(self, tl):\n",
    "        self.items.append(tl)\n",
    "\n",
    "    def remove_telecast(self, indx):\n",
    "        for tl in self.items:\n",
    "            if tl.uid == indx:\n",
    "                self.items.remove(tl)\n",
    "                break\n"
   ]
  },
  {
   "cell_type": "code",
   "execution_count": 10,
   "metadata": {},
   "outputs": [
    {
     "name": "stdout",
     "output_type": "stream",
     "text": [
      "Доброе утро: 10000\n",
      "Новости: 2000\n",
      "Интервью с Балакиревым: 20\n"
     ]
    }
   ],
   "source": [
    "pr = TVProgram(\"Первый канал\")\n",
    "pr.add_telecast(Telecast(1, \"Доброе утро\", 10000))\n",
    "pr.add_telecast(Telecast(2, \"Новости\", 2000))\n",
    "pr.add_telecast(Telecast(3, \"Интервью с Балакиревым\", 20))\n",
    "for t in pr.items:\n",
    "    print(f\"{t.name}: {t.duration}\")"
   ]
  }
 ],
 "metadata": {
  "kernelspec": {
   "display_name": "Python 3.9.12 64-bit",
   "language": "python",
   "name": "python3"
  },
  "language_info": {
   "codemirror_mode": {
    "name": "ipython",
    "version": 3
   },
   "file_extension": ".py",
   "mimetype": "text/x-python",
   "name": "python",
   "nbconvert_exporter": "python",
   "pygments_lexer": "ipython3",
   "version": "3.9.12"
  },
  "orig_nbformat": 4,
  "vscode": {
   "interpreter": {
    "hash": "aee8b7b246df8f9039afb4144a1f6fd8d2ca17a180786b69acc140d282b71a49"
   }
  }
 },
 "nbformat": 4,
 "nbformat_minor": 2
}
