{
 "cells": [
  {
   "cell_type": "markdown",
   "metadata": {},
   "source": [
    "#3"
   ]
  },
  {
   "cell_type": "code",
   "execution_count": 2,
   "metadata": {},
   "outputs": [],
   "source": [
    "class Clock:\n",
    "    LOWER_BORDER = 0\n",
    "    UPPER_BORDER = 100000\n",
    "\n",
    "    @classmethod\n",
    "    def __check_time(cls, time):\n",
    "        return cls.LOWER_BORDER <= time <= cls.UPPER_BORDER\n",
    "\n",
    "    def __init__(self, time):\n",
    "        self.__time = 0\n",
    "        if self.__check_time(time):\n",
    "            self.__time = time\n",
    "\n",
    "    def set_time(self, time):\n",
    "        if self.__check_time(time):\n",
    "            self.__time = time\n",
    "\n",
    "    def get_time(self):\n",
    "        return self.__time\n",
    "\n",
    "clock = Clock(4530)"
   ]
  },
  {
   "cell_type": "markdown",
   "metadata": {},
   "source": [
    "#4"
   ]
  },
  {
   "cell_type": "code",
   "execution_count": 9,
   "metadata": {},
   "outputs": [],
   "source": [
    "class Money:\n",
    "    @classmethod\n",
    "    def __check_money(cls, money):\n",
    "        return isinstance(money, int) and money >= 0\n",
    "\n",
    "    def __init__(self, money):\n",
    "        self.__money = 0\n",
    "        if self.__check_money(money):\n",
    "            self.__money = money\n",
    "\n",
    "    def set_money(self, money):\n",
    "        if self.__check_money(money):\n",
    "            self.__money = money\n",
    "\n",
    "    def get_money(self):\n",
    "        return self.__money\n",
    "\n",
    "    def add_money(self, mn):\n",
    "        self.__money += mn.__money\n"
   ]
  },
  {
   "cell_type": "markdown",
   "metadata": {},
   "source": [
    "#6"
   ]
  },
  {
   "cell_type": "code",
   "execution_count": 12,
   "metadata": {},
   "outputs": [],
   "source": [
    "class Book:\n",
    "    def __init__(self, author, title, price):\n",
    "        self.__author = author\n",
    "        self.__title = title\n",
    "        self.__price = price\n",
    "\n",
    "    def set_title(self, title):\n",
    "        self.__title = title\n",
    "\n",
    "    def set_author(self, author):\n",
    "        self.__author = author\n",
    "\n",
    "    def set_price(self, price):\n",
    "        self.__price = price\n",
    "\n",
    "    def get_title(self):\n",
    "        return self.__title\n",
    "\n",
    "    def get_author(self):\n",
    "        return self.__author\n",
    "\n",
    "    def get_price(self):\n",
    "        return self.__price"
   ]
  },
  {
   "cell_type": "markdown",
   "metadata": {},
   "source": [
    "#7"
   ]
  },
  {
   "cell_type": "code",
   "execution_count": 13,
   "metadata": {},
   "outputs": [],
   "source": [
    "class Line:\n",
    "    def __init__(self, x1, y1, x2, y2):\n",
    "        self.set_coords(x1, y1, x2, y2)\n",
    "\n",
    "    def set_coords(self, x1, y1, x2, y2):\n",
    "        self.__x1 = x1\n",
    "        self.__y1 = y1\n",
    "        self.__x2 = x2\n",
    "        self.__y2 = y2\n",
    "\n",
    "    def get_coords(self):\n",
    "        return (self.__x1, self.__y1, self.__x2, self.__y2)\n",
    "\n",
    "    def draw(self):\n",
    "        print(self.__x1, self.__y1, self.__x2, self.__y2, sep=' ')\n"
   ]
  },
  {
   "cell_type": "markdown",
   "metadata": {},
   "source": [
    "#8"
   ]
  },
  {
   "cell_type": "code",
   "execution_count": 24,
   "metadata": {},
   "outputs": [
    {
     "name": "stdout",
     "output_type": "stream",
     "text": [
      "Прямоугольник с координатами: (0, 0) (20, 34)\n"
     ]
    }
   ],
   "source": [
    "class Point:\n",
    "    def __init__(self, x, y):\n",
    "        self.__x = x\n",
    "        self.__y = y\n",
    "\n",
    "    def get_coords(self):\n",
    "        return (self.__x, self.__y)\n",
    "\n",
    "class Rectangle:\n",
    "    def __init__(self, *args):\n",
    "        if len(args) == 2 and isinstance(args[0], Point) and isinstance(args[1], Point):\n",
    "            self.__sp = args[0]\n",
    "            self.__ep = args[1]\n",
    "\n",
    "        if len(args) == 4:\n",
    "            self.__sp = Point(args[0], args[1])\n",
    "            self.__ep = Point(args[2], args[3])\n",
    "\n",
    "    def set_coords(self, sp, ep):\n",
    "        self.__sp = sp\n",
    "        self.__ep = ep\n",
    "        \n",
    "    def get_coords(self):\n",
    "        return (self.__sp, self.__ep)\n",
    "\n",
    "    def draw(self):\n",
    "        print(f'Прямоугольник с координатами: {self.__sp.get_coords()} {self.__ep.get_coords()}')\n",
    "\n",
    "rect = Rectangle(0,0,20,34)\n",
    "Rectangle(0,0,20,34).draw()"
   ]
  },
  {
   "cell_type": "markdown",
   "metadata": {},
   "source": [
    "#9"
   ]
  },
  {
   "cell_type": "code",
   "execution_count": 59,
   "metadata": {},
   "outputs": [],
   "source": [
    "class ObjList:\n",
    "    def __init__(self, data):\n",
    "        self.__data = data\n",
    "        self.__next = None\n",
    "        self.__prev = None\n",
    "\n",
    "    def set_next(self, obj):\n",
    "        self.__next = obj\n",
    "\n",
    "    def set_prev(self, obj):\n",
    "        self.__prev = obj\n",
    "\n",
    "    def get_next(self):\n",
    "        return self.__next\n",
    "\n",
    "    def get_prev(self):\n",
    "        return self.__prev\n",
    "\n",
    "    def set_data(self, data):\n",
    "        self.__data = data\n",
    "    \n",
    "    def get_data(self):\n",
    "        return self.__data\n",
    "    \n",
    "\n",
    "class LinkedList:\n",
    "    def __init__(self):\n",
    "        self.head = None\n",
    "        self.tail = None\n",
    "        \n",
    "    def add_obj(self, obj):\n",
    "        if self.head:\n",
    "            self.tail.set_next(obj)\n",
    "            obj.set_prev(self.tail)\n",
    "            self.tail = obj\n",
    "        else:\n",
    "            self.head = obj\n",
    "            self.tail = obj\n",
    "\n",
    "        # if self.head is None:\n",
    "        #     self.head = obj\n",
    "        #     self.tail = obj\n",
    "        # else:\n",
    "        #     self.tail.set_next(obj)\n",
    "        #     obj.set_prev(self.tail)\n",
    "        #     self.tail = obj\n",
    "\n",
    "    def remove_obj(self):\n",
    "        if self.head == self.tail:\n",
    "            self.head = None\n",
    "            self.tail = None\n",
    "        else:\n",
    "            new_last = self.tail.get_prev()\n",
    "            self.tail.set_prev(None)\n",
    "            new_last.set_next(None)\n",
    "            self.tail = new_last\n",
    "\n",
    "    def get_data(self):\n",
    "        data = []\n",
    "        curr = self.head    \n",
    "        while curr is not None:\n",
    "            data.append(curr.get_data())\n",
    "            curr = curr.get_next()\n",
    "\n",
    "        return data"
   ]
  },
  {
   "cell_type": "code",
   "execution_count": 60,
   "metadata": {},
   "outputs": [
    {
     "data": {
      "text/plain": [
       "['данные 1', 'данные 2', 'данные 3']"
      ]
     },
     "execution_count": 60,
     "metadata": {},
     "output_type": "execute_result"
    }
   ],
   "source": [
    "ob = ObjList(\"данные 1\")\n",
    "lst = LinkedList()\n",
    "lst.add_obj(ObjList(\"данные 1\"))\n",
    "lst.add_obj(ObjList(\"данные 2\"))\n",
    "lst.add_obj(ObjList(\"данные 3\"))\n",
    "res = lst.get_data()  \n",
    "res"
   ]
  },
  {
   "cell_type": "code",
   "execution_count": 61,
   "metadata": {},
   "outputs": [
    {
     "data": {
      "text/plain": [
       "[]"
      ]
     },
     "execution_count": 61,
     "metadata": {},
     "output_type": "execute_result"
    }
   ],
   "source": [
    "ls_one = LinkedList()\n",
    "ls_one.add_obj(ObjList(1))\n",
    "ls_one.remove_obj()\n",
    "ls_one.get_data()"
   ]
  },
  {
   "cell_type": "markdown",
   "metadata": {},
   "source": [
    "#10"
   ]
  },
  {
   "cell_type": "code",
   "execution_count": 78,
   "metadata": {},
   "outputs": [],
   "source": [
    "import string\n",
    "from random import randint, choice\n",
    "\n",
    "class EmailValidator:\n",
    "    ALLOWED_CHARACTERS = string.ascii_letters + string.digits + '@._'\n",
    "\n",
    "    def __new__(cls, *args, **kwargs):\n",
    "        return None\n",
    "\n",
    "    @classmethod\n",
    "    def get_random_email(cls):\n",
    "        rand_len = randint(1, 101)\n",
    "        email_str = ''\n",
    "\n",
    "        for i in range(rand_len):\n",
    "            email_str += choice(cls.ALLOWED_CHARACTERS[:-3])\n",
    "\n",
    "        return email_str + '@gmail.com'\n",
    "\n",
    "\n",
    "\n",
    "    @staticmethod\n",
    "    def __is_email_str(email):\n",
    "        return isinstance(email, str)\n",
    "\n",
    "    @classmethod\n",
    "    def check_email(cls, email):\n",
    "        if not cls.__is_email_str(email):\n",
    "            return False\n",
    "\n",
    "        if not set(email) < set(cls.ALLOWED_CHARACTERS):\n",
    "            return False\n",
    "\n",
    "        splitted = email.split('@')\n",
    "\n",
    "        if len(splitted) != 2:\n",
    "            return False\n",
    "\n",
    "        if len(splitted[0]) > 100:\n",
    "            return False\n",
    "\n",
    "        if len(splitted[1]) > 50:\n",
    "            return False\n",
    "\n",
    "        if '.' not in splitted[1]:\n",
    "            return False\n",
    "\n",
    "        if '..' in email:\n",
    "            return False\n",
    "\n",
    "        return True\n",
    "        \n"
   ]
  },
  {
   "cell_type": "code",
   "execution_count": 79,
   "metadata": {},
   "outputs": [
    {
     "data": {
      "text/plain": [
       "False"
      ]
     },
     "execution_count": 79,
     "metadata": {},
     "output_type": "execute_result"
    }
   ],
   "source": [
    "res = EmailValidator.check_email(\"sc_lib@list_ru\")\n",
    "res"
   ]
  },
  {
   "cell_type": "code",
   "execution_count": 80,
   "metadata": {},
   "outputs": [
    {
     "data": {
      "text/plain": [
       "'HPcc9mwlU0gD1tuV1bglTNrneXbNtPN62TWHfWQuuCJ1aNJ480EfoyDIYGXTK8OCLynxZZnlBlAY4UrK1@gmail.com'"
      ]
     },
     "execution_count": 80,
     "metadata": {},
     "output_type": "execute_result"
    }
   ],
   "source": [
    "EmailValidator.get_random_email()"
   ]
  }
 ],
 "metadata": {
  "kernelspec": {
   "display_name": "Python 3.9.12 64-bit",
   "language": "python",
   "name": "python3"
  },
  "language_info": {
   "codemirror_mode": {
    "name": "ipython",
    "version": 3
   },
   "file_extension": ".py",
   "mimetype": "text/x-python",
   "name": "python",
   "nbconvert_exporter": "python",
   "pygments_lexer": "ipython3",
   "version": "3.9.12"
  },
  "orig_nbformat": 4,
  "vscode": {
   "interpreter": {
    "hash": "aee8b7b246df8f9039afb4144a1f6fd8d2ca17a180786b69acc140d282b71a49"
   }
  }
 },
 "nbformat": 4,
 "nbformat_minor": 2
}
