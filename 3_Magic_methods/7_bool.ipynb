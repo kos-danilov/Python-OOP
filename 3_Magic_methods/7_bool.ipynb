{
 "cells": [
  {
   "cell_type": "markdown",
   "metadata": {},
   "source": [
    "#4"
   ]
  },
  {
   "cell_type": "code",
   "execution_count": 1,
   "metadata": {},
   "outputs": [],
   "source": [
    "class Player:\n",
    "    def __init__(self, name, old, score) -> None:\n",
    "        self.name = name\n",
    "        self.old = old\n",
    "        self.score = score\n",
    "    \n",
    "    def __bool__(self):\n",
    "        return True if self.score > 0 else False"
   ]
  },
  {
   "cell_type": "code",
   "execution_count": 2,
   "metadata": {},
   "outputs": [],
   "source": [
    "# lst_in = list(map(str.strip, sys.stdin.readlines()))\n",
    "lst_in = \"\"\"Балакирев; 34; 2048\n",
    "Mediel; 27; 0\n",
    "Влад; 18; 9012\n",
    "Nina P; 33; 0\"\"\".strip().split('\\n')\n",
    "\n",
    "players = [Player(x.split('; ')[0], int(x.split('; ')[1]), int(x.split('; ')[2])) for x in lst_in]\n",
    "players = list(filter(None, players))"
   ]
  },
  {
   "cell_type": "markdown",
   "metadata": {},
   "source": [
    "#5"
   ]
  },
  {
   "cell_type": "code",
   "execution_count": 14,
   "metadata": {},
   "outputs": [],
   "source": [
    "class MailItem:\n",
    "    def __init__(self, mail_from, title, content) -> None:\n",
    "        self.mail_from = mail_from\n",
    "        self.title = title\n",
    "        self.content = content\n",
    "        self.is_read = False\n",
    "\n",
    "    def set_read(self, fl_read):\n",
    "        self.is_read = fl_read\n",
    "\n",
    "    def __bool__(self):\n",
    "        return self.is_read\n",
    "\n",
    "class MailBox:\n",
    "    def __init__(self) -> None:\n",
    "        self.inbox_list = []\n",
    "\n",
    "    def receive(self):\n",
    "        self.inbox_list = list(map(str.strip, sys.stdin.readlines()))\n",
    "        self.inbox_list = [MailItem(x.split('; ')[0], x.split('; ')[1], x.split('; ')[2]) for x in self.inbox_list]"
   ]
  },
  {
   "cell_type": "code",
   "execution_count": null,
   "metadata": {},
   "outputs": [],
   "source": [
    "mail = MailBox()\n",
    "mail.receive()\n",
    "mail.inbox_list[0].set_read(True)\n",
    "mail.inbox_list[-1].set_read(True)\n",
    "inbox_list_filtered = list(filter(None, mail.inbox_list))"
   ]
  },
  {
   "cell_type": "markdown",
   "metadata": {},
   "source": [
    "#6"
   ]
  },
  {
   "cell_type": "code",
   "execution_count": 15,
   "metadata": {},
   "outputs": [],
   "source": [
    "class Line:\n",
    "    def __init__(self, x1, y1, x2, y2) -> None:\n",
    "        self.x1 = x1\n",
    "        self.x2 = x2\n",
    "        self.y1 = y1\n",
    "        self.y2 = y2\n",
    "    \n",
    "    def __len__(self):\n",
    "        return ((self.x2 - self.x1)**2 + (self.y2 - self.y1)**2)**0.5 >= 1"
   ]
  },
  {
   "cell_type": "markdown",
   "metadata": {},
   "source": [
    "#7"
   ]
  },
  {
   "cell_type": "code",
   "execution_count": 19,
   "metadata": {},
   "outputs": [],
   "source": [
    "class Ellipse:\n",
    "    def __init__(self, *args) -> None:\n",
    "        if args:\n",
    "            self.x1 = args[0]\n",
    "            self.x2 = args[2]\n",
    "            self.y1 = args[1]\n",
    "            self.y2 = args[3]\n",
    "\n",
    "    def __bool__(self):\n",
    "        return True if all([hasattr(self, x) for x in ['x1', 'x2', 'y1', 'y2']]) else False\n",
    "\n",
    "    def get_coords(self):\n",
    "        if all([hasattr(self, x) for x in ['x1', 'x2', 'y1', 'y2']]):\n",
    "            return (self.x1, self.y1, self.x2, self.y2)\n",
    "        else:\n",
    "            raise AttributeError('нет координат для извлечения')\n"
   ]
  },
  {
   "cell_type": "code",
   "execution_count": 27,
   "metadata": {},
   "outputs": [
    {
     "name": "stdout",
     "output_type": "stream",
     "text": [
      "(1, 1, 1, 1)\n",
      "(2, 2, 2, 2)\n"
     ]
    }
   ],
   "source": [
    "lst_geom = [Ellipse(), Ellipse(), Ellipse(1, 1, 1, 1), Ellipse(2, 2, 2, 2)]\n",
    "\n",
    "for geom in lst_geom:\n",
    "    if geom:\n",
    "        print(geom.get_coords())"
   ]
  },
  {
   "cell_type": "markdown",
   "metadata": {},
   "source": [
    "#8"
   ]
  },
  {
   "cell_type": "code",
   "execution_count": 55,
   "metadata": {},
   "outputs": [],
   "source": [
    "from random import randint\n",
    "\n",
    "class Cell:\n",
    "    \"\"\"\n",
    "    Class for describing individual cell\n",
    "    \n",
    "    :param number: int - number of mines around the cell\n",
    "    :param is_mine: bool - True if mine inside the cell\n",
    "    :param is_open: bool - True if cell is open\n",
    "\n",
    "    :method number - setter/getter for number atrribute\n",
    "    :method is_mine - setter/getter for number is_mine\n",
    "    :method is_open - setter/getter for number is_open\n",
    "    :method bool - returns True if cell is not open \n",
    "    \"\"\"\n",
    "    \n",
    "    def __init__(self, number=0, is_mine=False, is_open=False) -> None:\n",
    "        self.number = number\n",
    "        self.is_mine = is_mine\n",
    "        self.is_open = is_open\n",
    "\n",
    "    @property\n",
    "    def number(self):\n",
    "        return self.__number\n",
    "\n",
    "    @number.setter\n",
    "    def number(self, value):\n",
    "        if not 0 <= value <= 8:\n",
    "            raise ValueError(\"недопустимое значение атрибута\")\n",
    "        self.__number = value\n",
    "\n",
    "    @property\n",
    "    def is_mine(self):\n",
    "        return self.__is_mine\n",
    "\n",
    "    @is_mine.setter\n",
    "    def is_mine(self, value):\n",
    "        if type(value) != bool:\n",
    "            raise ValueError(\"недопустимое значение атрибута\")\n",
    "        self.__is_mine = value\n",
    "\n",
    "    @property\n",
    "    def is_open(self):\n",
    "        return self.__is_open\n",
    "\n",
    "    @is_open.setter\n",
    "    def is_open(self, value):\n",
    "        if type(value) != bool:\n",
    "            raise ValueError(\"недопустимое значение атрибута\")\n",
    "        self.__is_open = value\n",
    "\n",
    "    def __bool__(self):\n",
    "        return not self.is_open\n",
    "\n",
    "class GamePole:\n",
    "    \"\"\"\n",
    "    Class for describing GamePole\n",
    "\n",
    "    :param N: int - number of rows\n",
    "    :param M: int - number of columns\n",
    "    :param total_mines: int - number of mines in game\n",
    "\n",
    "    :method pole - returns current pole\n",
    "    :method show_pole - shows current pole in stdout\n",
    "    \"\"\"\n",
    "    __instance = None\n",
    "\n",
    "    # singleton pattern\n",
    "    def __new__(cls,  *args, **kwargs):\n",
    "        if cls.__instance is None:\n",
    "            cls.__instance = super().__new__(cls)\n",
    "            return cls.__instance\n",
    "        \n",
    "        return cls.__instance\n",
    "        \n",
    "    def __init__(self, N, M, total_mines) -> None:\n",
    "        self.N = N\n",
    "        self.M = M\n",
    "        self.total_mines = total_mines\n",
    "        self.init_pole()\n",
    "    \n",
    "    # method for pole initialization\n",
    "    def init_pole(self):\n",
    "        self.__pole_cells = [[Cell() for x in range(self.M)] for y in range(self.N)]\n",
    "\n",
    "        curr_M = self.total_mines\n",
    "\n",
    "        while curr_M != 0:\n",
    "            x = randint(0, self.N-1)\n",
    "            y = randint(0, self.M-1)\n",
    "\n",
    "            if self.__pole_cells[x][y].is_mine:\n",
    "                continue\n",
    "\n",
    "            self.__pole_cells[x][y].is_mine = True\n",
    "            self.update_mines(x, y)\n",
    "            curr_M -= 1\n",
    "\n",
    "    @property\n",
    "    def pole(self):\n",
    "        return self.__pole_cells\n",
    "\n",
    "    # method for updating status of corresponding cells\n",
    "    def update_mines(self, mine_x, mine_y):\n",
    "        for x in [-1, 0, 1]:\n",
    "            for y in [-1, 0, 1]:\n",
    "                if mine_x + x < 0 or mine_y + y < 0:\n",
    "                    continue\n",
    "\n",
    "                if mine_x + x > self.N - 1 or mine_y + y > self.M - 1:\n",
    "                    continue\n",
    "\n",
    "                self.__pole_cells[mine_x + x][mine_y + y].number += 1\n",
    "\n",
    "    def open_cell(self, i, j):\n",
    "        self.__pole_cells[i][j].is_open = True\n",
    "\n",
    "    def show_pole(self):\n",
    "        for row in self.__pole_cells:\n",
    "            for cell in row:\n",
    "                if cell.is_open and cell.is_mine:\n",
    "                    print('*', end=' ')\n",
    "                    continue\n",
    "                \n",
    "                if cell.is_open:\n",
    "                    print(cell.number, end=' ')\n",
    "                    continue\n",
    "\n",
    "                print('#', end=' ')\n",
    "            print('')\n",
    "                \n",
    "\n",
    "    # def show_pole(self):\n",
    "    #     for row in self.__pole_cells:\n",
    "    #         for cell in row:\n",
    "    #             if cell.is_mine:\n",
    "    #                 print('*', end='\\t')\n",
    "    #                 continue\n",
    "    #             print(cell.number, end='\\t')\n",
    "    #         print('')"
   ]
  },
  {
   "cell_type": "code",
   "execution_count": 57,
   "metadata": {},
   "outputs": [
    {
     "name": "stdout",
     "output_type": "stream",
     "text": [
      "1 # # # # \n",
      "1 1 # # # \n",
      "# # # # # \n",
      "# # # # # \n",
      "# # # # 1 \n",
      "# # # # # \n",
      "# # # # # \n",
      "# # # # # \n",
      "# # # # # \n",
      "# # # # # \n"
     ]
    }
   ],
   "source": [
    "pole_game = GamePole(10, 5, 10)\n",
    "pole_game.open_cell(1,1)\n",
    "pole_game.open_cell(0,0)\n",
    "pole_game.open_cell(1,0)\n",
    "pole_game.open_cell(4,4)\n",
    "\n",
    "pole_game.show_pole()"
   ]
  },
  {
   "cell_type": "markdown",
   "metadata": {},
   "source": [
    "#9"
   ]
  },
  {
   "cell_type": "code",
   "execution_count": 62,
   "metadata": {},
   "outputs": [],
   "source": [
    "class Vector:\n",
    "    def __init__(self, *args) -> None:\n",
    "        self.coords = list(args)\n",
    "\n",
    "    def __eq__(self, obj):\n",
    "        return True if len(self.coords) == len(obj.coords) and all ([self.coords[i] == obj.coords[i] for i in range(len(self.coords))]) else False\n",
    "\n",
    "    def __check(self, obj):\n",
    "        if not len(self.coords) == len(obj.coords):\n",
    "            raise ArithmeticError('размерности векторов не совпадают')\n",
    "\n",
    "    def __add__(self, obj):\n",
    "        if type(obj) == Vector:\n",
    "            self.__check(obj)\n",
    "            return Vector(*[self.coords[i] + obj.coords[i] for i in range(len(self.coords))])\n",
    "\n",
    "    def __iadd__(self, obj):\n",
    "        if type(obj) == Vector:\n",
    "            return self + obj\n",
    "\n",
    "        if type(obj) in (int, float):\n",
    "            self.coords = [x + obj for x in self.coords]\n",
    "            return self\n",
    "\n",
    "    def __sub__(self, obj):\n",
    "        if type(obj) == Vector:\n",
    "            self.__check(obj)\n",
    "            return Vector(*[self.coords[i] - obj.coords[i] for i in range(len(self.coords))])\n",
    "\n",
    "    def __isub__(self, obj):\n",
    "        if type(obj) == Vector:\n",
    "            return self - obj\n",
    "\n",
    "        if type(obj) in (int, float):\n",
    "            self.coords = [x - obj for x in self.coords]\n",
    "            return self\n",
    "\n",
    "    def __mul__(self, obj):\n",
    "        self.__check(obj)\n",
    "        return Vector(*[self.coords[i] * obj.coords[i] for i in range(len(self.coords))])"
   ]
  },
  {
   "cell_type": "code",
   "execution_count": 58,
   "metadata": {},
   "outputs": [],
   "source": [
    "a = [1,2,3]\n",
    "b = [1,2,3]"
   ]
  },
  {
   "cell_type": "code",
   "execution_count": 60,
   "metadata": {},
   "outputs": [
    {
     "data": {
      "text/plain": [
       "[True, True, True]"
      ]
     },
     "execution_count": 60,
     "metadata": {},
     "output_type": "execute_result"
    }
   ],
   "source": [
    "[a[i] == b[i] for i in range(len(a))]"
   ]
  },
  {
   "cell_type": "code",
   "execution_count": null,
   "metadata": {},
   "outputs": [],
   "source": []
  }
 ],
 "metadata": {
  "kernelspec": {
   "display_name": "Python 3.9.12 64-bit",
   "language": "python",
   "name": "python3"
  },
  "language_info": {
   "codemirror_mode": {
    "name": "ipython",
    "version": 3
   },
   "file_extension": ".py",
   "mimetype": "text/x-python",
   "name": "python",
   "nbconvert_exporter": "python",
   "pygments_lexer": "ipython3",
   "version": "3.9.12"
  },
  "orig_nbformat": 4,
  "vscode": {
   "interpreter": {
    "hash": "aee8b7b246df8f9039afb4144a1f6fd8d2ca17a180786b69acc140d282b71a49"
   }
  }
 },
 "nbformat": 4,
 "nbformat_minor": 2
}
