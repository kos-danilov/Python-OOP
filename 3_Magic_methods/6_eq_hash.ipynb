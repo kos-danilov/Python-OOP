{
 "cells": [
  {
   "cell_type": "markdown",
   "metadata": {},
   "source": [
    "#4"
   ]
  },
  {
   "cell_type": "code",
   "execution_count": 1,
   "metadata": {},
   "outputs": [],
   "source": [
    "class Rect:\n",
    "    def __init__(self, x, y, width, height) -> None:\n",
    "        self.x = x\n",
    "        self.y = y\n",
    "        self.width = width\n",
    "        self.height = height\n",
    "\n",
    "    def __eq__(self, obj) -> bool:\n",
    "        return self.width == obj.width and self.height == obj.height\n",
    "\n",
    "    def __hash__(self) -> int:\n",
    "        return hash((self.width, self.height))"
   ]
  },
  {
   "cell_type": "code",
   "execution_count": 2,
   "metadata": {},
   "outputs": [
    {
     "name": "stdout",
     "output_type": "stream",
     "text": [
      "5092506917918050556\n",
      "5092506917918050556\n"
     ]
    }
   ],
   "source": [
    "r1 = Rect(10, 5, 100, 50)\n",
    "r2 = Rect(-10, 4, 100, 50)\n",
    "\n",
    "h1, h2 = hash(r1), hash(r2)   # h1 == h2\n",
    "print(h1, h2, sep='\\n')"
   ]
  },
  {
   "cell_type": "markdown",
   "metadata": {},
   "source": [
    "#6"
   ]
  },
  {
   "cell_type": "code",
   "execution_count": 3,
   "metadata": {},
   "outputs": [],
   "source": [
    "class ShopItem:\n",
    "    def __init__(self, name, weight, price) -> None:\n",
    "        self.name = name\n",
    "        self.weight = weight\n",
    "        self.price = price\n",
    "\n",
    "    def __hash__(self):\n",
    "        return hash((self.name.lower(), self.weight, self.price))\n",
    "\n",
    "    def __eq__(self, obj) -> bool:\n",
    "        return hash(self) == hash(obj)"
   ]
  },
  {
   "cell_type": "code",
   "execution_count": 4,
   "metadata": {},
   "outputs": [
    {
     "data": {
      "text/plain": [
       "{<__main__.ShopItem at 0x10a758340>: [<__main__.ShopItem at 0x10a758340>, 1],\n",
       " <__main__.ShopItem at 0x10a758d30>: [<__main__.ShopItem at 0x10a758d30>, 2],\n",
       " <__main__.ShopItem at 0x10a44b160>: [<__main__.ShopItem at 0x10a44b160>, 1]}"
      ]
     },
     "execution_count": 4,
     "metadata": {},
     "output_type": "execute_result"
    }
   ],
   "source": [
    "lst_in = \"\"\"Системный блок: 1500 75890.56\n",
    "Монитор Samsung: 2000 34000\n",
    "Клавиатура: 200.44 545\n",
    "Монитор Samsung: 2000 34000\"\"\".strip().split('\\n')\n",
    "\n",
    "shop_items = {}\n",
    "\n",
    "for item in lst_in:\n",
    "    curr_obj = ShopItem(item.split(':')[0], float(item.split(':')[1].split()[0]), float(item.split(':')[1].split()[1]))\n",
    "    if curr_obj not in shop_items:\n",
    "        shop_items[curr_obj] = [curr_obj, 1]\n",
    "    else:\n",
    "        shop_items[curr_obj][1] += 1\n",
    "\n",
    "shop_items"
   ]
  },
  {
   "cell_type": "markdown",
   "metadata": {},
   "source": [
    "#7"
   ]
  },
  {
   "cell_type": "code",
   "execution_count": 5,
   "metadata": {},
   "outputs": [],
   "source": [
    "class Record:\n",
    "    ID = 1\n",
    "    def __init__(self, fio, descr, old) -> None:\n",
    "        self.fio = fio\n",
    "        self.descr = descr\n",
    "        self.old = old\n",
    "        self.pk = Record.ID\n",
    "        Record.ID += 1\n",
    "\n",
    "    def __hash__(self) -> int:\n",
    "        return hash((self.fio.lower(), self.old))\n",
    "\n",
    "    def __eq__(self, obj) -> bool:\n",
    "        return hash(self) == hash(obj)\n",
    "\n",
    "class DataBase:\n",
    "    def __init__(self, path) -> None:\n",
    "        self.path = path\n",
    "        self.dict_db = {}\n",
    "\n",
    "    def write(self, record):\n",
    "        self.dict_db.setdefault(record, [])\n",
    "        self.dict_db[record].append(record)\n",
    "\n",
    "    def read(self, pk):\n",
    "        for lst in self.dict_db.values():\n",
    "            for obj in lst:\n",
    "                if obj.pk == pk:\n",
    "                    return obj "
   ]
  },
  {
   "cell_type": "code",
   "execution_count": 6,
   "metadata": {},
   "outputs": [
    {
     "data": {
      "text/plain": [
       "{<__main__.Record at 0x110950d00>: [<__main__.Record at 0x110950d00>],\n",
       " <__main__.Record at 0x110950d30>: [<__main__.Record at 0x110950d30>],\n",
       " <__main__.Record at 0x110950220>: [<__main__.Record at 0x110950220>],\n",
       " <__main__.Record at 0x110950340>: [<__main__.Record at 0x110950340>],\n",
       " <__main__.Record at 0x110950160>: [<__main__.Record at 0x110950160>]}"
      ]
     },
     "execution_count": 6,
     "metadata": {},
     "output_type": "execute_result"
    }
   ],
   "source": [
    "lst_in = \"\"\"Балакирев С.М.; программист; 33\n",
    "Кузнецов А.В.; разведчик-нелегал; 35\n",
    "Суворов А.В.; полководец; 42\n",
    "Иванов И.И.; фигурант всех подобных списков; 26\n",
    "Балакирев С.М.; преподаватель; 37\"\"\".strip().split('\\n')\n",
    "\n",
    "db = DataBase('/asd/asd.db')\n",
    "\n",
    "for item in lst_in:\n",
    "    db.write(Record(item.split(';')[0], item.split(';')[1].split()[0], int(item.split(';')[2].split()[0])))\n",
    "\n",
    "db.dict_db"
   ]
  },
  {
   "cell_type": "markdown",
   "metadata": {},
   "source": [
    "#8"
   ]
  },
  {
   "cell_type": "code",
   "execution_count": 7,
   "metadata": {},
   "outputs": [],
   "source": [
    "class BookStudy:\n",
    "    def __init__(self, name, author, year) -> None:\n",
    "        self.name = name\n",
    "        self.author = author\n",
    "        self.year = year\n",
    "\n",
    "    def __hash__(self) -> int:\n",
    "        return hash((self.name.lower(), self.author.lower()))"
   ]
  },
  {
   "cell_type": "code",
   "execution_count": 8,
   "metadata": {},
   "outputs": [],
   "source": [
    "# lst_in = list(map(str.strip, sys.stdin.readlines()))\n",
    "\n",
    "lst_in = \"\"\"Python; Балакирев С.М.; 2020\n",
    "Python ООП; Балакирев С.М.; 2021\n",
    "Python ООП; Балакирев С.М.; 2022\n",
    "Python; Балакирев С.М.; 2021\"\"\".strip().split('\\n')\n",
    "\n",
    "lst_bs = []\n",
    "\n",
    "for item in lst_in:\n",
    "    lst_bs.append(BookStudy(item.split('; ')[0], item.split('; ')[1], int(item.split('; ')[2])))\n",
    "\n",
    "unique_books_dic = {}\n",
    "\n",
    "for book in lst_bs:\n",
    "    unique_books_dic.setdefault(hash(book), 0)\n",
    "    unique_books_dic[hash(book)] += 1\n",
    "\n",
    "unique_books = len(unique_books_dic.keys())"
   ]
  },
  {
   "cell_type": "markdown",
   "metadata": {},
   "source": [
    "#9"
   ]
  },
  {
   "cell_type": "code",
   "execution_count": 9,
   "metadata": {},
   "outputs": [],
   "source": [
    "class Dimensions:\n",
    "    def __init__(self, a, b, c) -> None:\n",
    "        if not all([type(x) in (int, float) and x > 0 for x in (a, b, c)]):\n",
    "            raise ValueError(\"габаритные размеры должны быть положительными числами\")\n",
    "        self.a = a\n",
    "        self.b = b\n",
    "        self.c = c\n",
    "\n",
    "    def __hash__(self) -> int:\n",
    "        return hash((self.a, self.b, self.c))"
   ]
  },
  {
   "cell_type": "code",
   "execution_count": 10,
   "metadata": {},
   "outputs": [
    {
     "data": {
      "text/plain": [
       "[-720341356606421504,\n",
       " 529344067295497451,\n",
       " 529344067295497451,\n",
       " 4077453281647519382]"
      ]
     },
     "execution_count": 10,
     "metadata": {},
     "output_type": "execute_result"
    }
   ],
   "source": [
    "#1 2 3; 4 5 6.78; 1 2 3; 3 1 2.5\n",
    "lst_dims = [Dimensions(float(x.split()[0]), float(x.split()[1]), float(x.split()[2])) for x in input().split('; ')]\n",
    "lst_dims.sort(key=hash)\n",
    "[hash(x) for x in lst_dims]"
   ]
  },
  {
   "cell_type": "markdown",
   "metadata": {},
   "source": [
    "#10"
   ]
  },
  {
   "cell_type": "code",
   "execution_count": 11,
   "metadata": {},
   "outputs": [],
   "source": [
    "class FloatValue:\n",
    "    @classmethod\n",
    "    def check(cls, value):\n",
    "        if type(value) not in (int, float) or value <= 0:\n",
    "            raise ValueError(\"габаритные размеры должны быть положительными числами\")\n",
    "    \n",
    "    def __set_name__(self, owner, name):\n",
    "        self.name = \"_\" + name\n",
    "\n",
    "    def __get__(self, instance, owner):\n",
    "        return getattr(instance, self.name)\n",
    "\n",
    "    def __set__(self, instance, value):\n",
    "        self.check(value)\n",
    "        setattr(instance, self.name, value)\n",
    "\n",
    "class Triangle:\n",
    "    a = FloatValue()\n",
    "    b = FloatValue()\n",
    "    c = FloatValue()\n",
    "\n",
    "    def __init__(self, a, b, c) -> None:\n",
    "        if not (a < b + c and b < a + c and c < a + b):\n",
    "            raise ValueError(\"с указанными длинами нельзя образовать треугольник\")\n",
    "        \n",
    "        self.a = a\n",
    "        self.b = b\n",
    "        self.c = c\n",
    "\n",
    "    def __len__(self):\n",
    "        return int(self.a + self.b + self.c)\n",
    "\n",
    "    def __call__(self):\n",
    "        p = (self.a + self.b + self.c) / 2\n",
    "        return (p * (p-self.a) * (p-self.b) * (p-self.c))**0.5\n",
    "\n",
    "\n"
   ]
  }
 ],
 "metadata": {
  "kernelspec": {
   "display_name": "Python 3.9.12 64-bit",
   "language": "python",
   "name": "python3"
  },
  "language_info": {
   "codemirror_mode": {
    "name": "ipython",
    "version": 3
   },
   "file_extension": ".py",
   "mimetype": "text/x-python",
   "name": "python",
   "nbconvert_exporter": "python",
   "pygments_lexer": "ipython3",
   "version": "3.9.12"
  },
  "orig_nbformat": 4,
  "vscode": {
   "interpreter": {
    "hash": "aee8b7b246df8f9039afb4144a1f6fd8d2ca17a180786b69acc140d282b71a49"
   }
  }
 },
 "nbformat": 4,
 "nbformat_minor": 2
}
