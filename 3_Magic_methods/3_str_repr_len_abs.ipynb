{
 "cells": [
  {
   "cell_type": "markdown",
   "metadata": {},
   "source": [
    "#2"
   ]
  },
  {
   "cell_type": "code",
   "execution_count": 4,
   "metadata": {},
   "outputs": [],
   "source": [
    "import sys\n",
    "\n",
    "class Book:\n",
    "    def __init__(self, title: str, author: str, pages: int) -> None:\n",
    "        self.title = title\n",
    "        self.author = author\n",
    "        self.pages = pages\n",
    "\n",
    "    def __str__(self) -> str:\n",
    "        return f'Книга: {self.title}; {self.author}; {self.pages}'"
   ]
  },
  {
   "cell_type": "code",
   "execution_count": 3,
   "metadata": {},
   "outputs": [
    {
     "name": "stdout",
     "output_type": "stream",
     "text": [
      "Книга: Python ООП; Балакирев С.М.; 1024\n"
     ]
    }
   ],
   "source": [
    "lst_in = ['Python ООП', 'Балакирев С.М.', 1024]\n",
    "book = Book(*lst_in)\n",
    "print(book)"
   ]
  },
  {
   "cell_type": "markdown",
   "metadata": {},
   "source": [
    "#3"
   ]
  },
  {
   "cell_type": "code",
   "execution_count": 13,
   "metadata": {},
   "outputs": [],
   "source": [
    "class Model:\n",
    "    def __init__(self) -> None:\n",
    "        self.dict = None\n",
    "\n",
    "    def query(self, **kwargs):\n",
    "        self.dict = kwargs\n",
    "\n",
    "    def __str__(self) -> str:\n",
    "        if self.dict:\n",
    "            return 'Model: ' + ', '.join([f'{key} = {value}' for key, value in self.dict.items()])\n",
    "\n",
    "        return 'Model'"
   ]
  },
  {
   "cell_type": "markdown",
   "metadata": {},
   "source": [
    "#4"
   ]
  },
  {
   "cell_type": "code",
   "execution_count": 27,
   "metadata": {},
   "outputs": [],
   "source": [
    "class WordString:\n",
    "    def __init__(self, string=None) -> None:\n",
    "        if string:\n",
    "            self.string = string\n",
    "\n",
    "    @property\n",
    "    def string(self):\n",
    "        return self.__string\n",
    "\n",
    "    @string.setter\n",
    "    def string(self, string):\n",
    "        self.__string = string\n",
    "\n",
    "    def __len__(self):\n",
    "        return len(self.string.split())\n",
    "\n",
    "    def __call__(self, indx):\n",
    "        return self.string.split()[indx]"
   ]
  },
  {
   "cell_type": "code",
   "execution_count": 28,
   "metadata": {},
   "outputs": [
    {
     "name": "stdout",
     "output_type": "stream",
     "text": [
      "Курс по Python ООП\n",
      "Число слов: 4; первое слово: Курс\n"
     ]
    }
   ],
   "source": [
    "words = WordString()\n",
    "words.string = \"Курс по Python ООП\"\n",
    "n = len(words)\n",
    "first = \"\" if n == 0 else words(0)\n",
    "print(words.string)\n",
    "print(f\"Число слов: {n}; первое слово: {first}\")"
   ]
  },
  {
   "cell_type": "markdown",
   "metadata": {},
   "source": [
    "#5"
   ]
  },
  {
   "cell_type": "code",
   "execution_count": 84,
   "metadata": {},
   "outputs": [],
   "source": [
    "class ObjList:\n",
    "    def __init__(self, data) -> None:\n",
    "        self.__data = data\n",
    "        self.__prev = None\n",
    "        self.__next = None\n",
    "\n",
    "    @property\n",
    "    def data(self):\n",
    "        return self.__data\n",
    "\n",
    "    @property\n",
    "    def prev(self):\n",
    "        return self.__prev\n",
    "\n",
    "    @prev.setter\n",
    "    def prev(self, obj):\n",
    "        self.__prev = obj\n",
    "\n",
    "    @property\n",
    "    def next(self):\n",
    "        return self.__next\n",
    "\n",
    "    @next.setter\n",
    "    def next(self, obj):\n",
    "        self.__next = obj\n",
    "\n",
    "class LinkedList:\n",
    "    def __init__(self) -> None:\n",
    "        self.head = None\n",
    "        self.tail = None\n",
    "        self.list = []\n",
    "\n",
    "    def add_obj(self, obj):\n",
    "        if self.head:\n",
    "            self.list.append(obj)\n",
    "            self.tail.next = obj\n",
    "            obj.prev = self.tail\n",
    "            self.tail = obj\n",
    "        else:\n",
    "            self.list.append(obj)\n",
    "            self.head = obj\n",
    "            self.tail = obj\n",
    "\n",
    "    def remove_obj(self, indx):\n",
    "        previous = self.list[indx].prev\n",
    "        next = self.list[indx].next\n",
    "        self.list[indx].next = None\n",
    "        self.list[indx].prev = None\n",
    "\n",
    "        if previous and next:\n",
    "            previous.next = next\n",
    "            next.prev = previous\n",
    "        elif previous:\n",
    "            previous.next = None\n",
    "            self.tail = previous\n",
    "        elif next:\n",
    "            self.head = next\n",
    "            next.prev = None\n",
    "        # elif previous is None and next is None:\n",
    "        else:\n",
    "            self.head = None\n",
    "            self.tail = None\n",
    "        \n",
    "        self.list.pop(indx)\n",
    "\n",
    "    def __len__(self):\n",
    "        return len(self.list)\n",
    "\n",
    "    def __call__(self, indx) -> str:\n",
    "        return self.list[indx].data\n"
   ]
  },
  {
   "cell_type": "code",
   "execution_count": 81,
   "metadata": {},
   "outputs": [],
   "source": [
    "linked_lst = LinkedList()\n",
    "linked_lst.add_obj(ObjList(\"Sergey\"))\n",
    "linked_lst.add_obj(ObjList(\"Balakirev\"))\n",
    "linked_lst.add_obj(ObjList(\"Python\"))\n",
    "linked_lst.remove_obj(2)\n",
    "linked_lst.add_obj(ObjList(\"Python ООП\"))\n",
    "n = len(linked_lst)  # n = 3\n",
    "s = linked_lst(1) # s = Balakirev\n"
   ]
  },
  {
   "cell_type": "markdown",
   "metadata": {},
   "source": [
    "#6"
   ]
  },
  {
   "cell_type": "code",
   "execution_count": 95,
   "metadata": {},
   "outputs": [],
   "source": [
    "class Complex:\n",
    "    @classmethod\n",
    "    def checker(cls, value):\n",
    "        if not isinstance(value, (int, float)):\n",
    "            raise ValueError(\"Неверный тип данных.\")\n",
    "\n",
    "    def __init__(self, real, img) -> None:\n",
    "        self.real = real\n",
    "        self.img = img\n",
    "    \n",
    "    @property\n",
    "    def real(self):\n",
    "        return self._real\n",
    "\n",
    "    @real.setter\n",
    "    def real(self, real):\n",
    "        self.checker(real)\n",
    "        self._real = real\n",
    "\n",
    "    @property\n",
    "    def img(self):\n",
    "        return self._img\n",
    "\n",
    "    @img.setter\n",
    "    def img(self, img):\n",
    "        self.checker(img)\n",
    "        self._img = img\n",
    "\n",
    "    def __abs__(self):\n",
    "        return (self.real**2 + self.img**2)**0.5"
   ]
  },
  {
   "cell_type": "code",
   "execution_count": 97,
   "metadata": {},
   "outputs": [],
   "source": [
    "cmp = Complex(7, 8)\n",
    "cmp.real = 3\n",
    "cmp.img = 4\n",
    "c_abs = abs(cmp)"
   ]
  },
  {
   "cell_type": "code",
   "execution_count": 116,
   "metadata": {},
   "outputs": [],
   "source": [
    "class RadiusVector:\n",
    "    def __init__(self, *args) -> None:\n",
    "        if len(args) == 1:\n",
    "            self.vector = [0 for i in range(args[0])]\n",
    "        else:\n",
    "            self.vector = list(args)\n",
    "\n",
    "    def set_coords(self, *args):\n",
    "        for index, coord in enumerate(args[:len(self.vector)]):\n",
    "            self.vector[index] = coord\n",
    "\n",
    "    def get_coords(self):\n",
    "        return self.vector\n",
    "\n",
    "    def __len__(self):\n",
    "        return len(self.vector)\n",
    "\n",
    "    def __abs__(self):\n",
    "        return (sum([coord**2 for coord in self.vector]))**0.5"
   ]
  },
  {
   "cell_type": "code",
   "execution_count": 117,
   "metadata": {},
   "outputs": [
    {
     "name": "stdout",
     "output_type": "stream",
     "text": [
      "(3, -5.6, 8)\n",
      "(3, -5.6, 8, 10, 11)\n",
      "(1, 2)\n"
     ]
    }
   ],
   "source": [
    "vector3D = RadiusVector(3)\n",
    "vector3D.set_coords(3, -5.6, 8)\n",
    "a, b, c = vector3D.get_coords()\n",
    "vector3D.set_coords(3, -5.6, 8, 10, 11) # ошибки быть не должно, последние две координаты игнорируются\n",
    "vector3D.set_coords(1, 2) # ошибки быть не должно, меняются только первые две координаты\n",
    "res_len = len(vector3D) # res_len = 3\n",
    "res_abs = abs(vector3D)\n"
   ]
  },
  {
   "cell_type": "markdown",
   "metadata": {},
   "source": [
    "#8"
   ]
  },
  {
   "cell_type": "code",
   "execution_count": null,
   "metadata": {},
   "outputs": [],
   "source": [
    "class FloatValue:\n",
    "    @classmethod\n",
    "    def check(cls, value):\n",
    "        if not isinstance(value, float):\n",
    "            raise TypeError(\"Присваивать можно только вещественный тип данных.\")\n",
    "    \n",
    "    def __set_name__(self, owner, name):\n",
    "        self.name = \"_\" + name\n",
    "\n",
    "    def __get__(self, instance, owner):\n",
    "        return getattr(instance, self.name)\n",
    "\n",
    "    def __set__(self, instance, value):\n",
    "        self.check(value)\n",
    "        setattr(instance, self.name, value)\n"
   ]
  },
  {
   "cell_type": "code",
   "execution_count": 125,
   "metadata": {},
   "outputs": [],
   "source": [
    "class Clock:\n",
    "    def __init__(self, hours: int, minutes: int, seconds: int) -> None:\n",
    "        self.hours = hours\n",
    "        self.minutes = minutes\n",
    "        self.seconds = seconds\n",
    "\n",
    "    def get_time(self):\n",
    "        return self.hours * 3600 + self.minutes * 60 + self.seconds\n",
    "\n",
    "class DeltaClock:\n",
    "    def __init__(self, clock1: Clock, clock2: Clock) -> None:\n",
    "        self.clock1 = clock1\n",
    "        self.clock2 = clock2\n",
    "        self.diff = clock1.get_time() - clock2.get_time()\n",
    "\n",
    "    def __len__(self):\n",
    "        return 0 if self.diff < 0 else self.diff\n",
    "    \n",
    "    def __repr__(self):\n",
    "        if self.diff < 0:\n",
    "            return f'00: 00: 00'\n",
    "\n",
    "        hours = self.diff // 3600\n",
    "        minutes = (self.diff - hours*3600) // 60\n",
    "        seconds = self.diff - hours*3600 - minutes*60\n",
    "\n",
    "        return f'{hours:02}: {minutes:02}: {seconds:02}'"
   ]
  },
  {
   "cell_type": "code",
   "execution_count": 128,
   "metadata": {},
   "outputs": [
    {
     "name": "stdout",
     "output_type": "stream",
     "text": [
      "01: 30: 00\n"
     ]
    }
   ],
   "source": [
    "dt = DeltaClock(Clock(2, 45, 0), Clock(1, 15, 0))\n",
    "print(dt)\n",
    "len_dt = len(dt)"
   ]
  },
  {
   "cell_type": "markdown",
   "metadata": {},
   "source": [
    "#9"
   ]
  },
  {
   "cell_type": "code",
   "execution_count": 132,
   "metadata": {},
   "outputs": [],
   "source": [
    "class Ingredient:\n",
    "    def __init__(self, name: str, volume: float, measure: str) -> None:\n",
    "        self.name = name\n",
    "        self.volume = volume\n",
    "        self.measure = measure\n",
    "\n",
    "    def __repr__(self) -> str:\n",
    "        return f'{self.name}: {self.volume}, {self.measure}'\n",
    "\n",
    "class Recipe:\n",
    "    def __init__(self, *args) -> None:\n",
    "        self.ingredients = list(args)\n",
    "\n",
    "    def add_ingredient(self, ing):\n",
    "        self.ingredients.append(ing)\n",
    "\n",
    "    def remove_ingredient(self, ing):\n",
    "        self.ingredients.remove(ing)\n",
    "\n",
    "    def get_ingredients(self):\n",
    "        return tuple(self.ingredients)\n",
    "\n",
    "    def __len__(self):\n",
    "        return len(self.ingredients)"
   ]
  },
  {
   "cell_type": "code",
   "execution_count": 133,
   "metadata": {},
   "outputs": [],
   "source": [
    "recipe = Recipe()\n",
    "recipe.add_ingredient(Ingredient(\"Соль\", 1, \"столовая ложка\"))\n",
    "recipe.add_ingredient(Ingredient(\"Мука\", 1, \"кг\"))\n",
    "recipe.add_ingredient(Ingredient(\"Мясо баранины\", 10, \"кг\"))\n",
    "ings = recipe.get_ingredients()\n",
    "n = len(recipe) # n = 3\n"
   ]
  },
  {
   "cell_type": "markdown",
   "metadata": {},
   "source": [
    "#10"
   ]
  },
  {
   "cell_type": "code",
   "execution_count": null,
   "metadata": {},
   "outputs": [],
   "source": [
    "class PolyLine:\n",
    "    def __init__(self, *args) -> None:\n",
    "        self.coords = list(args)\n",
    "\n",
    "    def add_coord(self, x, y):\n",
    "        self.coords.append((x, y))\n",
    "\n",
    "    def remove_coord(self, indx):\n",
    "        self.coords.pop(indx)\n",
    "\n",
    "    def get_coords(self):\n",
    "        return self.coords"
   ]
  },
  {
   "cell_type": "code",
   "execution_count": null,
   "metadata": {},
   "outputs": [],
   "source": []
  },
  {
   "cell_type": "code",
   "execution_count": null,
   "metadata": {},
   "outputs": [],
   "source": [
    "Подвиг 10 (на повторение). Объявите класс PolyLine (полилиния) для представления линии из последовательности прямолинейных сегментов. Объекты этого класса должны создаваться командой:\n",
    "\n",
    "poly = PolyLine(start_coord, coord_2, coord_3, ..., coord_N)\n",
    "Здесь start_coord - координата начала полилинии (кортеж из двух чисел x, y); coord_2, coord_3, ... - последующие координаты точек на плоскости \n",
    "(представленные кортежами), соединенных прямыми линиями.\n",
    "\n",
    "Например:\n",
    "\n",
    "poly = PolyLine((1, 2), (3, 5), (0, 10), (-1, 8))\n",
    "\n",
    "\n",
    "В классе PolyLine должны быть объявлены следующие методы:\n",
    "\n",
    "add_coord(x, y) - добавление новой координаты (в конец);\n",
    "remove_coord(indx) - удаление координаты по индексу (порядковому номеру, начинается с нуля);\n",
    "get_coords() - получение списка координат (в виде списка из кортежей).\n",
    "\n",
    "P.S. На экран ничего выводить не нужно, только объявить класс.\n",
    "\n"
   ]
  },
  {
   "cell_type": "code",
   "execution_count": null,
   "metadata": {},
   "outputs": [],
   "source": []
  }
 ],
 "metadata": {
  "kernelspec": {
   "display_name": "Python 3.9.12 64-bit",
   "language": "python",
   "name": "python3"
  },
  "language_info": {
   "codemirror_mode": {
    "name": "ipython",
    "version": 3
   },
   "file_extension": ".py",
   "mimetype": "text/x-python",
   "name": "python",
   "nbconvert_exporter": "python",
   "pygments_lexer": "ipython3",
   "version": "3.9.12"
  },
  "orig_nbformat": 4,
  "vscode": {
   "interpreter": {
    "hash": "aee8b7b246df8f9039afb4144a1f6fd8d2ca17a180786b69acc140d282b71a49"
   }
  }
 },
 "nbformat": 4,
 "nbformat_minor": 2
}
