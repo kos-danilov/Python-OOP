{
 "cells": [
  {
   "cell_type": "markdown",
   "metadata": {},
   "source": [
    "#3"
   ]
  },
  {
   "cell_type": "code",
   "execution_count": 12,
   "metadata": {},
   "outputs": [],
   "source": [
    "class Book:\n",
    "    attrs = {'title': str, 'author': str, 'pages': int, 'year': int}\n",
    "\n",
    "    def __init__(self, title=\"\", author=\"\", pages=0, year=0) -> None:\n",
    "        self.title = title\n",
    "        self.author = author\n",
    "        self.pages = pages\n",
    "        self.year = year\n",
    "\n",
    "    def __setattr__(self, key, value) -> None:\n",
    "        if key in self.attrs and not isinstance(value, self.attrs[key]):\n",
    "            raise TypeError(\"Неверный тип присваиваемых данных.\")\n",
    "\n",
    "        super().__setattr__(key, value)"
   ]
  },
  {
   "cell_type": "code",
   "execution_count": 13,
   "metadata": {},
   "outputs": [],
   "source": [
    "book = Book(title='Python ООП', author='Сергей Балакирев', pages=123, year=2022)"
   ]
  },
  {
   "cell_type": "markdown",
   "metadata": {},
   "source": [
    "#4"
   ]
  },
  {
   "cell_type": "code",
   "execution_count": 14,
   "metadata": {},
   "outputs": [],
   "source": [
    "class Product:\n",
    "    ID = 1\n",
    "    attrs = {'name': str, 'weight': (int, float), 'price': (int, float)}\n",
    "\n",
    "    @classmethod\n",
    "    def next_id(cls):\n",
    "        cls.ID +=1\n",
    "\n",
    "    def __init__(self, name, weight, price) -> None:\n",
    "        self.id = self.ID\n",
    "        self.name = name\n",
    "        self.weight = weight\n",
    "        self.price = price\n",
    "        self.next_id()\n",
    "\n",
    "    def __setattr__(self, key, value) -> None:\n",
    "        if key in self.attrs and not isinstance(value, self.attrs[key]):\n",
    "            raise TypeError(\"Неверный тип присваиваемых данных.\")\n",
    "\n",
    "        if key in ('weight', 'price') and value < 0:\n",
    "            raise TypeError(\"Неверный тип присваиваемых данных.\")\n",
    "\n",
    "        super().__setattr__(key, value)\n",
    "\n",
    "    def __delattr__(self, item):\n",
    "        if item == 'id':\n",
    "            raise AttributeError(\"Атрибут id удалять запрещено.\")\n",
    "\n",
    "        super().__delattr__(item)\n",
    "    \n",
    "class Shop:\n",
    "    def __init__(self, name) -> None:\n",
    "        self.name = name\n",
    "        self.goods = []\n",
    "\n",
    "    def add_product(self, product):\n",
    "        self.goods.append(product)\n",
    "\n",
    "    def remove_product(self, product):\n",
    "        self.goods.remove(product)"
   ]
  },
  {
   "cell_type": "code",
   "execution_count": 15,
   "metadata": {},
   "outputs": [
    {
     "name": "stdout",
     "output_type": "stream",
     "text": [
      "Python ООП, 100, 1024\n",
      "Python, 150, 512\n"
     ]
    }
   ],
   "source": [
    "shop = Shop(\"Балакирев и К\")\n",
    "book = Product(\"Python ООП\", 100, 1024)\n",
    "shop.add_product(book)\n",
    "shop.add_product(Product(\"Python\", 150, 512))\n",
    "for p in shop.goods:\n",
    "    print(f\"{p.name}, {p.weight}, {p.price}\")"
   ]
  },
  {
   "cell_type": "markdown",
   "metadata": {},
   "source": [
    "#5"
   ]
  },
  {
   "cell_type": "code",
   "execution_count": 19,
   "metadata": {},
   "outputs": [],
   "source": [
    "class LessonItem:\n",
    "    attr = {'title': str, 'practices': int, 'duration': int}\n",
    "\n",
    "    def __init__(self, title: str, practices: int, duration: int) -> None:\n",
    "        self.title = title\n",
    "        self.practices = practices\n",
    "        self.duration = duration\n",
    "\n",
    "    def __setattr__(self, key: str, value) -> None:\n",
    "        if key in self.attr and not isinstance(value, self.attr[key]):\n",
    "            raise TypeError(\"Неверный тип присваиваемых данных.\")\n",
    "        \n",
    "        if key in ('practices', 'duration') and value < 0:\n",
    "            raise TypeError(\"Неверный тип присваиваемых данных.\")\n",
    "\n",
    "        super().__setattr__(key, value)\n",
    "\n",
    "    def __getattr__(self, item: str):\n",
    "        return False\n",
    "    \n",
    "    def __delattr__(self, item: str) -> None:\n",
    "        if item in self.attr:\n",
    "            raise AttributeError('Cannot delete attribute')\n",
    "        \n",
    "        super().__setattr__(item)\n",
    "    \n",
    "class Module:\n",
    "    def __init__(self, name) -> None:\n",
    "        self.name = name\n",
    "        self.lessons = []\n",
    "\n",
    "    def add_lesson(self, lesson):\n",
    "        self.lessons.append(lesson)\n",
    "\n",
    "    def remove_lesson(self, indx):\n",
    "        self.lessons.pop(indx)\n",
    "\n",
    "class Course:\n",
    "    def __init__(self, name) -> None:\n",
    "        self.name = name\n",
    "        self.modules = []\n",
    "\n",
    "    def add_module(self, module):\n",
    "        self.modules.append(module)\n",
    "\n",
    "    def remove_module(self, indx):\n",
    "        self.modules.pop(indx)"
   ]
  },
  {
   "cell_type": "code",
   "execution_count": 20,
   "metadata": {},
   "outputs": [],
   "source": [
    "course = Course(\"Python ООП\")\n",
    "module_1 = Module(\"Часть первая\")\n",
    "module_1.add_lesson(LessonItem(\"Урок 1\", 7, 1000))\n",
    "module_1.add_lesson(LessonItem(\"Урок 2\", 10, 1200))\n",
    "module_1.add_lesson(LessonItem(\"Урок 3\", 5, 800))\n",
    "course.add_module(module_1)\n",
    "module_2 = Module(\"Часть вторая\")\n",
    "module_2.add_lesson(LessonItem(\"Урок 1\", 7, 1000))\n",
    "module_2.add_lesson(LessonItem(\"Урок 2\", 10, 1200))\n",
    "course.add_module(module_2)"
   ]
  },
  {
   "cell_type": "markdown",
   "metadata": {},
   "source": [
    "#6"
   ]
  },
  {
   "cell_type": "code",
   "execution_count": 21,
   "metadata": {},
   "outputs": [],
   "source": [
    "class Picture:\n",
    "    def __init__(self, name: str, author: str, descr: str) -> None:\n",
    "        self.name = name\n",
    "        self.author = author\n",
    "        self.descr = descr\n",
    "\n",
    "class Mummies:\n",
    "    def __init__(self, name: str, location: str, descr: str) -> None:\n",
    "        self.name = name\n",
    "        self.location = location\n",
    "        self.descr = descr\n",
    "\n",
    "class Papyri:\n",
    "    def __init__(self, name: str, date: str, descr: str) -> None:\n",
    "        self.name = name\n",
    "        self.date = date\n",
    "        self.descr = descr\n",
    "\n",
    "class Museum:\n",
    "    def __init__(self, name: str) -> None:\n",
    "        self.name = name\n",
    "        self.exhibits = []\n",
    "\n",
    "    def add_exhibit(self, obj):\n",
    "        self.exhibits.append(obj)\n",
    "\n",
    "    def remove_exhibit(self, obj):\n",
    "        self.exhibits.remove(obj)\n",
    "\n",
    "    def get_info_exhibit(self, indx):\n",
    "        return f'Описание экспоната {self.exhibits[indx].name}: {self.exhibits[indx].descr}'"
   ]
  },
  {
   "cell_type": "code",
   "execution_count": 22,
   "metadata": {},
   "outputs": [
    {
     "name": "stdout",
     "output_type": "stream",
     "text": [
      "Вдохновляющая, устрашающая, волнующая картина\n",
      "Просветитель XXI века, удостоенный мумификации\n",
      "Самое древнее найденное рукописное свидетельство о языках программирования\n"
     ]
    }
   ],
   "source": [
    "mus = Museum(\"Эрмитаж\")\n",
    "mus.add_exhibit(Picture(\"Балакирев с подписчиками пишет письмо иноземному султану\", \"Неизвестный автор\", \"Вдохновляющая, устрашающая, волнующая картина\"))\n",
    "mus.add_exhibit(Mummies(\"Балакирев\", \"Древняя Россия\", \"Просветитель XXI века, удостоенный мумификации\"))\n",
    "p = Papyri(\"Ученья для, не злата ради\", \"Древняя Россия\", \"Самое древнее найденное рукописное свидетельство о языках программирования\")\n",
    "mus.add_exhibit(p)\n",
    "for x in mus.exhibits:\n",
    "    print(x.descr)\n"
   ]
  },
  {
   "cell_type": "markdown",
   "metadata": {},
   "source": [
    "#7"
   ]
  },
  {
   "cell_type": "code",
   "execution_count": 31,
   "metadata": {},
   "outputs": [],
   "source": [
    "class AppVK:\n",
    "    def __init__(self) -> None:\n",
    "        self.name = 'ВКонтакте'\n",
    "\n",
    "class AppYouTube:\n",
    "    def __init__(self, memory_max=1024) -> None:\n",
    "        self.name = 'YouTube'\n",
    "        self.memory_max = memory_max\n",
    "\n",
    "class AppPhone:\n",
    "    def __init__(self, phone_list: dict) -> None:\n",
    "        self.name = 'Phone'\n",
    "        self.phone_list = phone_list\n",
    "\n",
    "class SmartPhone:\n",
    "    def __init__(self, model: str) -> None:\n",
    "        self.model = model\n",
    "        self.apps = []\n",
    "\n",
    "    def add_app(self, app):\n",
    "        if not isinstance(app, tuple([type(x) for x in self.apps])):\n",
    "            self.apps.append(app)\n",
    "\n",
    "    def remove_app(self, app):\n",
    "        self.apps.remove(app)"
   ]
  },
  {
   "cell_type": "code",
   "execution_count": 32,
   "metadata": {},
   "outputs": [
    {
     "name": "stdout",
     "output_type": "stream",
     "text": [
      "ВКонтакте\n",
      "YouTube\n"
     ]
    }
   ],
   "source": [
    "sm = SmartPhone(\"Honor 1.0\")\n",
    "sm.add_app(AppVK())\n",
    "sm.add_app(AppVK())  # второй раз добавляться не должно\n",
    "sm.add_app(AppYouTube(2048))\n",
    "for a in sm.apps:\n",
    "    print(a.name)\n"
   ]
  },
  {
   "cell_type": "markdown",
   "metadata": {},
   "source": [
    "#8"
   ]
  },
  {
   "cell_type": "code",
   "execution_count": 79,
   "metadata": {},
   "outputs": [],
   "source": [
    "class Circle:\n",
    "    def __init__(self, x, y, radius) -> None:\n",
    "        self.x = x\n",
    "        self.y = y\n",
    "        self.radius = radius\n",
    "\n",
    "    @property\n",
    "    def x(self):\n",
    "        return self.__x\n",
    "\n",
    "    @x.setter\n",
    "    def x(self, value):\n",
    "        self.__x = value\n",
    "\n",
    "    @property\n",
    "    def y(self):\n",
    "        return self.__y\n",
    "\n",
    "    @y.setter\n",
    "    def y(self, value):\n",
    "        self.__y = value\n",
    "\n",
    "    @property\n",
    "    def radius(self):\n",
    "        return self.__radius\n",
    "\n",
    "    @radius.setter\n",
    "    def radius(self, value):\n",
    "        self.__radius = value\n",
    "\n",
    "    def __setattr__(self, key, value):\n",
    "        if key in ('x', 'y', 'radius') and not isinstance(value, (int, float)):\n",
    "            raise TypeError(\"Неверный тип присваиваемых данных.\")\n",
    "\n",
    "        if key != 'radius':\n",
    "            super().__setattr__(key, value)\n",
    "\n",
    "        if key == 'radius' and value > 0:\n",
    "            super().__setattr__(key, value)\n",
    "\n",
    "    def __getattr__(self, item):\n",
    "        return False"
   ]
  },
  {
   "cell_type": "code",
   "execution_count": 81,
   "metadata": {},
   "outputs": [],
   "source": [
    "circle = Circle(10.5, 7, 22)\n",
    "circle.radius = -10 # прежнее значение не должно меняться, т.к. отрицательный радиус недопустим\n",
    "x, y = circle.x, circle.y\n",
    "res = circle.name # False, т.к. атрибут name не существует\n"
   ]
  },
  {
   "cell_type": "markdown",
   "metadata": {},
   "source": [
    "#9"
   ]
  },
  {
   "cell_type": "code",
   "execution_count": 97,
   "metadata": {},
   "outputs": [],
   "source": [
    "class Dimensions:\n",
    "    MIN_DIMENSION = 10\n",
    "    MAX_DIMENSION = 1000\n",
    "\n",
    "    def __init__(self, a, b, c) -> None:\n",
    "        self.a = a\n",
    "        self.b = b\n",
    "        self.c = c\n",
    "\n",
    "    @property\n",
    "    def a(self):\n",
    "        return self.__a\n",
    "\n",
    "    @a.setter\n",
    "    def a(self, value):\n",
    "        self.__a = value\n",
    "\n",
    "    @property\n",
    "    def b(self):\n",
    "        return self.__b\n",
    "\n",
    "    @b.setter\n",
    "    def b(self, value):\n",
    "        self.__b = value\n",
    "\n",
    "    @property\n",
    "    def c(self):\n",
    "        return self.__c\n",
    "\n",
    "    @c.setter\n",
    "    def c(self, value):\n",
    "        self.__c = value\n",
    "\n",
    "    def __setattr__(self, key, value):\n",
    "        if key in ('MIN_DIMENSION', 'MAX_DIMENSION'):\n",
    "            raise AttributeError(\"Менять атрибуты MIN_DIMENSION и MAX_DIMENSION запрещено.\")\n",
    "\n",
    "        if self.MIN_DIMENSION <= value <= self.MAX_DIMENSION:\n",
    "            super().__setattr__(key, value)"
   ]
  },
  {
   "cell_type": "code",
   "execution_count": 100,
   "metadata": {},
   "outputs": [
    {
     "ename": "AttributeError",
     "evalue": "Менять атрибуты MIN_DIMENSION и MAX_DIMENSION запрещено.",
     "output_type": "error",
     "traceback": [
      "\u001b[0;31m---------------------------------------------------------------------------\u001b[0m",
      "\u001b[0;31mAttributeError\u001b[0m                            Traceback (most recent call last)",
      "\u001b[1;32m/Users/konstantin/Documents/Courses/Python_OOP/3_Magic_methods/1_setattr_getattribute_getattr_delattr.ipynb Ячейка 21\u001b[0m in \u001b[0;36m<cell line: 5>\u001b[0;34m()\u001b[0m\n\u001b[1;32m      <a href='vscode-notebook-cell:/Users/konstantin/Documents/Courses/Python_OOP/3_Magic_methods/1_setattr_getattribute_getattr_delattr.ipynb#X42sZmlsZQ%3D%3D?line=2'>3</a>\u001b[0m d\u001b[39m.\u001b[39mb \u001b[39m=\u001b[39m \u001b[39m15\u001b[39m\n\u001b[1;32m      <a href='vscode-notebook-cell:/Users/konstantin/Documents/Courses/Python_OOP/3_Magic_methods/1_setattr_getattribute_getattr_delattr.ipynb#X42sZmlsZQ%3D%3D?line=3'>4</a>\u001b[0m a, b, c \u001b[39m=\u001b[39m d\u001b[39m.\u001b[39ma, d\u001b[39m.\u001b[39mb, d\u001b[39m.\u001b[39mc  \u001b[39m# a=10.5, b=15, c=30\u001b[39;00m\n\u001b[0;32m----> <a href='vscode-notebook-cell:/Users/konstantin/Documents/Courses/Python_OOP/3_Magic_methods/1_setattr_getattribute_getattr_delattr.ipynb#X42sZmlsZQ%3D%3D?line=4'>5</a>\u001b[0m d\u001b[39m.\u001b[39mMAX_DIMENSION \u001b[39m=\u001b[39m \u001b[39m10\u001b[39m\n",
      "\u001b[1;32m/Users/konstantin/Documents/Courses/Python_OOP/3_Magic_methods/1_setattr_getattribute_getattr_delattr.ipynb Ячейка 21\u001b[0m in \u001b[0;36mDimensions.__setattr__\u001b[0;34m(self, key, value)\u001b[0m\n\u001b[1;32m     <a href='vscode-notebook-cell:/Users/konstantin/Documents/Courses/Python_OOP/3_Magic_methods/1_setattr_getattribute_getattr_delattr.ipynb#X42sZmlsZQ%3D%3D?line=33'>34</a>\u001b[0m \u001b[39mdef\u001b[39;00m \u001b[39m__setattr__\u001b[39m(\u001b[39mself\u001b[39m, key, value):\n\u001b[1;32m     <a href='vscode-notebook-cell:/Users/konstantin/Documents/Courses/Python_OOP/3_Magic_methods/1_setattr_getattribute_getattr_delattr.ipynb#X42sZmlsZQ%3D%3D?line=34'>35</a>\u001b[0m     \u001b[39mif\u001b[39;00m key \u001b[39min\u001b[39;00m (\u001b[39m'\u001b[39m\u001b[39mMIN_DIMENSION\u001b[39m\u001b[39m'\u001b[39m, \u001b[39m'\u001b[39m\u001b[39mMAX_DIMENSION\u001b[39m\u001b[39m'\u001b[39m):\n\u001b[0;32m---> <a href='vscode-notebook-cell:/Users/konstantin/Documents/Courses/Python_OOP/3_Magic_methods/1_setattr_getattribute_getattr_delattr.ipynb#X42sZmlsZQ%3D%3D?line=35'>36</a>\u001b[0m         \u001b[39mraise\u001b[39;00m \u001b[39mAttributeError\u001b[39;00m(\u001b[39m\"\u001b[39m\u001b[39mМенять атрибуты MIN_DIMENSION и MAX_DIMENSION запрещено.\u001b[39m\u001b[39m\"\u001b[39m)\n\u001b[1;32m     <a href='vscode-notebook-cell:/Users/konstantin/Documents/Courses/Python_OOP/3_Magic_methods/1_setattr_getattribute_getattr_delattr.ipynb#X42sZmlsZQ%3D%3D?line=37'>38</a>\u001b[0m     \u001b[39mif\u001b[39;00m \u001b[39mself\u001b[39m\u001b[39m.\u001b[39mMIN_DIMENSION \u001b[39m<\u001b[39m\u001b[39m=\u001b[39m value \u001b[39m<\u001b[39m\u001b[39m=\u001b[39m \u001b[39mself\u001b[39m\u001b[39m.\u001b[39mMAX_DIMENSION:\n\u001b[1;32m     <a href='vscode-notebook-cell:/Users/konstantin/Documents/Courses/Python_OOP/3_Magic_methods/1_setattr_getattribute_getattr_delattr.ipynb#X42sZmlsZQ%3D%3D?line=38'>39</a>\u001b[0m         \u001b[39msuper\u001b[39m()\u001b[39m.\u001b[39m\u001b[39m__setattr__\u001b[39m(key, value)\n",
      "\u001b[0;31mAttributeError\u001b[0m: Менять атрибуты MIN_DIMENSION и MAX_DIMENSION запрещено."
     ]
    }
   ],
   "source": [
    "d = Dimensions(10.5, 20.1, 30)\n",
    "d.a = 8\n",
    "d.b = 15\n",
    "a, b, c = d.a, d.b, d.c  # a=10.5, b=15, c=30\n",
    "d.MAX_DIMENSION = 10  # исключение AttributeError\n"
   ]
  },
  {
   "cell_type": "markdown",
   "metadata": {},
   "source": [
    "#10"
   ]
  },
  {
   "cell_type": "code",
   "execution_count": 124,
   "metadata": {},
   "outputs": [],
   "source": [
    "import time\n",
    "\n",
    "class Mechanical:\n",
    "    def __init__(self, date) -> None:\n",
    "        self.date = date\n",
    "\n",
    "    def __setattr__(self, key, value) -> None:\n",
    "        if key not in self.__dict__:\n",
    "            super().__setattr__(key, value)\n",
    "\n",
    "class Aragon:\n",
    "    def __init__(self, date) -> None:\n",
    "        self.date = date\n",
    "\n",
    "    def __setattr__(self, key, value) -> None:\n",
    "        if key not in self.__dict__:\n",
    "            super().__setattr__(key, value)\n",
    "\n",
    "class Calcium:\n",
    "    def __init__(self, date) -> None:\n",
    "        self.date = date\n",
    "\n",
    "    def __setattr__(self, key, value) -> None:\n",
    "        if key not in self.__dict__:\n",
    "            super().__setattr__(key, value)\n",
    "\n",
    "class GeyserClassic:\n",
    "    MAX_DATE_FILTER=100\n",
    "    slots_correspondence = {1: Mechanical, 2: Aragon, 3: Calcium}\n",
    "\n",
    "    def __init__(self) -> None:\n",
    "        self.slots = {1: None, 2: None, 3: None}\n",
    "\n",
    "    def add_filter(self, slot_num, filter):\n",
    "        if self.slots[slot_num] is None and type(filter) == self.slots_correspondence[slot_num]:\n",
    "            self.slots[slot_num] = filter\n",
    "\n",
    "    def remove_filter(self, slot_num):\n",
    "        self.slots[slot_num] = None\n",
    "\n",
    "    def get_filters(self):\n",
    "        return (self.slots[1], self.slots[2], self.slots[3])\n",
    "\n",
    "    def water_on(self):\n",
    "        if None in self.slots.values() or not all([0 <= (time.time() - filter.date) <= self.MAX_DATE_FILTER for filter in self.slots.values()]):\n",
    "            return False\n",
    "        \n",
    "        return True\n"
   ]
  },
  {
   "cell_type": "code",
   "execution_count": 125,
   "metadata": {},
   "outputs": [],
   "source": [
    "my_water = GeyserClassic()\n",
    "my_water.add_filter(1, Mechanical(time.time()))\n",
    "my_water.add_filter(2, Aragon(time.time()))\n",
    "w = my_water.water_on() # False\n",
    "my_water.add_filter(3, Calcium(time.time()))\n",
    "w = my_water.water_on() # True\n",
    "f1, f2, f3 = my_water.get_filters()  # f1, f2, f3 - ссылки на соответствующие объекты классов фильтров\n",
    "my_water.add_filter(3, Calcium(time.time())) # повторное добавление в занятый слот невозможно\n",
    "my_water.add_filter(2, Calcium(time.time())) # добавление в \"чужой\" слот также невозможно\n"
   ]
  },
  {
   "cell_type": "code",
   "execution_count": null,
   "metadata": {},
   "outputs": [],
   "source": [
    "time.time() - date"
   ]
  },
  {
   "cell_type": "code",
   "execution_count": null,
   "metadata": {},
   "outputs": [],
   "source": [
    "all"
   ]
  },
  {
   "cell_type": "code",
   "execution_count": 106,
   "metadata": {},
   "outputs": [
    {
     "data": {
      "text/plain": [
       "True"
      ]
     },
     "execution_count": 106,
     "metadata": {},
     "output_type": "execute_result"
    }
   ],
   "source": [
    "None in {1: None, 2: None, 3: None}.values() "
   ]
  },
  {
   "cell_type": "code",
   "execution_count": 103,
   "metadata": {},
   "outputs": [
    {
     "data": {
      "text/plain": [
       "1664406127.0409238"
      ]
     },
     "execution_count": 103,
     "metadata": {},
     "output_type": "execute_result"
    }
   ],
   "source": [
    "import time\n",
    "time.time()"
   ]
  },
  {
   "cell_type": "code",
   "execution_count": 101,
   "metadata": {},
   "outputs": [
    {
     "data": {
      "text/plain": [
       "False"
      ]
     },
     "execution_count": 101,
     "metadata": {},
     "output_type": "execute_result"
    }
   ],
   "source": [
    "isinstance(int, int)"
   ]
  },
  {
   "cell_type": "code",
   "execution_count": null,
   "metadata": {},
   "outputs": [],
   "source": []
  }
 ],
 "metadata": {
  "kernelspec": {
   "display_name": "Python 3.9.12 64-bit",
   "language": "python",
   "name": "python3"
  },
  "language_info": {
   "codemirror_mode": {
    "name": "ipython",
    "version": 3
   },
   "file_extension": ".py",
   "mimetype": "text/x-python",
   "name": "python",
   "nbconvert_exporter": "python",
   "pygments_lexer": "ipython3",
   "version": "3.9.12"
  },
  "orig_nbformat": 4,
  "vscode": {
   "interpreter": {
    "hash": "aee8b7b246df8f9039afb4144a1f6fd8d2ca17a180786b69acc140d282b71a49"
   }
  }
 },
 "nbformat": 4,
 "nbformat_minor": 2
}
