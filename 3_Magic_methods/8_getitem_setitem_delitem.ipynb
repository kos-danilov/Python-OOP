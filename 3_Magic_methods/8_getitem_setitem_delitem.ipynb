{
 "cells": [
  {
   "cell_type": "markdown",
   "metadata": {},
   "source": [
    "#2"
   ]
  },
  {
   "cell_type": "code",
   "execution_count": 39,
   "metadata": {},
   "outputs": [],
   "source": [
    "class Record:\n",
    "    def __init__(self, **kwargs) -> None:\n",
    "        self.__dict__.update(kwargs)\n",
    "        self.lst = list(kwargs)\n",
    "\n",
    "    def __getitem__(self, item):\n",
    "        if type(item) is int and 0 <= item < len(self.lst):\n",
    "            return self.__dict__[self.lst[item]]\n",
    "        raise IndexError('неверный индекс поля')\n",
    "\n",
    "    def __setitem__(self, key, value):\n",
    "        if type(key) is int and 0 <= key < len(self.lst):\n",
    "            self.__dict__[self.lst[key]] = value\n",
    "        else:\n",
    "            raise IndexError('неверный индекс поля')"
   ]
  },
  {
   "cell_type": "code",
   "execution_count": 40,
   "metadata": {},
   "outputs": [
    {
     "name": "stdout",
     "output_type": "stream",
     "text": [
      "Супер курс по ООП\n"
     ]
    },
    {
     "ename": "IndexError",
     "evalue": "неверный индекс поля",
     "output_type": "error",
     "traceback": [
      "\u001b[0;31m---------------------------------------------------------------------------\u001b[0m",
      "\u001b[0;31mIndexError\u001b[0m                                Traceback (most recent call last)",
      "\u001b[1;32m/Users/konstantin/Documents/Courses/Python_OOP/3_Magic_methods/8_getitem_setitem_delitem.ipynb Ячейка 3\u001b[0m in \u001b[0;36m<cell line: 6>\u001b[0;34m()\u001b[0m\n\u001b[1;32m      <a href='vscode-notebook-cell:/Users/konstantin/Documents/Courses/Python_OOP/3_Magic_methods/8_getitem_setitem_delitem.ipynb#X11sZmlsZQ%3D%3D?line=3'>4</a>\u001b[0m r[\u001b[39m2\u001b[39m] \u001b[39m=\u001b[39m \u001b[39m'\u001b[39m\u001b[39mБалакирев С.М.\u001b[39m\u001b[39m'\u001b[39m \u001b[39m# доступ к полю author\u001b[39;00m\n\u001b[1;32m      <a href='vscode-notebook-cell:/Users/konstantin/Documents/Courses/Python_OOP/3_Magic_methods/8_getitem_setitem_delitem.ipynb#X11sZmlsZQ%3D%3D?line=4'>5</a>\u001b[0m \u001b[39mprint\u001b[39m(r[\u001b[39m1\u001b[39m]) \u001b[39m# Супер курс по ООП\u001b[39;00m\n\u001b[0;32m----> <a href='vscode-notebook-cell:/Users/konstantin/Documents/Courses/Python_OOP/3_Magic_methods/8_getitem_setitem_delitem.ipynb#X11sZmlsZQ%3D%3D?line=5'>6</a>\u001b[0m r[\u001b[39m3\u001b[39;49m]\n",
      "\u001b[1;32m/Users/konstantin/Documents/Courses/Python_OOP/3_Magic_methods/8_getitem_setitem_delitem.ipynb Ячейка 3\u001b[0m in \u001b[0;36mRecord.__getitem__\u001b[0;34m(self, item)\u001b[0m\n\u001b[1;32m      <a href='vscode-notebook-cell:/Users/konstantin/Documents/Courses/Python_OOP/3_Magic_methods/8_getitem_setitem_delitem.ipynb#X11sZmlsZQ%3D%3D?line=6'>7</a>\u001b[0m \u001b[39mif\u001b[39;00m \u001b[39mtype\u001b[39m(item) \u001b[39mis\u001b[39;00m \u001b[39mint\u001b[39m \u001b[39mand\u001b[39;00m \u001b[39m0\u001b[39m \u001b[39m<\u001b[39m\u001b[39m=\u001b[39m item \u001b[39m<\u001b[39m \u001b[39mlen\u001b[39m(\u001b[39mself\u001b[39m\u001b[39m.\u001b[39mlst):\n\u001b[1;32m      <a href='vscode-notebook-cell:/Users/konstantin/Documents/Courses/Python_OOP/3_Magic_methods/8_getitem_setitem_delitem.ipynb#X11sZmlsZQ%3D%3D?line=7'>8</a>\u001b[0m     \u001b[39mreturn\u001b[39;00m \u001b[39mself\u001b[39m\u001b[39m.\u001b[39m\u001b[39m__dict__\u001b[39m[\u001b[39mself\u001b[39m\u001b[39m.\u001b[39mlst[item]]\n\u001b[0;32m----> <a href='vscode-notebook-cell:/Users/konstantin/Documents/Courses/Python_OOP/3_Magic_methods/8_getitem_setitem_delitem.ipynb#X11sZmlsZQ%3D%3D?line=8'>9</a>\u001b[0m \u001b[39mraise\u001b[39;00m \u001b[39mIndexError\u001b[39;00m(\u001b[39m'\u001b[39m\u001b[39mневерный индекс поля\u001b[39m\u001b[39m'\u001b[39m)\n",
      "\u001b[0;31mIndexError\u001b[0m: неверный индекс поля"
     ]
    }
   ],
   "source": [
    "r = Record(pk=1, title='Python ООП', author='Балакирев')\n",
    "r[0] = 2 # доступ к полю pk\n",
    "r[1] = 'Супер курс по ООП' # доступ к полю title\n",
    "r[2] = 'Балакирев С.М.' # доступ к полю author\n",
    "print(r[1]) # Супер курс по ООП\n",
    "r[3] # генерируется исключение IndexError"
   ]
  },
  {
   "cell_type": "markdown",
   "metadata": {},
   "source": [
    "#3"
   ]
  },
  {
   "cell_type": "code",
   "execution_count": 51,
   "metadata": {},
   "outputs": [],
   "source": [
    "class Track:\n",
    "    def __init__(self, start_x, start_y) -> None:\n",
    "        self.start_x = start_x\n",
    "        self.start_y = start_y\n",
    "        self.points = []\n",
    "\n",
    "    def add_point(self, x, y, speed):\n",
    "        self.points.append([x, y, speed])\n",
    "\n",
    "    def __getitem__(self, indx):\n",
    "        if type(indx) is int and 0 <= indx < len(self.points):\n",
    "            return (self.points[indx][0], self.points[indx][1]), self.points[indx][2]\n",
    "        raise IndexError('некорректный индекс')\n",
    "\n",
    "    def __setitem__(self, indx, speed):\n",
    "        if type(indx) is int and 0 <= indx < len(self.points):\n",
    "            self.points[indx][2] = speed\n",
    "        else:\n",
    "            raise IndexError('некорректный индекс')"
   ]
  },
  {
   "cell_type": "code",
   "execution_count": 52,
   "metadata": {},
   "outputs": [
    {
     "name": "stdout",
     "output_type": "stream",
     "text": [
      "(63.45, 1.24) 60\n"
     ]
    },
    {
     "ename": "IndexError",
     "evalue": "некорректный индекс",
     "output_type": "error",
     "traceback": [
      "\u001b[0;31m---------------------------------------------------------------------------\u001b[0m",
      "\u001b[0;31mIndexError\u001b[0m                                Traceback (most recent call last)",
      "\u001b[1;32m/Users/konstantin/Documents/Courses/Python_OOP/3_Magic_methods/8_getitem_setitem_delitem.ipynb Ячейка 6\u001b[0m in \u001b[0;36m<cell line: 10>\u001b[0;34m()\u001b[0m\n\u001b[1;32m      <a href='vscode-notebook-cell:/Users/konstantin/Documents/Courses/Python_OOP/3_Magic_methods/8_getitem_setitem_delitem.ipynb#X14sZmlsZQ%3D%3D?line=6'>7</a>\u001b[0m c, s \u001b[39m=\u001b[39m tr[\u001b[39m2\u001b[39m]\n\u001b[1;32m      <a href='vscode-notebook-cell:/Users/konstantin/Documents/Courses/Python_OOP/3_Magic_methods/8_getitem_setitem_delitem.ipynb#X14sZmlsZQ%3D%3D?line=7'>8</a>\u001b[0m \u001b[39mprint\u001b[39m(c, s)\n\u001b[0;32m---> <a href='vscode-notebook-cell:/Users/konstantin/Documents/Courses/Python_OOP/3_Magic_methods/8_getitem_setitem_delitem.ipynb#X14sZmlsZQ%3D%3D?line=9'>10</a>\u001b[0m res \u001b[39m=\u001b[39m tr[\u001b[39m3\u001b[39;49m]\n",
      "\u001b[1;32m/Users/konstantin/Documents/Courses/Python_OOP/3_Magic_methods/8_getitem_setitem_delitem.ipynb Ячейка 6\u001b[0m in \u001b[0;36mTrack.__getitem__\u001b[0;34m(self, indx)\u001b[0m\n\u001b[1;32m     <a href='vscode-notebook-cell:/Users/konstantin/Documents/Courses/Python_OOP/3_Magic_methods/8_getitem_setitem_delitem.ipynb#X14sZmlsZQ%3D%3D?line=10'>11</a>\u001b[0m \u001b[39mif\u001b[39;00m \u001b[39mtype\u001b[39m(indx) \u001b[39mis\u001b[39;00m \u001b[39mint\u001b[39m \u001b[39mand\u001b[39;00m \u001b[39m0\u001b[39m \u001b[39m<\u001b[39m\u001b[39m=\u001b[39m indx \u001b[39m<\u001b[39m \u001b[39mlen\u001b[39m(\u001b[39mself\u001b[39m\u001b[39m.\u001b[39mpoints):\n\u001b[1;32m     <a href='vscode-notebook-cell:/Users/konstantin/Documents/Courses/Python_OOP/3_Magic_methods/8_getitem_setitem_delitem.ipynb#X14sZmlsZQ%3D%3D?line=11'>12</a>\u001b[0m     \u001b[39mreturn\u001b[39;00m (\u001b[39mself\u001b[39m\u001b[39m.\u001b[39mpoints[indx][\u001b[39m0\u001b[39m], \u001b[39mself\u001b[39m\u001b[39m.\u001b[39mpoints[indx][\u001b[39m1\u001b[39m]), \u001b[39mself\u001b[39m\u001b[39m.\u001b[39mpoints[indx][\u001b[39m2\u001b[39m]\n\u001b[0;32m---> <a href='vscode-notebook-cell:/Users/konstantin/Documents/Courses/Python_OOP/3_Magic_methods/8_getitem_setitem_delitem.ipynb#X14sZmlsZQ%3D%3D?line=12'>13</a>\u001b[0m \u001b[39mraise\u001b[39;00m \u001b[39mIndexError\u001b[39;00m(\u001b[39m'\u001b[39m\u001b[39mнекорректный индекс\u001b[39m\u001b[39m'\u001b[39m)\n",
      "\u001b[0;31mIndexError\u001b[0m: некорректный индекс"
     ]
    }
   ],
   "source": [
    "tr = Track(10, -5.4)\n",
    "tr.add_point(20, 0, 100) # первый линейный сегмент: indx = 0\n",
    "tr.add_point(50, -20, 80) # второй линейный сегмент: indx = 1\n",
    "tr.add_point(63.45, 1.24, 60.34) # третий линейный сегмент: indx = 2\n",
    "\n",
    "tr[2] = 60\n",
    "c, s = tr[2]\n",
    "print(c, s)\n",
    "\n",
    "res = tr[3] # IndexError\n"
   ]
  },
  {
   "cell_type": "markdown",
   "metadata": {},
   "source": [
    "#4"
   ]
  },
  {
   "cell_type": "code",
   "execution_count": 106,
   "metadata": {},
   "outputs": [],
   "source": [
    "class Integer:\n",
    "    def __init__(self, start_value) -> None:\n",
    "        self.value = start_value\n",
    "\n",
    "    @property\n",
    "    def value(self):\n",
    "        return self.__value\n",
    "\n",
    "    @value.setter\n",
    "    def value(self, value):\n",
    "        if type(value) is not int:\n",
    "            raise ValueError('должно быть целое число')\n",
    "        self.__value = value\n",
    "\n",
    "class Array:\n",
    "    def __init__(self, max_length, cell) -> None:\n",
    "        self.array = [cell(0) for x in range(max_length)]\n",
    "\n",
    "    def __getitem__(self, indx):\n",
    "        if type(indx) is int and 0 <= indx < len(self.array):\n",
    "            return self.array[indx].value\n",
    "        raise IndexError('неверный индекс для доступа к элементам массива')\n",
    "\n",
    "    def __setitem__(self, indx, value):\n",
    "        if type(indx) is int and 0 <= indx < len(self.array):\n",
    "            self.array[indx].value = value\n",
    "        else:\n",
    "            raise IndexError('неверный индекс для доступа к элементам массива')\n",
    "\n",
    "    def __repr__(self) -> str:\n",
    "        return ' '.join([str(x.value) for x in self.array])"
   ]
  },
  {
   "cell_type": "code",
   "execution_count": 108,
   "metadata": {},
   "outputs": [
    {
     "name": "stdout",
     "output_type": "stream",
     "text": [
      "0\n",
      "0 0 0 0 0 0 0 0 0 0\n"
     ]
    },
    {
     "ename": "ValueError",
     "evalue": "должно быть целое число",
     "output_type": "error",
     "traceback": [
      "\u001b[0;31m---------------------------------------------------------------------------\u001b[0m",
      "\u001b[0;31mValueError\u001b[0m                                Traceback (most recent call last)",
      "\u001b[1;32m/Users/konstantin/Documents/Courses/Python_OOP/3_Magic_methods/8_getitem_setitem_delitem.ipynb Ячейка 10\u001b[0m in \u001b[0;36m<cell line: 5>\u001b[0;34m()\u001b[0m\n\u001b[1;32m      <a href='vscode-notebook-cell:/Users/konstantin/Documents/Courses/Python_OOP/3_Magic_methods/8_getitem_setitem_delitem.ipynb#X16sZmlsZQ%3D%3D?line=2'>3</a>\u001b[0m \u001b[39mprint\u001b[39m(ar_int) \u001b[39m# должны отображаться все значения массива в одну строчку через пробел\u001b[39;00m\n\u001b[1;32m      <a href='vscode-notebook-cell:/Users/konstantin/Documents/Courses/Python_OOP/3_Magic_methods/8_getitem_setitem_delitem.ipynb#X16sZmlsZQ%3D%3D?line=3'>4</a>\u001b[0m ar_int[\u001b[39m1\u001b[39m] \u001b[39m=\u001b[39m \u001b[39m10\u001b[39m\n\u001b[0;32m----> <a href='vscode-notebook-cell:/Users/konstantin/Documents/Courses/Python_OOP/3_Magic_methods/8_getitem_setitem_delitem.ipynb#X16sZmlsZQ%3D%3D?line=4'>5</a>\u001b[0m ar_int[\u001b[39m1\u001b[39m] \u001b[39m=\u001b[39m \u001b[39m10.5\u001b[39m \u001b[39m# должно генерироваться исключение ValueError\u001b[39;00m\n\u001b[1;32m      <a href='vscode-notebook-cell:/Users/konstantin/Documents/Courses/Python_OOP/3_Magic_methods/8_getitem_setitem_delitem.ipynb#X16sZmlsZQ%3D%3D?line=5'>6</a>\u001b[0m ar_int[\u001b[39m10\u001b[39m] \u001b[39m=\u001b[39m \u001b[39m1\u001b[39m\n",
      "\u001b[1;32m/Users/konstantin/Documents/Courses/Python_OOP/3_Magic_methods/8_getitem_setitem_delitem.ipynb Ячейка 10\u001b[0m in \u001b[0;36mArray.__setitem__\u001b[0;34m(self, indx, value)\u001b[0m\n\u001b[1;32m     <a href='vscode-notebook-cell:/Users/konstantin/Documents/Courses/Python_OOP/3_Magic_methods/8_getitem_setitem_delitem.ipynb#X16sZmlsZQ%3D%3D?line=23'>24</a>\u001b[0m \u001b[39mdef\u001b[39;00m \u001b[39m__setitem__\u001b[39m(\u001b[39mself\u001b[39m, indx, value):\n\u001b[1;32m     <a href='vscode-notebook-cell:/Users/konstantin/Documents/Courses/Python_OOP/3_Magic_methods/8_getitem_setitem_delitem.ipynb#X16sZmlsZQ%3D%3D?line=24'>25</a>\u001b[0m     \u001b[39mif\u001b[39;00m \u001b[39mtype\u001b[39m(indx) \u001b[39mis\u001b[39;00m \u001b[39mint\u001b[39m \u001b[39mand\u001b[39;00m \u001b[39m0\u001b[39m \u001b[39m<\u001b[39m\u001b[39m=\u001b[39m indx \u001b[39m<\u001b[39m \u001b[39mlen\u001b[39m(\u001b[39mself\u001b[39m\u001b[39m.\u001b[39marray):\n\u001b[0;32m---> <a href='vscode-notebook-cell:/Users/konstantin/Documents/Courses/Python_OOP/3_Magic_methods/8_getitem_setitem_delitem.ipynb#X16sZmlsZQ%3D%3D?line=25'>26</a>\u001b[0m         \u001b[39mself\u001b[39m\u001b[39m.\u001b[39marray[indx]\u001b[39m.\u001b[39mvalue \u001b[39m=\u001b[39m value\n\u001b[1;32m     <a href='vscode-notebook-cell:/Users/konstantin/Documents/Courses/Python_OOP/3_Magic_methods/8_getitem_setitem_delitem.ipynb#X16sZmlsZQ%3D%3D?line=26'>27</a>\u001b[0m     \u001b[39melse\u001b[39;00m:\n\u001b[1;32m     <a href='vscode-notebook-cell:/Users/konstantin/Documents/Courses/Python_OOP/3_Magic_methods/8_getitem_setitem_delitem.ipynb#X16sZmlsZQ%3D%3D?line=27'>28</a>\u001b[0m         \u001b[39mraise\u001b[39;00m \u001b[39mIndexError\u001b[39;00m(\u001b[39m'\u001b[39m\u001b[39mневерный индекс для доступа к элементам массива\u001b[39m\u001b[39m'\u001b[39m)\n",
      "\u001b[1;32m/Users/konstantin/Documents/Courses/Python_OOP/3_Magic_methods/8_getitem_setitem_delitem.ipynb Ячейка 10\u001b[0m in \u001b[0;36mInteger.value\u001b[0;34m(self, value)\u001b[0m\n\u001b[1;32m      <a href='vscode-notebook-cell:/Users/konstantin/Documents/Courses/Python_OOP/3_Magic_methods/8_getitem_setitem_delitem.ipynb#X16sZmlsZQ%3D%3D?line=8'>9</a>\u001b[0m \u001b[39m@value\u001b[39m\u001b[39m.\u001b[39msetter\n\u001b[1;32m     <a href='vscode-notebook-cell:/Users/konstantin/Documents/Courses/Python_OOP/3_Magic_methods/8_getitem_setitem_delitem.ipynb#X16sZmlsZQ%3D%3D?line=9'>10</a>\u001b[0m \u001b[39mdef\u001b[39;00m \u001b[39mvalue\u001b[39m(\u001b[39mself\u001b[39m, value):\n\u001b[1;32m     <a href='vscode-notebook-cell:/Users/konstantin/Documents/Courses/Python_OOP/3_Magic_methods/8_getitem_setitem_delitem.ipynb#X16sZmlsZQ%3D%3D?line=10'>11</a>\u001b[0m     \u001b[39mif\u001b[39;00m \u001b[39mtype\u001b[39m(value) \u001b[39mis\u001b[39;00m \u001b[39mnot\u001b[39;00m \u001b[39mint\u001b[39m:\n\u001b[0;32m---> <a href='vscode-notebook-cell:/Users/konstantin/Documents/Courses/Python_OOP/3_Magic_methods/8_getitem_setitem_delitem.ipynb#X16sZmlsZQ%3D%3D?line=11'>12</a>\u001b[0m         \u001b[39mraise\u001b[39;00m \u001b[39mValueError\u001b[39;00m(\u001b[39m'\u001b[39m\u001b[39mдолжно быть целое число\u001b[39m\u001b[39m'\u001b[39m)\n\u001b[1;32m     <a href='vscode-notebook-cell:/Users/konstantin/Documents/Courses/Python_OOP/3_Magic_methods/8_getitem_setitem_delitem.ipynb#X16sZmlsZQ%3D%3D?line=12'>13</a>\u001b[0m     \u001b[39mself\u001b[39m\u001b[39m.\u001b[39m__value \u001b[39m=\u001b[39m value\n",
      "\u001b[0;31mValueError\u001b[0m: должно быть целое число"
     ]
    }
   ],
   "source": [
    "ar_int = Array(10, cell=Integer)\n",
    "print(ar_int[3])\n",
    "print(ar_int) # должны отображаться все значения массива в одну строчку через пробел\n",
    "ar_int[1] = 10\n",
    "ar_int[1] = 10.5 # должно генерироваться исключение ValueError\n",
    "ar_int[10] = 1 # должно генерироваться исключение IndexError\n"
   ]
  },
  {
   "cell_type": "markdown",
   "metadata": {},
   "source": [
    "#5"
   ]
  },
  {
   "cell_type": "code",
   "execution_count": 127,
   "metadata": {},
   "outputs": [],
   "source": [
    "class IntegerValue:\n",
    "    def __set_name__(self, owner, name):\n",
    "        self.name = '_' + name\n",
    "\n",
    "    def __get__(self, instance, owner):\n",
    "        return getattr(instance, self.name)\n",
    "\n",
    "    def __set__(self, instance, value):\n",
    "        if type(value) is not int:\n",
    "            raise ValueError('возможны только целочисленные значения')\n",
    "        setattr(instance, self.name, value)\n",
    "\n",
    "class CellInteger:\n",
    "    value = IntegerValue()\n",
    "\n",
    "    def __init__(self, start_value=0) -> None:\n",
    "        self.value = start_value\n",
    "\n",
    "class TableValues:\n",
    "    def __init__(self, rows, cols, cell=CellInteger) -> None:\n",
    "        if cell is None:\n",
    "            raise ValueError('параметр cell не указан')\n",
    "        self.type = cell\n",
    "        self.cells = [[cell() for x in range(cols)] for y in range(rows)]\n",
    "\n",
    "    def __getitem__(self, indx):\n",
    "        return self.cells[indx[0]][indx[1]].value\n",
    "\n",
    "    def __setitem__(self, indx, value):\n",
    "        self.cells[indx[0]][indx[1]] = self.type(value)\n",
    "\n",
    "        \n"
   ]
  },
  {
   "cell_type": "code",
   "execution_count": 128,
   "metadata": {},
   "outputs": [
    {
     "name": "stdout",
     "output_type": "stream",
     "text": [
      "0\n"
     ]
    },
    {
     "ename": "ValueError",
     "evalue": "возможны только целочисленные значения",
     "output_type": "error",
     "traceback": [
      "\u001b[0;31m---------------------------------------------------------------------------\u001b[0m",
      "\u001b[0;31mValueError\u001b[0m                                Traceback (most recent call last)",
      "\u001b[1;32m/Users/konstantin/Documents/Courses/Python_OOP/3_Magic_methods/8_getitem_setitem_delitem.ipynb Ячейка 13\u001b[0m in \u001b[0;36m<cell line: 4>\u001b[0;34m()\u001b[0m\n\u001b[1;32m      <a href='vscode-notebook-cell:/Users/konstantin/Documents/Courses/Python_OOP/3_Magic_methods/8_getitem_setitem_delitem.ipynb#X43sZmlsZQ%3D%3D?line=1'>2</a>\u001b[0m \u001b[39mprint\u001b[39m(table[\u001b[39m0\u001b[39m, \u001b[39m1\u001b[39m])\n\u001b[1;32m      <a href='vscode-notebook-cell:/Users/konstantin/Documents/Courses/Python_OOP/3_Magic_methods/8_getitem_setitem_delitem.ipynb#X43sZmlsZQ%3D%3D?line=2'>3</a>\u001b[0m table[\u001b[39m1\u001b[39m, \u001b[39m1\u001b[39m] \u001b[39m=\u001b[39m \u001b[39m10\u001b[39m\n\u001b[0;32m----> <a href='vscode-notebook-cell:/Users/konstantin/Documents/Courses/Python_OOP/3_Magic_methods/8_getitem_setitem_delitem.ipynb#X43sZmlsZQ%3D%3D?line=3'>4</a>\u001b[0m table[\u001b[39m0\u001b[39m, \u001b[39m0\u001b[39m] \u001b[39m=\u001b[39m \u001b[39m1.45\u001b[39m\n",
      "\u001b[1;32m/Users/konstantin/Documents/Courses/Python_OOP/3_Magic_methods/8_getitem_setitem_delitem.ipynb Ячейка 13\u001b[0m in \u001b[0;36mTableValues.__setitem__\u001b[0;34m(self, indx, value)\u001b[0m\n\u001b[1;32m     <a href='vscode-notebook-cell:/Users/konstantin/Documents/Courses/Python_OOP/3_Magic_methods/8_getitem_setitem_delitem.ipynb#X43sZmlsZQ%3D%3D?line=28'>29</a>\u001b[0m \u001b[39mdef\u001b[39;00m \u001b[39m__setitem__\u001b[39m(\u001b[39mself\u001b[39m, indx, value):\n\u001b[0;32m---> <a href='vscode-notebook-cell:/Users/konstantin/Documents/Courses/Python_OOP/3_Magic_methods/8_getitem_setitem_delitem.ipynb#X43sZmlsZQ%3D%3D?line=29'>30</a>\u001b[0m     \u001b[39mself\u001b[39m\u001b[39m.\u001b[39mcells[indx[\u001b[39m0\u001b[39m]][indx[\u001b[39m1\u001b[39m]] \u001b[39m=\u001b[39m \u001b[39mself\u001b[39;49m\u001b[39m.\u001b[39;49mtype(value)\n",
      "\u001b[1;32m/Users/konstantin/Documents/Courses/Python_OOP/3_Magic_methods/8_getitem_setitem_delitem.ipynb Ячейка 13\u001b[0m in \u001b[0;36mCellInteger.__init__\u001b[0;34m(self, start_value)\u001b[0m\n\u001b[1;32m     <a href='vscode-notebook-cell:/Users/konstantin/Documents/Courses/Python_OOP/3_Magic_methods/8_getitem_setitem_delitem.ipynb#X43sZmlsZQ%3D%3D?line=15'>16</a>\u001b[0m \u001b[39mdef\u001b[39;00m \u001b[39m__init__\u001b[39m(\u001b[39mself\u001b[39m, start_value\u001b[39m=\u001b[39m\u001b[39m0\u001b[39m) \u001b[39m-\u001b[39m\u001b[39m>\u001b[39m \u001b[39mNone\u001b[39;00m:\n\u001b[0;32m---> <a href='vscode-notebook-cell:/Users/konstantin/Documents/Courses/Python_OOP/3_Magic_methods/8_getitem_setitem_delitem.ipynb#X43sZmlsZQ%3D%3D?line=16'>17</a>\u001b[0m     \u001b[39mself\u001b[39m\u001b[39m.\u001b[39mvalue \u001b[39m=\u001b[39m start_value\n",
      "\u001b[1;32m/Users/konstantin/Documents/Courses/Python_OOP/3_Magic_methods/8_getitem_setitem_delitem.ipynb Ячейка 13\u001b[0m in \u001b[0;36mIntegerValue.__set__\u001b[0;34m(self, instance, value)\u001b[0m\n\u001b[1;32m      <a href='vscode-notebook-cell:/Users/konstantin/Documents/Courses/Python_OOP/3_Magic_methods/8_getitem_setitem_delitem.ipynb#X43sZmlsZQ%3D%3D?line=7'>8</a>\u001b[0m \u001b[39mdef\u001b[39;00m \u001b[39m__set__\u001b[39m(\u001b[39mself\u001b[39m, instance, value):\n\u001b[1;32m      <a href='vscode-notebook-cell:/Users/konstantin/Documents/Courses/Python_OOP/3_Magic_methods/8_getitem_setitem_delitem.ipynb#X43sZmlsZQ%3D%3D?line=8'>9</a>\u001b[0m     \u001b[39mif\u001b[39;00m \u001b[39mtype\u001b[39m(value) \u001b[39mis\u001b[39;00m \u001b[39mnot\u001b[39;00m \u001b[39mint\u001b[39m:\n\u001b[0;32m---> <a href='vscode-notebook-cell:/Users/konstantin/Documents/Courses/Python_OOP/3_Magic_methods/8_getitem_setitem_delitem.ipynb#X43sZmlsZQ%3D%3D?line=9'>10</a>\u001b[0m         \u001b[39mraise\u001b[39;00m \u001b[39mValueError\u001b[39;00m(\u001b[39m'\u001b[39m\u001b[39mвозможны только целочисленные значения\u001b[39m\u001b[39m'\u001b[39m)\n\u001b[1;32m     <a href='vscode-notebook-cell:/Users/konstantin/Documents/Courses/Python_OOP/3_Magic_methods/8_getitem_setitem_delitem.ipynb#X43sZmlsZQ%3D%3D?line=10'>11</a>\u001b[0m     \u001b[39msetattr\u001b[39m(instance, \u001b[39mself\u001b[39m\u001b[39m.\u001b[39mname, value)\n",
      "\u001b[0;31mValueError\u001b[0m: возможны только целочисленные значения"
     ]
    }
   ],
   "source": [
    "table = TableValues(2, 3, cell=CellInteger)\n",
    "print(table[0, 1])\n",
    "table[1, 1] = 10\n",
    "table[0, 0] = 1.45\n"
   ]
  },
  {
   "cell_type": "code",
   "execution_count": 129,
   "metadata": {},
   "outputs": [
    {
     "name": "stdout",
     "output_type": "stream",
     "text": [
      "0 0 0 \n",
      "0 10 0 \n"
     ]
    }
   ],
   "source": [
    "# вывод таблицы в консоль\n",
    "for row in table.cells:\n",
    "    for x in row:\n",
    "        print(x.value, end=' ')\n",
    "    print()\n"
   ]
  },
  {
   "cell_type": "markdown",
   "metadata": {},
   "source": [
    "#7"
   ]
  },
  {
   "cell_type": "code",
   "execution_count": 173,
   "metadata": {},
   "outputs": [],
   "source": [
    "class StackObj:\n",
    "    def __init__(self, data) -> None:\n",
    "        self.data = data\n",
    "        self.next = None\n",
    "        self.prev = None\n",
    "\n",
    "class Stack:\n",
    "    def __init__(self) -> None:\n",
    "        self.top = None\n",
    "        self.last = None\n",
    "\n",
    "    def push(self, obj):\n",
    "        if self.top is None:\n",
    "            self.top = obj\n",
    "            self.last = obj\n",
    "        else:\n",
    "            obj.prev = self.last\n",
    "            self.last.next = obj\n",
    "            self.last = obj\n",
    "\n",
    "    def pop(self):\n",
    "        prev = self.last.prev\n",
    "        self.last.prev = None\n",
    "        prev.next = None\n",
    "        to_return = self.last\n",
    "        self.last = prev\n",
    "        return to_return\n",
    "\n",
    "    def __getitem__(self, indx):\n",
    "        curr_indx = 0\n",
    "        curr_obj = self.top\n",
    "\n",
    "        while curr_indx != indx:\n",
    "            curr_obj = curr_obj.next\n",
    "            curr_indx += 1\n",
    "\n",
    "        if curr_obj is None:\n",
    "            raise IndexError('неверный индекс')\n",
    "\n",
    "        return curr_obj\n",
    "\n",
    "    def __setitem__(self, indx, value):\n",
    "        curr_obj = self.__getitem__(indx)\n",
    "        curr_obj.prev.next = value\n",
    "        curr_obj.next.prev = value\n",
    "        value.next = curr_obj.next\n",
    "        value.prev = curr_obj.prev\n",
    "        curr_obj.prev = None\n",
    "        curr_obj.next = None\n",
    "    \n"
   ]
  },
  {
   "cell_type": "code",
   "execution_count": 172,
   "metadata": {},
   "outputs": [
    {
     "name": "stdout",
     "output_type": "stream",
     "text": [
      "obj3\n",
      "new obj2\n"
     ]
    },
    {
     "ename": "IndexError",
     "evalue": "неверный индекс",
     "output_type": "error",
     "traceback": [
      "\u001b[0;31m---------------------------------------------------------------------------\u001b[0m",
      "\u001b[0;31mIndexError\u001b[0m                                Traceback (most recent call last)",
      "\u001b[1;32m/Users/konstantin/Documents/Courses/Python_OOP/3_Magic_methods/8_getitem_setitem_delitem.ipynb Ячейка 17\u001b[0m in \u001b[0;36m<cell line: 8>\u001b[0;34m()\u001b[0m\n\u001b[1;32m      <a href='vscode-notebook-cell:/Users/konstantin/Documents/Courses/Python_OOP/3_Magic_methods/8_getitem_setitem_delitem.ipynb#X45sZmlsZQ%3D%3D?line=5'>6</a>\u001b[0m \u001b[39mprint\u001b[39m(st[\u001b[39m2\u001b[39m]\u001b[39m.\u001b[39mdata) \u001b[39m# obj3\u001b[39;00m\n\u001b[1;32m      <a href='vscode-notebook-cell:/Users/konstantin/Documents/Courses/Python_OOP/3_Magic_methods/8_getitem_setitem_delitem.ipynb#X45sZmlsZQ%3D%3D?line=6'>7</a>\u001b[0m \u001b[39mprint\u001b[39m(st[\u001b[39m1\u001b[39m]\u001b[39m.\u001b[39mdata) \u001b[39m# new obj2\u001b[39;00m\n\u001b[0;32m----> <a href='vscode-notebook-cell:/Users/konstantin/Documents/Courses/Python_OOP/3_Magic_methods/8_getitem_setitem_delitem.ipynb#X45sZmlsZQ%3D%3D?line=7'>8</a>\u001b[0m res \u001b[39m=\u001b[39m st[\u001b[39m3\u001b[39;49m]\n",
      "\u001b[1;32m/Users/konstantin/Documents/Courses/Python_OOP/3_Magic_methods/8_getitem_setitem_delitem.ipynb Ячейка 17\u001b[0m in \u001b[0;36mStack.__getitem__\u001b[0;34m(self, indx)\u001b[0m\n\u001b[1;32m     <a href='vscode-notebook-cell:/Users/konstantin/Documents/Courses/Python_OOP/3_Magic_methods/8_getitem_setitem_delitem.ipynb#X45sZmlsZQ%3D%3D?line=32'>33</a>\u001b[0m     curr_indx \u001b[39m+\u001b[39m\u001b[39m=\u001b[39m \u001b[39m1\u001b[39m\n\u001b[1;32m     <a href='vscode-notebook-cell:/Users/konstantin/Documents/Courses/Python_OOP/3_Magic_methods/8_getitem_setitem_delitem.ipynb#X45sZmlsZQ%3D%3D?line=34'>35</a>\u001b[0m \u001b[39mif\u001b[39;00m curr_obj \u001b[39mis\u001b[39;00m \u001b[39mNone\u001b[39;00m:\n\u001b[0;32m---> <a href='vscode-notebook-cell:/Users/konstantin/Documents/Courses/Python_OOP/3_Magic_methods/8_getitem_setitem_delitem.ipynb#X45sZmlsZQ%3D%3D?line=35'>36</a>\u001b[0m     \u001b[39mraise\u001b[39;00m \u001b[39mIndexError\u001b[39;00m(\u001b[39m'\u001b[39m\u001b[39mневерный индекс\u001b[39m\u001b[39m'\u001b[39m)\n\u001b[1;32m     <a href='vscode-notebook-cell:/Users/konstantin/Documents/Courses/Python_OOP/3_Magic_methods/8_getitem_setitem_delitem.ipynb#X45sZmlsZQ%3D%3D?line=37'>38</a>\u001b[0m \u001b[39mreturn\u001b[39;00m curr_obj\n",
      "\u001b[0;31mIndexError\u001b[0m: неверный индекс"
     ]
    }
   ],
   "source": [
    "st = Stack()\n",
    "st.push(StackObj(\"obj1\"))\n",
    "st.push(StackObj(\"obj2\"))\n",
    "st.push(StackObj(\"obj3\"))\n",
    "st[1] = StackObj(\"new obj2\")\n",
    "print(st[2].data) # obj3\n",
    "print(st[1].data) # new obj2\n",
    "res = st[3] # исключение IndexError\n"
   ]
  },
  {
   "cell_type": "markdown",
   "metadata": {},
   "source": [
    "#7"
   ]
  },
  {
   "cell_type": "code",
   "execution_count": 184,
   "metadata": {},
   "outputs": [],
   "source": [
    "class RadiusVector:\n",
    "    def __init__(self, *args) -> None:\n",
    "        self.coords = list(args)\n",
    "\n",
    "    def __getitem__(self, req_slice):\n",
    "        return tuple(self.coords[req_slice]) if type(req_slice) is slice else self.coords[req_slice]\n",
    "        \n",
    "    def __setitem__(self, req_slice, values):\n",
    "        self.coords[req_slice] = values"
   ]
  },
  {
   "cell_type": "code",
   "execution_count": 185,
   "metadata": {},
   "outputs": [
    {
     "name": "stdout",
     "output_type": "stream",
     "text": [
      "1\n",
      "3\n",
      "(2, 3, 4)\n"
     ]
    }
   ],
   "source": [
    "v = RadiusVector(1, 1, 1, 1)\n",
    "print(v[1]) # 1\n",
    "v[:] = 1, 2, 3, 4\n",
    "print(v[2]) # 3\n",
    "print(v[1:]) # (2, 3, 4)\n",
    "v[0] = 10.5\n"
   ]
  },
  {
   "cell_type": "markdown",
   "metadata": {},
   "source": [
    "#8"
   ]
  },
  {
   "cell_type": "code",
   "execution_count": 195,
   "metadata": {},
   "outputs": [],
   "source": [
    "class Cell:\n",
    "    def __init__(self) -> None:\n",
    "        self.is_free = True\n",
    "        self.value = 0\n",
    "\n",
    "    def __bool__(self):\n",
    "        return self.is_free\n",
    "\n",
    "class TicTacToe:\n",
    "    def __init__(self) -> None:\n",
    "        self.pole = tuple(tuple(Cell() for x in range(3)) for y in range(3))\n",
    "\n",
    "    def clear(self):\n",
    "        self.pole = tuple(tuple(Cell() for x in range(3)) for y in range(3))\n",
    "\n",
    "    def __check(self, item):\n",
    "        if type(item) != tuple or len(item) != 2:\n",
    "            raise IndexError('неверный индекс клетки')\n",
    "        if any(not (0 <= x < 3) for x in item if type(x) != slice):\n",
    "            raise IndexError('неверный индекс клетки')\n",
    "\n",
    "    def __setitem__(self, key, value):\n",
    "        self.__check(key)\n",
    "        r, c = key\n",
    "        if self.pole[r][c]:\n",
    "            self.pole[r][c].value = value\n",
    "            self.pole[r][c].is_free = False\n",
    "        else:\n",
    "            raise ValueError('клетка уже занята')\n",
    "\n",
    "    def __getitem__(self, key):\n",
    "        self.__check(key)\n",
    "        r, c = key\n",
    "        if type(r) == slice:\n",
    "            return tuple(self.pole[x][c].value for x in range(3))\n",
    "        if type(c) == slice:\n",
    "            return tuple(self.pole[r][x].value for x in range(3))\n",
    "        \n",
    "        return self.pole[r][c].value\n",
    "\n"
   ]
  },
  {
   "cell_type": "markdown",
   "metadata": {},
   "source": [
    "#9"
   ]
  },
  {
   "cell_type": "code",
   "execution_count": 210,
   "metadata": {},
   "outputs": [],
   "source": [
    "class Thing:\n",
    "    def __init__(self, name, weight) -> None:\n",
    "        self.name = name\n",
    "        self.weight = weight\n",
    "\n",
    "class Bag:\n",
    "    def __init__(self, max_weight) -> None:\n",
    "        self.max_weight = max_weight\n",
    "        self.things = []\n",
    "        self.curr_weight = 0\n",
    "\n",
    "    def add_thing(self, thing):\n",
    "        if self.curr_weight + thing.weight <= self.max_weight:\n",
    "            self.things.append(thing)\n",
    "            self.curr_weight += thing.weight\n",
    "        else:\n",
    "            raise ValueError('превышен суммарный вес предметов')\n",
    "\n",
    "    def __check(self, value):\n",
    "        if not 0 <= value < len(self.things):\n",
    "            raise IndexError('неверный индекс')\n",
    "\n",
    "    def __getitem__(self, indx):\n",
    "        self.__check(indx)\n",
    "        return self.things[indx]\n",
    "\n",
    "    def __delitem__(self, indx):\n",
    "        self.__check(indx)\n",
    "        item = self.things.pop(indx)\n",
    "        self.curr_weight -= item.weight\n",
    "\n",
    "    def __setitem__(self, indx, value):\n",
    "        self.__check(indx)\n",
    "        if self.curr_weight - self.things[indx].weight + value.weight <= self.max_weight:\n",
    "            item = self.things.pop(indx)\n",
    "            self.curr_weight -= item.weight\n",
    "            self.things.insert(indx, value)\n",
    "            self.curr_weight += value.weight\n",
    "        else:\n",
    "            raise ValueError('превышен суммарный вес предметов')"
   ]
  },
  {
   "cell_type": "code",
   "execution_count": 209,
   "metadata": {},
   "outputs": [
    {
     "name": "stdout",
     "output_type": "stream",
     "text": [
      "рубашка\n",
      "платок\n",
      "платок\n"
     ]
    }
   ],
   "source": [
    "bag = Bag(1000)\n",
    "bag.add_thing(Thing('книга', 100))\n",
    "bag.add_thing(Thing('носки', 200))\n",
    "bag.add_thing(Thing('рубашка', 500))\n",
    "print(bag[2].name) # рубашка\n",
    "bag[1] = Thing('платок', 100)\n",
    "print(bag[1].name) # платок\n",
    "del bag[0]\n",
    "print(bag[0].name) # платок\n"
   ]
  },
  {
   "cell_type": "markdown",
   "metadata": {},
   "source": [
    "#10"
   ]
  },
  {
   "cell_type": "code",
   "execution_count": 253,
   "metadata": {},
   "outputs": [],
   "source": [
    "class Cell:\n",
    "    def __init__(self, value) -> None:\n",
    "        self.value = value\n",
    "\n",
    "class SparseTable:\n",
    "    def __init__(self) -> None:\n",
    "        self.rows = 0\n",
    "        self.cols = 0\n",
    "        self.cells = {}\n",
    "\n",
    "    def update_size(self):\n",
    "        self.rows = max(key[0] for key in self.cells) + 1\n",
    "        self.cols = max(key[1] for key in self.cells) + 1\n",
    "\n",
    "\n",
    "    def add_data(self, row, col, data):\n",
    "        self.cells.setdefault((row, col), data)\n",
    "        self.update_size()\n",
    "    \n",
    "    def remove_data(self, row, col):\n",
    "        try:\n",
    "            del self.cells[(row, col)]\n",
    "            self.update_size()\n",
    "        except KeyError:\n",
    "            raise IndexError('ячейка с указанными индексами не существует')\n",
    "\n",
    "    def __getitem__(self, indx):\n",
    "        try:\n",
    "            return self.cells[indx].value\n",
    "        except KeyError:\n",
    "            raise ValueError('данные по указанным индексам отсутствуют')\n",
    "\n",
    "    def __setitem__(self, indx, value):\n",
    "        self.cells[indx] = Cell(value)\n",
    "        self.update_size()"
   ]
  },
  {
   "cell_type": "code",
   "execution_count": 254,
   "metadata": {},
   "outputs": [],
   "source": [
    "st = SparseTable()\n",
    "st.add_data(2, 5, Cell(\"cell_25\"))\n",
    "st.add_data(0, 0, Cell(\"cell_00\"))\n",
    "st[11, 7] = 'cell_117'\n",
    "st.remove_data(11, 7)"
   ]
  },
  {
   "cell_type": "code",
   "execution_count": 252,
   "metadata": {},
   "outputs": [
    {
     "data": {
      "text/plain": [
       "3"
      ]
     },
     "execution_count": 252,
     "metadata": {},
     "output_type": "execute_result"
    }
   ],
   "source": [
    "st.rows"
   ]
  },
  {
   "cell_type": "code",
   "execution_count": 255,
   "metadata": {},
   "outputs": [
    {
     "name": "stdout",
     "output_type": "stream",
     "text": [
      "cell_00\n",
      "11 7\n"
     ]
    }
   ],
   "source": [
    "st = SparseTable()\n",
    "st.add_data(2, 5, Cell(\"cell_25\"))\n",
    "st.add_data(0, 0, Cell(\"cell_00\"))\n",
    "st[2, 5] = 25\n",
    "st[11, 7] = 'cell_117'\n",
    "print(st[0, 0]) \n",
    "st.remove_data(2, 5)\n",
    "print(st.rows, st.cols) "
   ]
  },
  {
   "cell_type": "code",
   "execution_count": 229,
   "metadata": {},
   "outputs": [
    {
     "ename": "IndexError",
     "evalue": "ячейка с указанными индексами не существует",
     "output_type": "error",
     "traceback": [
      "\u001b[0;31m---------------------------------------------------------------------------\u001b[0m",
      "\u001b[0;31mKeyError\u001b[0m                                  Traceback (most recent call last)",
      "\u001b[1;32m/Users/konstantin/Documents/Courses/Python_OOP/3_Magic_methods/8_getitem_setitem_delitem.ipynb Ячейка 29\u001b[0m in \u001b[0;36mSparseTable.remove_data\u001b[0;34m(self, row, col)\u001b[0m\n\u001b[1;32m     <a href='vscode-notebook-cell:/Users/konstantin/Documents/Courses/Python_OOP/3_Magic_methods/8_getitem_setitem_delitem.ipynb#Y105sZmlsZQ%3D%3D?line=22'>23</a>\u001b[0m \u001b[39mtry\u001b[39;00m:\n\u001b[0;32m---> <a href='vscode-notebook-cell:/Users/konstantin/Documents/Courses/Python_OOP/3_Magic_methods/8_getitem_setitem_delitem.ipynb#Y105sZmlsZQ%3D%3D?line=23'>24</a>\u001b[0m     \u001b[39mdel\u001b[39;00m \u001b[39mself\u001b[39m\u001b[39m.\u001b[39mcells[(row, col)]\n\u001b[1;32m     <a href='vscode-notebook-cell:/Users/konstantin/Documents/Courses/Python_OOP/3_Magic_methods/8_getitem_setitem_delitem.ipynb#Y105sZmlsZQ%3D%3D?line=24'>25</a>\u001b[0m \u001b[39mexcept\u001b[39;00m \u001b[39mKeyError\u001b[39;00m:\n",
      "\u001b[0;31mKeyError\u001b[0m: (12, 3)",
      "\nDuring handling of the above exception, another exception occurred:\n",
      "\u001b[0;31mIndexError\u001b[0m                                Traceback (most recent call last)",
      "\u001b[1;32m/Users/konstantin/Documents/Courses/Python_OOP/3_Magic_methods/8_getitem_setitem_delitem.ipynb Ячейка 29\u001b[0m in \u001b[0;36m<cell line: 1>\u001b[0;34m()\u001b[0m\n\u001b[0;32m----> <a href='vscode-notebook-cell:/Users/konstantin/Documents/Courses/Python_OOP/3_Magic_methods/8_getitem_setitem_delitem.ipynb#Y105sZmlsZQ%3D%3D?line=0'>1</a>\u001b[0m st\u001b[39m.\u001b[39;49mremove_data(\u001b[39m12\u001b[39;49m, \u001b[39m3\u001b[39;49m)\n",
      "\u001b[1;32m/Users/konstantin/Documents/Courses/Python_OOP/3_Magic_methods/8_getitem_setitem_delitem.ipynb Ячейка 29\u001b[0m in \u001b[0;36mSparseTable.remove_data\u001b[0;34m(self, row, col)\u001b[0m\n\u001b[1;32m     <a href='vscode-notebook-cell:/Users/konstantin/Documents/Courses/Python_OOP/3_Magic_methods/8_getitem_setitem_delitem.ipynb#Y105sZmlsZQ%3D%3D?line=23'>24</a>\u001b[0m     \u001b[39mdel\u001b[39;00m \u001b[39mself\u001b[39m\u001b[39m.\u001b[39mcells[(row, col)]\n\u001b[1;32m     <a href='vscode-notebook-cell:/Users/konstantin/Documents/Courses/Python_OOP/3_Magic_methods/8_getitem_setitem_delitem.ipynb#Y105sZmlsZQ%3D%3D?line=24'>25</a>\u001b[0m \u001b[39mexcept\u001b[39;00m \u001b[39mKeyError\u001b[39;00m:\n\u001b[0;32m---> <a href='vscode-notebook-cell:/Users/konstantin/Documents/Courses/Python_OOP/3_Magic_methods/8_getitem_setitem_delitem.ipynb#Y105sZmlsZQ%3D%3D?line=25'>26</a>\u001b[0m     \u001b[39mraise\u001b[39;00m \u001b[39mIndexError\u001b[39;00m(\u001b[39m'\u001b[39m\u001b[39mячейка с указанными индексами не существует\u001b[39m\u001b[39m'\u001b[39m)\n",
      "\u001b[0;31mIndexError\u001b[0m: ячейка с указанными индексами не существует"
     ]
    }
   ],
   "source": [
    "st.remove_data(12, 3) "
   ]
  },
  {
   "cell_type": "code",
   "execution_count": null,
   "metadata": {},
   "outputs": [],
   "source": []
  }
 ],
 "metadata": {
  "kernelspec": {
   "display_name": "Python 3.9.12 64-bit",
   "language": "python",
   "name": "python3"
  },
  "language_info": {
   "codemirror_mode": {
    "name": "ipython",
    "version": 3
   },
   "file_extension": ".py",
   "mimetype": "text/x-python",
   "name": "python",
   "nbconvert_exporter": "python",
   "pygments_lexer": "ipython3",
   "version": "3.9.12"
  },
  "orig_nbformat": 4,
  "vscode": {
   "interpreter": {
    "hash": "aee8b7b246df8f9039afb4144a1f6fd8d2ca17a180786b69acc140d282b71a49"
   }
  }
 },
 "nbformat": 4,
 "nbformat_minor": 2
}
