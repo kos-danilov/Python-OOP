{
 "cells": [
  {
   "cell_type": "markdown",
   "metadata": {},
   "source": [
    "#2"
   ]
  },
  {
   "cell_type": "code",
   "execution_count": 11,
   "metadata": {},
   "outputs": [],
   "source": [
    "from random import randint, choice\n",
    "\n",
    "class RandomPassword:\n",
    "    def __init__(self, psw_chars: str, min_length: int, max_length: int) -> None:\n",
    "        self.__psw_chars = psw_chars\n",
    "        self.__min_length = min_length\n",
    "        self.__max_length = max_length\n",
    "\n",
    "    def __call__(self) -> str:\n",
    "        return ''.join([choice(self.__psw_chars) for x in range(randint(self.__min_length, self.__max_length))])"
   ]
  },
  {
   "cell_type": "code",
   "execution_count": 12,
   "metadata": {},
   "outputs": [],
   "source": [
    "rnd = RandomPassword('qwertyuiopasdfghjklzxcvbnm0123456789!@#$%&*', 5, 20)\n",
    "lst_pass = [rnd() for x in range(3)]"
   ]
  },
  {
   "cell_type": "markdown",
   "metadata": {},
   "source": [
    "#3"
   ]
  },
  {
   "cell_type": "code",
   "execution_count": 17,
   "metadata": {},
   "outputs": [],
   "source": [
    "class ImageFileAcceptor:\n",
    "    def __init__(self, extensions: tuple) -> None:\n",
    "        self.__extensions = extensions\n",
    "\n",
    "    def __call__(self, object) -> str:\n",
    "        if object.split('.')[-1] in self.__extensions:\n",
    "            return object"
   ]
  },
  {
   "cell_type": "code",
   "execution_count": 18,
   "metadata": {},
   "outputs": [
    {
     "name": "stdout",
     "output_type": "stream",
     "text": [
      "['boat.jpg', 'ava.jpg', 'forest.jpeg']\n"
     ]
    }
   ],
   "source": [
    "filenames = [\"boat.jpg\", \"web.png\", \"text.txt\", \"python.doc\", \"ava.jpg\", \"forest.jpeg\", \"eq_1.png\", \"eq_2.png\"]\n",
    "acceptor = ImageFileAcceptor(('jpg', 'bmp', 'jpeg'))\n",
    "image_filenames = filter(acceptor, filenames)\n",
    "print(list(image_filenames))  # [\"boat.jpg\", \"ava.jpg\", \"forest.jpeg\"]"
   ]
  },
  {
   "cell_type": "markdown",
   "metadata": {},
   "source": [
    "#4"
   ]
  },
  {
   "cell_type": "code",
   "execution_count": null,
   "metadata": {},
   "outputs": [],
   "source": [
    "class LengthValidator:\n",
    "    def __init__(self, min_length: int, max_length: int) -> None:\n",
    "        self.__min_length = min_length\n",
    "        self.__max_length = max_length\n",
    "\n",
    "    def __call__(self, string) -> bool:\n",
    "        return self.__min_length <= len(string) <= self.__max_length\n",
    "\n",
    "class CharsValidator:\n",
    "    def __init__(self, chars: str) -> None:\n",
    "        self.__chars = chars\n",
    "\n",
    "    def __call__(self, string) -> bool:\n",
    "        return set(string) < set(self.__chars)"
   ]
  },
  {
   "cell_type": "markdown",
   "metadata": {},
   "source": [
    "#5"
   ]
  },
  {
   "cell_type": "code",
   "execution_count": 46,
   "metadata": {},
   "outputs": [],
   "source": [
    "class DigitRetrieve:\n",
    "    def __call__(self, string_number: str):\n",
    "        try:\n",
    "            return int(string_number)\n",
    "        except ValueError:\n",
    "            return None"
   ]
  },
  {
   "cell_type": "code",
   "execution_count": 47,
   "metadata": {},
   "outputs": [
    {
     "data": {
      "text/plain": [
       "[123, None, None, 0, -5]"
      ]
     },
     "execution_count": 47,
     "metadata": {},
     "output_type": "execute_result"
    }
   ],
   "source": [
    "dg = DigitRetrieve()\n",
    "\n",
    "d1 = dg(\"123\")   # 123 (целое число)\n",
    "d2 = dg(\"45.54\")   # None (не целое число)\n",
    "d3 = dg(\"-56\")   # -56 (целое число)\n",
    "d4 = dg(\"12fg\")  # None (не целое число)\n",
    "d5 = dg(\"abc\")   # None (не целое число)\n",
    "\n",
    "st = [\"123\", \"abc\", \"-56.4\", \"0\", \"-5\"]\n",
    "digits = list(map(dg, st))  # [123, None, None, 0, -5]\n",
    "digits"
   ]
  },
  {
   "cell_type": "markdown",
   "metadata": {},
   "source": [
    "#6"
   ]
  },
  {
   "cell_type": "code",
   "execution_count": 55,
   "metadata": {},
   "outputs": [],
   "source": [
    "class RenderList:\n",
    "    def __init__(self, type_list:str) -> None:\n",
    "        self.__type_list = 'ol' if type_list == 'ol' else 'ul'\n",
    "\n",
    "    def __call__(self, lst) -> str:\n",
    "        lst = '</li>\\n<li>'.join(lst)\n",
    "        return f'<{self.__type_list}>\\n<li>{lst}</li>\\n</{self.__type_list}>'"
   ]
  },
  {
   "cell_type": "code",
   "execution_count": 56,
   "metadata": {},
   "outputs": [],
   "source": [
    "lst = [\"Пункт меню 1\", \"Пункт меню 2\", \"Пункт меню 3\"]\n",
    "render = RenderList(\"ol\")\n",
    "html = render(lst)\n",
    "print(html)"
   ]
  },
  {
   "cell_type": "markdown",
   "metadata": {},
   "source": [
    "#7"
   ]
  },
  {
   "cell_type": "code",
   "execution_count": 60,
   "metadata": {},
   "outputs": [],
   "source": [
    "class HandlerGET:\n",
    "    def __init__(self, fun) -> None:\n",
    "        self.__fun = fun\n",
    "\n",
    "    def __call__(self, *arg, **kwargs):\n",
    "        if 'method' in arg[0] and arg[0]['method'] != 'GET':\n",
    "            return None\n",
    "\n",
    "        return \"GET: \" + self.__fun(arg[0])"
   ]
  },
  {
   "cell_type": "code",
   "execution_count": 65,
   "metadata": {},
   "outputs": [
    {
     "data": {
      "text/plain": [
       "'GET: Сергей Балакирев'"
      ]
     },
     "execution_count": 65,
     "metadata": {},
     "output_type": "execute_result"
    }
   ],
   "source": [
    "@HandlerGET\n",
    "def contact(request):\n",
    "    return \"Сергей Балакирев\"\n",
    "\n",
    "res = contact({\"method\": \"GET\", \"url\": \"contact.html\"})\n",
    "res"
   ]
  },
  {
   "cell_type": "markdown",
   "metadata": {},
   "source": [
    "#8"
   ]
  },
  {
   "cell_type": "code",
   "execution_count": 78,
   "metadata": {},
   "outputs": [],
   "source": [
    "class Handler:\n",
    "    def __init__(self, methods=('GET')) -> None:\n",
    "        self.__methods = methods\n",
    "\n",
    "    def __call__(self, fun):\n",
    "        def wrapper(request):\n",
    "            if 'method' in request and request['method'] not in self.__methods:\n",
    "                return None\n",
    "\n",
    "            if 'method' not in request:\n",
    "                return f'GET: ' + fun(request)\n",
    "                \n",
    "            return f'{request[\"method\"]}: ' + fun(request)\n",
    "        \n",
    "        return wrapper\n",
    "\n",
    "    def get():\n",
    "        pass\n",
    "\n",
    "    def post():\n",
    "        pass\n"
   ]
  },
  {
   "cell_type": "code",
   "execution_count": 82,
   "metadata": {},
   "outputs": [
    {
     "data": {
      "text/plain": [
       "'POST: Сергей Балакирев'"
      ]
     },
     "execution_count": 82,
     "metadata": {},
     "output_type": "execute_result"
    }
   ],
   "source": [
    "@Handler(methods=('GET', 'POST'))\n",
    "def contact(request):\n",
    "    return \"Сергей Балакирев\"\n",
    "\n",
    "res = contact({\"method\": \"POST\", \"url\": \"contact.html\"})\n",
    "res"
   ]
  },
  {
   "cell_type": "markdown",
   "metadata": {},
   "source": [
    "#9"
   ]
  },
  {
   "cell_type": "code",
   "execution_count": 94,
   "metadata": {},
   "outputs": [
    {
     "data": {
      "text/plain": [
       "[12, -5, 10, 83]"
      ]
     },
     "execution_count": 94,
     "metadata": {},
     "output_type": "execute_result"
    }
   ],
   "source": [
    "class InputDigits:\n",
    "    def __init__(self, fun) -> None:\n",
    "        self.__fun = fun\n",
    "\n",
    "    def __call__(self):\n",
    "        return list(map(int, self.__fun().split()))\n",
    "\n",
    "input_dg = InputDigits(input)\n",
    "res = input_dg()\n",
    "res"
   ]
  },
  {
   "cell_type": "markdown",
   "metadata": {},
   "source": [
    "#10"
   ]
  },
  {
   "cell_type": "code",
   "execution_count": 109,
   "metadata": {},
   "outputs": [],
   "source": [
    "class InputValues:\n",
    "    def __init__(self, render):\n",
    "        self.__render = render\n",
    "\n",
    "    def __call__(self, func, *args, **kwargs): \n",
    "        def wrapper(*args, **kwargs):\n",
    "            return list(map(self.__render, func(*args, **kwargs).split()))\n",
    "        return wrapper\n",
    "\n",
    "class RenderDigit:\n",
    "    def __call__(self, string_number: str):\n",
    "        try:\n",
    "            return int(string_number)\n",
    "        except ValueError:\n",
    "            return None\n",
    "\n",
    "render = RenderDigit()\n",
    "input_dg = InputValues(render)(input)\n",
    "res = input_dg()"
   ]
  },
  {
   "cell_type": "code",
   "execution_count": 110,
   "metadata": {},
   "outputs": [
    {
     "data": {
      "text/plain": [
       "[123, 321, 123, None]"
      ]
     },
     "execution_count": 110,
     "metadata": {},
     "output_type": "execute_result"
    }
   ],
   "source": [
    "res"
   ]
  }
 ],
 "metadata": {
  "kernelspec": {
   "display_name": "Python 3.9.12 64-bit",
   "language": "python",
   "name": "python3"
  },
  "language_info": {
   "codemirror_mode": {
    "name": "ipython",
    "version": 3
   },
   "file_extension": ".py",
   "mimetype": "text/x-python",
   "name": "python",
   "nbconvert_exporter": "python",
   "pygments_lexer": "ipython3",
   "version": "3.9.12"
  },
  "orig_nbformat": 4,
  "vscode": {
   "interpreter": {
    "hash": "aee8b7b246df8f9039afb4144a1f6fd8d2ca17a180786b69acc140d282b71a49"
   }
  }
 },
 "nbformat": 4,
 "nbformat_minor": 2
}
