{
 "cells": [
  {
   "cell_type": "markdown",
   "metadata": {},
   "source": [
    "#3"
   ]
  },
  {
   "cell_type": "code",
   "execution_count": 7,
   "metadata": {},
   "outputs": [],
   "source": [
    "class TrackLine:\n",
    "    def __init__(self, to_x, to_y, max_speed) -> None:\n",
    "        self.to_x = to_x\n",
    "        self.to_y = to_y\n",
    "        self.max_speed = max_speed\n",
    "\n",
    "class Track:\n",
    "    def __init__(self, start_x=0, start_y=0) -> None:\n",
    "        self.start_x = start_x\n",
    "        self.start_y = start_y\n",
    "        self.tracks = []\n",
    "        self.length = 0\n",
    "\n",
    "    def add_track(self, tr: TrackLine):\n",
    "        if self.tracks:\n",
    "            self.length += self.get_length(self.tracks[-1].to_x, self.tracks[-1].to_y, tr.to_x, tr.to_y)\n",
    "        else:\n",
    "            self.length += self.get_length(self.start_x, self.start_y, tr.to_x, tr.to_y)\n",
    "\n",
    "        self.tracks.append(tr)\n",
    "\n",
    "    def get_tracks(self):\n",
    "        return tuple(self.tracks)\n",
    "\n",
    "    @staticmethod\n",
    "    def get_length(x0, y0, x1, y1):\n",
    "        return ((x1 - x0)**2 + (y1 - y0)**2) ** 0.5\n",
    "\n",
    "    def __len__(self):\n",
    "        return int(self.length)\n",
    "\n",
    "    def __eq__(self, obj) -> bool:\n",
    "        return self.length == obj.length\n",
    "    \n",
    "    def __gt__(self, obj) -> bool:\n",
    "        return self.length > obj.length"
   ]
  },
  {
   "cell_type": "code",
   "execution_count": 8,
   "metadata": {},
   "outputs": [],
   "source": [
    "track1, track2 = Track(), Track(0, 1)\n",
    "track1.add_track(TrackLine(2, 4, 100))\n",
    "track1.add_track(TrackLine(5, -4, 100))\n",
    "track2.add_track(TrackLine(3, 2, 90))\n",
    "track2.add_track(TrackLine(10, 8, 90))\n",
    "res_eq = track1 == track2"
   ]
  },
  {
   "cell_type": "markdown",
   "metadata": {},
   "source": [
    "#4"
   ]
  },
  {
   "cell_type": "code",
   "execution_count": 12,
   "metadata": {},
   "outputs": [],
   "source": [
    "class Dimensions:\n",
    "    MIN_DIMENSION = 10\n",
    "    MAX_DIMENSION = 10000\n",
    "\n",
    "    def __init__(self, a, b, c) -> None:\n",
    "        self.a = a\n",
    "        self.b = b\n",
    "        self.c = c\n",
    "    \n",
    "    @classmethod\n",
    "    def __checker(cls, value):\n",
    "        return cls.MIN_DIMENSION <= value <= cls.MAX_DIMENSION\n",
    "\n",
    "    def get_volume(self):\n",
    "        return self.a * self.b * self.c\n",
    "\n",
    "    @property\n",
    "    def a(self):\n",
    "        return self.__a\n",
    "    \n",
    "    @a.setter\n",
    "    def a(self, value):\n",
    "        if self.__checker(value):\n",
    "            self.__a = value\n",
    "\n",
    "    @property\n",
    "    def b(self):\n",
    "        return self.__b\n",
    "    \n",
    "    @b.setter\n",
    "    def b(self, value):\n",
    "        if self.__checker(value):\n",
    "            self.__b = value\n",
    "\n",
    "    @property\n",
    "    def c(self):\n",
    "        return self.__c\n",
    "    \n",
    "    @c.setter\n",
    "    def c(self, value):\n",
    "        if self.__checker(value):\n",
    "            self.__c = value\n",
    "\n",
    "    def __gt__(self, obj):\n",
    "        return self.get_volume() > obj.get_volume()\n",
    "\n",
    "    def __ge__(self, obj):\n",
    "        return self.get_volume() >= obj.get_volume()\n",
    "\n",
    "class ShopItem:\n",
    "    def __init__(self, name, price, dim) -> None:\n",
    "        self.name = name\n",
    "        self.price = price\n",
    "        self.dim = dim\n",
    "        "
   ]
  },
  {
   "cell_type": "code",
   "execution_count": 14,
   "metadata": {},
   "outputs": [],
   "source": [
    "trainers = ShopItem('кеды', 1024, Dimensions(40, 30, 120))\n",
    "umbrella = ShopItem('зонт', 500.24, Dimensions(10, 20, 50))\n",
    "fridge = ShopItem('холодильник', 40000, Dimensions(2000, 600, 500))\n",
    "chair = ShopItem('табуретка', 2000.99, Dimensions(500, 200, 200))\n",
    "lst_shop = [trainers, umbrella, fridge, chair]\n",
    "lst_shop_sorted = sorted(lst_shop, key=lambda x: x.dim.get_volume())"
   ]
  },
  {
   "cell_type": "markdown",
   "metadata": {},
   "source": [
    "#5"
   ]
  },
  {
   "cell_type": "code",
   "execution_count": 27,
   "metadata": {},
   "outputs": [],
   "source": [
    "class StringText:\n",
    "    def __init__(self, lst) -> None:\n",
    "        self.words = lst\n",
    "\n",
    "    def __gt__(self, obj):\n",
    "        return len(self.words) > len(obj.words)\n",
    "    \n",
    "    def __ge__(self, obj):\n",
    "        return len(self.words) >= len(obj.words)\n",
    "\n",
    "stich = [\"Я к вам пишу – чего же боле?\",\n",
    "        \"Что я могу еще сказать?\",\n",
    "        \"Теперь, я знаю, в вашей воле\",\n",
    "        \"Меня презреньем наказать.\",\n",
    "        \"Но вы, к моей несчастной доле\",\n",
    "        \"Хоть каплю жалости храня,\",\n",
    "        \"Вы не оставите меня.\"]\n",
    "\n",
    "\n",
    "stich = [x.strip('–?!,.;').split() for x in stich]\n",
    "lst_text = [StringText(x) for x in stich]\n",
    "lst_text_sorted = sorted(lst_text, key=lambda x: len(x.words), reverse=True)\n",
    "lst_text_sorted = [' '.join(x.words) for x in lst_text_sorted]\n"
   ]
  },
  {
   "cell_type": "code",
   "execution_count": 28,
   "metadata": {},
   "outputs": [
    {
     "data": {
      "text/plain": [
       "['Я к вам пишу – чего же боле',\n",
       " 'Теперь, я знаю, в вашей воле',\n",
       " 'Но вы, к моей несчастной доле',\n",
       " 'Что я могу еще сказать',\n",
       " 'Хоть каплю жалости храня',\n",
       " 'Вы не оставите меня',\n",
       " 'Меня презреньем наказать']"
      ]
     },
     "execution_count": 28,
     "metadata": {},
     "output_type": "execute_result"
    }
   ],
   "source": [
    "lst_text_sorted"
   ]
  },
  {
   "cell_type": "markdown",
   "metadata": {},
   "source": [
    "#6"
   ]
  },
  {
   "cell_type": "code",
   "execution_count": 31,
   "metadata": {},
   "outputs": [],
   "source": [
    "class Morph:\n",
    "    def __init__(self, *args) -> None:\n",
    "        self.words = [x.lower() for x in args]\n",
    "\n",
    "    def add_word(self, word):\n",
    "        if word not in self.words:\n",
    "            self.words.append(word)\n",
    "\n",
    "    def get_words(self):\n",
    "        return tuple(self.words)\n",
    "\n",
    "    def __eq__(self, word) -> bool:\n",
    "        return word.lower() in self.words"
   ]
  },
  {
   "cell_type": "code",
   "execution_count": 37,
   "metadata": {},
   "outputs": [],
   "source": [
    "dict_words = [Morph('связь', 'связи', 'связью', 'связи', 'связей', 'связям', 'связями', 'связях'),\n",
    "                Morph('формула', 'формулы', 'формуле', 'формулу', 'формулой', 'формул', 'формулам', 'формулами','формулах'),\n",
    "                Morph('вектор', 'вектора', 'вектору', 'вектором', 'векторе', 'векторы', 'векторов', 'векторам', 'векторами', 'векторах'),\n",
    "                Morph('эффект', 'эффекта', 'эффекту', 'эффектом', 'эффекте', 'эффекты', 'эффектов', 'эффектам', 'эффектами', 'эффектах'),\n",
    "                Morph('день', 'дня', 'дню', 'днем', 'дне', 'дни', 'дням', 'днями', 'днях')]\n",
    "\n",
    "text = input()\n",
    "\n",
    "text = text.strip('–?!,.;').lower().split()\n",
    "\n",
    "c = 0\n",
    "\n",
    "for word in text:\n",
    "    for morh in dict_words:\n",
    "        if morh == word:\n",
    "            c += 1 \n",
    "\n",
    "print(c)"
   ]
  },
  {
   "cell_type": "markdown",
   "metadata": {},
   "source": [
    "#7"
   ]
  },
  {
   "cell_type": "code",
   "execution_count": 83,
   "metadata": {},
   "outputs": [],
   "source": [
    "class FileAcceptor:\n",
    "    def __init__(self, *args) -> None:\n",
    "        self.extensions = list(args)\n",
    "\n",
    "    def __call__(self, filename):\n",
    "        if filename.split('.')[-1] in self.extensions:\n",
    "            return True\n",
    "\n",
    "        return False\n",
    "\n",
    "    def __add__(self, obj):\n",
    "        return FileAcceptor(*self.extensions + obj.extensions)"
   ]
  },
  {
   "cell_type": "code",
   "execution_count": 94,
   "metadata": {},
   "outputs": [],
   "source": [
    "filenames = [\"boat.jpg\", \"ans.web.png\", \"text.txt\", \"www.python.doc\", \"my.ava.jpg\", \"forest.jpeg\", \"eq_1.png\", \"eq_2.xls\"]\n",
    "acceptor_images = FileAcceptor(\"jpg\", \"jpeg\", \"png\")\n",
    "acceptor_docs = FileAcceptor(\"txt\", \"doc\", \"xls\")\n",
    "filenames = list(filter(acceptor_images + acceptor_docs, filenames))"
   ]
  },
  {
   "cell_type": "markdown",
   "metadata": {},
   "source": [
    "#8"
   ]
  },
  {
   "cell_type": "code",
   "execution_count": 141,
   "metadata": {},
   "outputs": [],
   "source": [
    "class MoneyR:\n",
    "    def __init__(self, volume=0) -> None:\n",
    "        self.cb = None\n",
    "        self.volume = volume\n",
    "\n",
    "    @property\n",
    "    def cb(self):\n",
    "        return self.__cb\n",
    "\n",
    "    @cb.setter\n",
    "    def cb(self, cb):\n",
    "        self.__cb = cb\n",
    "\n",
    "    @property\n",
    "    def volume(self):\n",
    "        return self.__volume\n",
    "\n",
    "    @volume.setter\n",
    "    def volume(self, volume):\n",
    "        self.__volume = volume\n",
    "\n",
    "    def check(self):\n",
    "        if self.cb is None:\n",
    "            raise ValueError(\"Неизвестен курс валют.\")\n",
    "    \n",
    "    def convert(self):\n",
    "        self.check()\n",
    "        return self.volume / self.cb.rates['rub']\n",
    "\n",
    "    def __eq__(self, money) -> bool:\n",
    "        return True if self.convert() - money.convert() <= 0.1 else False\n",
    "\n",
    "    def __gt__(self, money) -> bool:\n",
    "        return self.convert() > money.convert()\n",
    "    \n",
    "    def __ge__(self, money) -> bool:\n",
    "        return self.convert() > money.convert()\n",
    "\n",
    "class MoneyD:\n",
    "    def __init__(self, volume=0) -> None:\n",
    "        self.cb = None\n",
    "        self.volume = volume\n",
    "\n",
    "    @property\n",
    "    def cb(self):\n",
    "        return self.__cb\n",
    "\n",
    "    @cb.setter\n",
    "    def cb(self, cb):\n",
    "        self.__cb = cb\n",
    "\n",
    "    @property\n",
    "    def volume(self):\n",
    "        return self.__volume\n",
    "\n",
    "    @volume.setter\n",
    "    def volume(self, volume):\n",
    "        self.__volume = volume\n",
    "\n",
    "    def check(self):\n",
    "        if self.cb is None:\n",
    "            raise ValueError(\"Неизвестен курс валют.\")\n",
    "    \n",
    "    def convert(self):\n",
    "        self.check()\n",
    "        return self.volume\n",
    "\n",
    "    def __eq__(self, money) -> bool:\n",
    "        return True if self.convert() - money.convert() <= 0.1 else False\n",
    "\n",
    "    def __gt__(self, money) -> bool:\n",
    "        return self.convert() > money.convert()\n",
    "    \n",
    "    def __ge__(self, money) -> bool:\n",
    "        return self.convert() > money.convert()\n",
    "\n",
    "class MoneyE:\n",
    "    def __init__(self, volume=0) -> None:\n",
    "        self.cb = None\n",
    "        self.volume = volume\n",
    "\n",
    "    @property\n",
    "    def cb(self):\n",
    "        return self.__cb\n",
    "\n",
    "    @cb.setter\n",
    "    def cb(self, cb):\n",
    "        self.__cb = cb\n",
    "\n",
    "    @property\n",
    "    def volume(self):\n",
    "        return self.__volume\n",
    "\n",
    "    @volume.setter\n",
    "    def volume(self, volume):\n",
    "        self.__volume = volume\n",
    "\n",
    "    def check(self):\n",
    "        if self.cb is None:\n",
    "            raise ValueError(\"Неизвестен курс валют.\")\n",
    "    \n",
    "    def convert(self):\n",
    "        self.check()\n",
    "        return self.volume / self.cb.rates['euro']\n",
    "\n",
    "    def __eq__(self, money) -> bool:\n",
    "        return True if self.convert() - money.convert() <= 0.1 else False\n",
    "\n",
    "    def __gt__(self, money) -> bool:\n",
    "        return self.convert() > money.convert()\n",
    "    \n",
    "    def __ge__(self, money) -> bool:\n",
    "        return self.convert() > money.convert()\n",
    "\n",
    "\n",
    "class CentralBank:\n",
    "    rates = {'rub': 72.5, 'dollar': 1.0, 'euro': 1.15}\n",
    "\n",
    "    def __new__(cls):\n",
    "        return None\n",
    "\n",
    "    def register(money):\n",
    "        money.cb = CentralBank"
   ]
  },
  {
   "cell_type": "code",
   "execution_count": 144,
   "metadata": {},
   "outputs": [
    {
     "name": "stdout",
     "output_type": "stream",
     "text": [
      "неплохо\n"
     ]
    }
   ],
   "source": [
    "CentralBank.rates = {'rub': 72.5, 'dollar': 1.0, 'euro': 1.15}\n",
    "\n",
    "r = MoneyR(45000)\n",
    "d = MoneyD(500)\n",
    "\n",
    "CentralBank.register(r)\n",
    "CentralBank.register(d)\n",
    "\n",
    "if r > d:\n",
    "    print(\"неплохо\")\n",
    "else:\n",
    "    print(\"нужно поднажать\")\n"
   ]
  },
  {
   "cell_type": "markdown",
   "metadata": {},
   "source": [
    "#9"
   ]
  },
  {
   "cell_type": "code",
   "execution_count": 145,
   "metadata": {},
   "outputs": [],
   "source": [
    "class Body:\n",
    "    def __init__(self, name, ro, volume) -> None:\n",
    "        self.name = name\n",
    "        self.ro = ro\n",
    "        self.volume = volume\n",
    "        self.mass = ro * volume\n",
    "\n",
    "    @staticmethod\n",
    "    def __convert(body):\n",
    "        if type(body) == Body:\n",
    "            return body.mass\n",
    "\n",
    "        return body\n",
    "\n",
    "    def __eq__(self, body) -> bool:\n",
    "        return self.mass == self.__convert(body)\n",
    "\n",
    "    def __gt__(self, body) -> bool:\n",
    "        return self.mass > self.__convert(body)\n",
    "\n",
    "    def __lt__(self, body) -> bool:\n",
    "        return self.mass < self.__convert(body)\n"
   ]
  },
  {
   "cell_type": "markdown",
   "metadata": {},
   "source": [
    "#10"
   ]
  },
  {
   "cell_type": "code",
   "execution_count": 149,
   "metadata": {},
   "outputs": [],
   "source": [
    "class Thing:\n",
    "    def __init__(self, name, mass) -> None:\n",
    "        self.name = name\n",
    "        self.mass = mass\n",
    "\n",
    "    def __eq__(self, obj) -> bool:\n",
    "        return self.name.lower() == obj.name.lower() and self.mass == obj.mass\n",
    "\n",
    "class Box:\n",
    "    def __init__(self) -> None:\n",
    "        self.box = []\n",
    "\n",
    "    def add_thing(self, obj):\n",
    "        self.box.append(obj)\n",
    "    \n",
    "    def get_things(self):\n",
    "        return self.box\n",
    "\n",
    "    def __eq__(self, obj) -> bool:\n",
    "        is_equal = True\n",
    "\n",
    "        for thing in self.box:\n",
    "            c = 0\n",
    "            for other_thing in obj.box:\n",
    "                if thing == other_thing:\n",
    "                    c += 1\n",
    "            \n",
    "            if c != 1:\n",
    "                is_equal = False\n",
    "\n",
    "        return is_equal\n",
    "            "
   ]
  },
  {
   "cell_type": "code",
   "execution_count": 152,
   "metadata": {},
   "outputs": [
    {
     "data": {
      "text/plain": [
       "True"
      ]
     },
     "execution_count": 152,
     "metadata": {},
     "output_type": "execute_result"
    }
   ],
   "source": [
    "b1 = Box()\n",
    "b2 = Box()\n",
    "\n",
    "b1.add_thing(Thing('мел', 100))\n",
    "b1.add_thing(Thing('тряпка', 200))\n",
    "b1.add_thing(Thing('доска', 2000))\n",
    "\n",
    "b2.add_thing(Thing('тряпка', 200))\n",
    "b2.add_thing(Thing('мел', 100))\n",
    "b2.add_thing(Thing('доска', 2000))\n",
    "\n",
    "res = b1 == b2 # True\n",
    "res"
   ]
  },
  {
   "cell_type": "code",
   "execution_count": 151,
   "metadata": {},
   "outputs": [
    {
     "data": {
      "text/plain": [
       "True"
      ]
     },
     "execution_count": 151,
     "metadata": {},
     "output_type": "execute_result"
    }
   ],
   "source": [
    "res"
   ]
  },
  {
   "cell_type": "code",
   "execution_count": null,
   "metadata": {},
   "outputs": [],
   "source": []
  }
 ],
 "metadata": {
  "kernelspec": {
   "display_name": "Python 3.9.12 64-bit",
   "language": "python",
   "name": "python3"
  },
  "language_info": {
   "codemirror_mode": {
    "name": "ipython",
    "version": 3
   },
   "file_extension": ".py",
   "mimetype": "text/x-python",
   "name": "python",
   "nbconvert_exporter": "python",
   "pygments_lexer": "ipython3",
   "version": "3.9.12"
  },
  "orig_nbformat": 4,
  "vscode": {
   "interpreter": {
    "hash": "aee8b7b246df8f9039afb4144a1f6fd8d2ca17a180786b69acc140d282b71a49"
   }
  }
 },
 "nbformat": 4,
 "nbformat_minor": 2
}
