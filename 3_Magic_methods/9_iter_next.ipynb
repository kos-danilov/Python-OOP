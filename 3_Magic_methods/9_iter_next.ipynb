{
 "cells": [
  {
   "cell_type": "markdown",
   "metadata": {},
   "source": [
    "#5"
   ]
  },
  {
   "cell_type": "code",
   "execution_count": 1,
   "metadata": {},
   "outputs": [],
   "source": [
    "class Person:\n",
    "    def __init__(self, fio, job, old, salary, year_job) -> None:\n",
    "        self.fio = fio\n",
    "        self.job = job\n",
    "        self.old = old\n",
    "        self.salary = salary\n",
    "        self.year_job = year_job\n",
    "        self.__indx = ['fio', 'job', 'old', 'salary', 'year_job']\n",
    "    \n",
    "    @staticmethod\n",
    "    def __check(value):\n",
    "        if not (0 <= value < 5 and type(value) is int):\n",
    "            raise IndexError('неверный индекс')\n",
    "\n",
    "    def __getitem__(self, indx):\n",
    "        self.__check(indx)\n",
    "        return self.__getattribute__(self.__indx[indx])\n",
    "\n",
    "    def __setitem__(self, key, value):\n",
    "        self.__check(key)\n",
    "        self.__setattr__(self.__indx[key], value)\n",
    "\n",
    "    def __iter__(self):\n",
    "        self.curr_indx = 0\n",
    "        return self\n",
    "\n",
    "    def __next__(self):\n",
    "        if self.curr_indx < 5:\n",
    "            self.curr_indx += 1\n",
    "            return self.__getattribute__(self.__indx[self.curr_indx - 1])\n",
    "        else:\n",
    "            raise StopIteration\n",
    "            \n"
   ]
  },
  {
   "cell_type": "code",
   "execution_count": 2,
   "metadata": {},
   "outputs": [
    {
     "name": "stdout",
     "output_type": "stream",
     "text": [
      "Балакирев С.М.\n",
      "бизнесмен\n",
      "61\n",
      "1000000\n",
      "46\n"
     ]
    },
    {
     "ename": "IndexError",
     "evalue": "неверный индекс",
     "output_type": "error",
     "traceback": [
      "\u001b[0;31m---------------------------------------------------------------------------\u001b[0m",
      "\u001b[0;31mIndexError\u001b[0m                                Traceback (most recent call last)",
      "\u001b[1;32m/Users/konstantin/Documents/Courses/Python_OOP/3_Magic_methods/9_iter_next.ipynb Ячейка 3\u001b[0m in \u001b[0;36m<cell line: 5>\u001b[0;34m()\u001b[0m\n\u001b[1;32m      <a href='vscode-notebook-cell:/Users/konstantin/Documents/Courses/Python_OOP/3_Magic_methods/9_iter_next.ipynb#W1sZmlsZQ%3D%3D?line=2'>3</a>\u001b[0m \u001b[39mfor\u001b[39;00m v \u001b[39min\u001b[39;00m pers:\n\u001b[1;32m      <a href='vscode-notebook-cell:/Users/konstantin/Documents/Courses/Python_OOP/3_Magic_methods/9_iter_next.ipynb#W1sZmlsZQ%3D%3D?line=3'>4</a>\u001b[0m     \u001b[39mprint\u001b[39m(v)\n\u001b[0;32m----> <a href='vscode-notebook-cell:/Users/konstantin/Documents/Courses/Python_OOP/3_Magic_methods/9_iter_next.ipynb#W1sZmlsZQ%3D%3D?line=4'>5</a>\u001b[0m pers[\u001b[39m5\u001b[39m] \u001b[39m=\u001b[39m \u001b[39m123\u001b[39m\n",
      "\u001b[1;32m/Users/konstantin/Documents/Courses/Python_OOP/3_Magic_methods/9_iter_next.ipynb Ячейка 3\u001b[0m in \u001b[0;36mPerson.__setitem__\u001b[0;34m(self, key, value)\u001b[0m\n\u001b[1;32m     <a href='vscode-notebook-cell:/Users/konstantin/Documents/Courses/Python_OOP/3_Magic_methods/9_iter_next.ipynb#W1sZmlsZQ%3D%3D?line=18'>19</a>\u001b[0m \u001b[39mdef\u001b[39;00m \u001b[39m__setitem__\u001b[39m(\u001b[39mself\u001b[39m, key, value):\n\u001b[0;32m---> <a href='vscode-notebook-cell:/Users/konstantin/Documents/Courses/Python_OOP/3_Magic_methods/9_iter_next.ipynb#W1sZmlsZQ%3D%3D?line=19'>20</a>\u001b[0m     \u001b[39mself\u001b[39;49m\u001b[39m.\u001b[39;49m__check(key)\n\u001b[1;32m     <a href='vscode-notebook-cell:/Users/konstantin/Documents/Courses/Python_OOP/3_Magic_methods/9_iter_next.ipynb#W1sZmlsZQ%3D%3D?line=20'>21</a>\u001b[0m     \u001b[39mself\u001b[39m\u001b[39m.\u001b[39m\u001b[39m__setattr__\u001b[39m(\u001b[39mself\u001b[39m\u001b[39m.\u001b[39m__indx[key], value)\n",
      "\u001b[1;32m/Users/konstantin/Documents/Courses/Python_OOP/3_Magic_methods/9_iter_next.ipynb Ячейка 3\u001b[0m in \u001b[0;36mPerson.__check\u001b[0;34m(value)\u001b[0m\n\u001b[1;32m     <a href='vscode-notebook-cell:/Users/konstantin/Documents/Courses/Python_OOP/3_Magic_methods/9_iter_next.ipynb#W1sZmlsZQ%3D%3D?line=9'>10</a>\u001b[0m \u001b[39m@staticmethod\u001b[39m\n\u001b[1;32m     <a href='vscode-notebook-cell:/Users/konstantin/Documents/Courses/Python_OOP/3_Magic_methods/9_iter_next.ipynb#W1sZmlsZQ%3D%3D?line=10'>11</a>\u001b[0m \u001b[39mdef\u001b[39;00m \u001b[39m__check\u001b[39m(value):\n\u001b[1;32m     <a href='vscode-notebook-cell:/Users/konstantin/Documents/Courses/Python_OOP/3_Magic_methods/9_iter_next.ipynb#W1sZmlsZQ%3D%3D?line=11'>12</a>\u001b[0m     \u001b[39mif\u001b[39;00m \u001b[39mnot\u001b[39;00m (\u001b[39m0\u001b[39m \u001b[39m<\u001b[39m\u001b[39m=\u001b[39m value \u001b[39m<\u001b[39m \u001b[39m5\u001b[39m \u001b[39mand\u001b[39;00m \u001b[39mtype\u001b[39m(value) \u001b[39mis\u001b[39;00m \u001b[39mint\u001b[39m):\n\u001b[0;32m---> <a href='vscode-notebook-cell:/Users/konstantin/Documents/Courses/Python_OOP/3_Magic_methods/9_iter_next.ipynb#W1sZmlsZQ%3D%3D?line=12'>13</a>\u001b[0m         \u001b[39mraise\u001b[39;00m \u001b[39mIndexError\u001b[39;00m(\u001b[39m'\u001b[39m\u001b[39mневерный индекс\u001b[39m\u001b[39m'\u001b[39m)\n",
      "\u001b[0;31mIndexError\u001b[0m: неверный индекс"
     ]
    }
   ],
   "source": [
    "pers = Person('Гейтс Б.', 'бизнесмен', 61, 1000000, 46)\n",
    "pers[0] = 'Балакирев С.М.'\n",
    "for v in pers:\n",
    "    print(v)\n",
    "pers[5] = 123 # IndexError"
   ]
  },
  {
   "cell_type": "markdown",
   "metadata": {},
   "source": [
    "#6"
   ]
  },
  {
   "cell_type": "code",
   "execution_count": 3,
   "metadata": {},
   "outputs": [],
   "source": [
    "class TriangleListIterator:\n",
    "    def __init__(self, lst) -> None:\n",
    "        self.lst = lst\n",
    "\n",
    "    # def __iter__(self):\n",
    "    #     self.curr_end = 0\n",
    "    #     self.curr_elem = 0\n",
    "    #     self.curr_row = 0\n",
    "    #     return self\n",
    "\n",
    "    # def __next__(self):\n",
    "    #     if self.curr_row == len(self.lst):\n",
    "    #         raise StopIteration\n",
    "    #     if self.curr_elem == self.curr_end:\n",
    "    #         self.curr_end += 1\n",
    "    #         curr_row = self.curr_row\n",
    "    #         self.curr_row += 1\n",
    "    #         curr_elem = self.curr_elem\n",
    "    #         self.curr_elem = 0\n",
    "    #         return self.lst[curr_row][curr_elem]\n",
    "    #     else:\n",
    "    #         self.curr_elem += 1\n",
    "    #         return self.lst[self.curr_row][self.curr_elem - 1]\n",
    "\n",
    "    def __iter__(self):\n",
    "        for row in range(len(self.lst)):\n",
    "            for elem in range(row + 1):\n",
    "                yield self.lst[row][elem]"
   ]
  },
  {
   "cell_type": "code",
   "execution_count": 4,
   "metadata": {},
   "outputs": [
    {
     "name": "stdout",
     "output_type": "stream",
     "text": [
      "1 1 2 1 2 3 1 2 3 4 "
     ]
    }
   ],
   "source": [
    "lst = [[1],\n",
    "       [1, 2],\n",
    "       [1, 2, 3],\n",
    "       [1, 2, 3, 4]\n",
    "        ]\n",
    "\n",
    "for i in TriangleListIterator(lst):\n",
    "    print(i, end = ' ')"
   ]
  },
  {
   "cell_type": "markdown",
   "metadata": {},
   "source": [
    "#7"
   ]
  },
  {
   "cell_type": "code",
   "execution_count": 5,
   "metadata": {},
   "outputs": [],
   "source": [
    "class IterColumn:\n",
    "    def __init__(self, lst, column) -> None:\n",
    "        self.lst = lst\n",
    "        self.column = column\n",
    "\n",
    "    def __iter__(self):\n",
    "        for row in self.lst:\n",
    "            yield row[self.column]"
   ]
  },
  {
   "cell_type": "code",
   "execution_count": 6,
   "metadata": {},
   "outputs": [
    {
     "name": "stdout",
     "output_type": "stream",
     "text": [
      "1 1 1 1 "
     ]
    }
   ],
   "source": [
    "lst = [[1],\n",
    "       [1, 2],\n",
    "       [1, 2, 3],\n",
    "       [1, 2, 3, 4]\n",
    "        ]\n",
    "\n",
    "for i in IterColumn(lst, 0):\n",
    "    print(i, end = ' ')"
   ]
  },
  {
   "cell_type": "markdown",
   "metadata": {},
   "source": [
    "#8"
   ]
  },
  {
   "cell_type": "code",
   "execution_count": 7,
   "metadata": {},
   "outputs": [],
   "source": [
    "class StackObj:\n",
    "    def __init__(self, data) -> None:\n",
    "        self.data = data\n",
    "        self.next = None\n",
    "\n",
    "class Stack:\n",
    "    def __init__(self) -> None:\n",
    "        self.__len = 0\n",
    "        self.top = None\n",
    "\n",
    "    def __check(self, indx):\n",
    "        if not (0 <= indx < self.__len and type(indx) is int):\n",
    "            raise IndexError('неверный индекс')\n",
    "\n",
    "    def __get_elem_by_indx(self, indx):\n",
    "        self.__check(indx)\n",
    "\n",
    "        curr_elem_indx = 0\n",
    "        curr_elem = self.top\n",
    "\n",
    "        while curr_elem_indx != indx:\n",
    "            curr_elem_indx += 1\n",
    "            curr_elem = curr_elem.next\n",
    "\n",
    "        return curr_elem \n",
    "\n",
    "    def push_back(self, obj):\n",
    "        if self.top:\n",
    "            last = self.__get_elem_by_indx(self.__len - 1)\n",
    "            last.next = obj\n",
    "        else:\n",
    "            self.top = obj\n",
    "\n",
    "        self.__len += 1\n",
    "\n",
    "    def push_front(self, obj):\n",
    "        if self.top:\n",
    "            obj.next = self.top\n",
    "            self.top = obj\n",
    "        else:\n",
    "            self.top = obj\n",
    "\n",
    "        self.__len += 1\n",
    "\n",
    "    def __getitem__(self, indx):\n",
    "        self.__check(indx)\n",
    "        \n",
    "        return self.__get_elem_by_indx(indx).data\n",
    "\n",
    "    def __setitem__(self, indx, value):\n",
    "        self.__check(indx)\n",
    "        self.__get_elem_by_indx(indx).data = value\n",
    "\n",
    "    def __len__(self):\n",
    "        return self.__len\n",
    "\n",
    "    def __iter__(self):\n",
    "        curr = self.top\n",
    "        \n",
    "        if curr:\n",
    "            yield curr\n",
    "\n",
    "        while curr.next:\n",
    "            curr = curr.next\n",
    "            yield curr\n",
    "\n",
    "            "
   ]
  },
  {
   "cell_type": "markdown",
   "metadata": {},
   "source": [
    "#9"
   ]
  },
  {
   "cell_type": "code",
   "execution_count": 8,
   "metadata": {},
   "outputs": [],
   "source": [
    "class Cell:\n",
    "    def __init__(self, data) -> None:\n",
    "        self.data = data\n",
    "\n",
    "    @property\n",
    "    def data(self):\n",
    "        return self.__data\n",
    "\n",
    "    @data.setter\n",
    "    def data(self, data):\n",
    "        self.__data = data\n",
    "\n",
    "class TableValues:\n",
    "    def __init__(self, rows, cols, type_data=int) -> None:\n",
    "        self.rows = rows\n",
    "        self.cols = cols\n",
    "        self.type_data = type_data\n",
    "        self.table = [[Cell(0) for x in range(self.cols)] for y in range(self.rows)]\n",
    "\n",
    "    def __indx_check(self, indx):\n",
    "        if not all([type(value) is int for value in indx]):\n",
    "            raise IndexError('неверный индекс')\n",
    "\n",
    "        if not (0 <= indx[0] < self.rows and 0 <= indx[1] < self.cols):\n",
    "            raise IndexError('неверный индекс')\n",
    "\n",
    "    def __getitem__(self, indx):\n",
    "        self.__indx_check(indx)\n",
    "        return self.table[indx[0]][indx[1]].data\n",
    "\n",
    "    def __setitem__(self, indx, value):\n",
    "        self.__indx_check(indx)\n",
    "\n",
    "        if type(value) is not self.type_data:\n",
    "            raise TypeError('неверный тип присваиваемых данных')\n",
    "\n",
    "        self.table[indx[0]][indx[1]].data = value\n",
    "\n",
    "    def __iter__(self):\n",
    "        for row in self.table:\n",
    "            yield (x.data for x in row)"
   ]
  },
  {
   "cell_type": "markdown",
   "metadata": {},
   "source": [
    "#10"
   ]
  },
  {
   "cell_type": "code",
   "execution_count": 9,
   "metadata": {},
   "outputs": [],
   "source": [
    "class Matrix:\n",
    "    def __init__(self, *args) -> None:\n",
    "        if len(args) == 3:\n",
    "            if type(args[0]) is not int or type(args[1]) is not int or type(args[2]) not in (int, float):\n",
    "                raise TypeError('аргументы rows, cols - целые числа; fill_value - произвольное число')\n",
    "\n",
    "            self.rows = args[0]\n",
    "            self.cols = args[1]\n",
    "            self.matrix = [[args[2] for x in range(self.cols)] for y in range(self.rows)]\n",
    "\n",
    "        if len(args) == 1:\n",
    "            curr_len = len(args[0][0])\n",
    "            \n",
    "            for row in args[0]:\n",
    "                if len(row) != curr_len:\n",
    "                    raise TypeError('список должен быть прямоугольным, состоящим из чисел')\n",
    "                \n",
    "                for elem in row:\n",
    "                    if type(elem) not in (int, float):\n",
    "                        raise TypeError('список должен быть прямоугольным, состоящим из чисел')\n",
    "            \n",
    "            self.matrix = args[0]\n",
    "            self.rows = len(self.matrix)\n",
    "            self.cols = len(self.matrix[0])\n",
    "\n",
    "    def __indx_check(self, indx):\n",
    "        if not all([type(value) is int for value in indx]):\n",
    "            raise IndexError('неверный индекс')\n",
    "\n",
    "        if not (0 <= indx[0] < self.rows and 0 <= indx[1] < self.cols):\n",
    "            raise IndexError('неверный индекс')\n",
    "\n",
    "    def __getitem__(self, indx):\n",
    "        self.__indx_check(indx)\n",
    "        return self.matrix[indx[0]][indx[1]]\n",
    "\n",
    "    def __setitem__(self, indx, value):\n",
    "        self.__indx_check(indx)\n",
    "\n",
    "        if type(value) not in (int, float):\n",
    "            raise TypeError('значения матрицы должны быть числами')\n",
    "\n",
    "        self.matrix[indx[0]][indx[1]] = value\n",
    "\n",
    "    def __add__(self, obj):\n",
    "        if type(obj) in (int, float):\n",
    "            return Matrix([[x + obj for x in y] for y in self.matrix])\n",
    "\n",
    "        if type(obj) is Matrix:\n",
    "            if self.rows != obj.rows or self.cols != self.cols:\n",
    "                raise ValueError('операции возможны только с матрицами равных размеров')\n",
    "\n",
    "            return Matrix([[self.matrix[y][x] + obj.matrix[y][x] for x in range(self.cols)] for y in range(self.rows)])\n",
    "\n",
    "    def __sub__(self, obj):\n",
    "        if type(obj) in (int, float):\n",
    "            return Matrix([[x - obj for x in y] for y in self.matrix])\n",
    "\n",
    "        if type(obj) is Matrix:\n",
    "            if self.rows != obj.rows or self.cols != self.cols:\n",
    "                raise ValueError('операции возможны только с матрицами равных размеров')\n",
    "\n",
    "            return Matrix([[self.matrix[y][x] - obj.matrix[y][x] for x in range(self.cols)] for y in range(self.rows)])"
   ]
  }
 ],
 "metadata": {
  "kernelspec": {
   "display_name": "Python 3.9.12 64-bit",
   "language": "python",
   "name": "python3"
  },
  "language_info": {
   "codemirror_mode": {
    "name": "ipython",
    "version": 3
   },
   "file_extension": ".py",
   "mimetype": "text/x-python",
   "name": "python",
   "nbconvert_exporter": "python",
   "pygments_lexer": "ipython3",
   "version": "3.9.12"
  },
  "orig_nbformat": 4,
  "vscode": {
   "interpreter": {
    "hash": "aee8b7b246df8f9039afb4144a1f6fd8d2ca17a180786b69acc140d282b71a49"
   }
  }
 },
 "nbformat": 4,
 "nbformat_minor": 2
}
