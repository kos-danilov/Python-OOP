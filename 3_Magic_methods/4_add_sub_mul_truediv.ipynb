{
 "cells": [
  {
   "cell_type": "markdown",
   "metadata": {},
   "source": [
    "#4"
   ]
  },
  {
   "cell_type": "code",
   "execution_count": 39,
   "metadata": {},
   "outputs": [],
   "source": [
    "class NewList():\n",
    "    def __init__(self, data=None) -> None:\n",
    "        self.__data = data.copy() if data and type(list) else []\n",
    "\n",
    "    @staticmethod\n",
    "    def remove_values(list1: list, list2: list):\n",
    "        if len(list2) == 0:\n",
    "            return \n",
    "\n",
    "        sub = list2.copy()\n",
    "        return [x for x in list1 if not NewList.__is_elem(x, sub)]\n",
    "\n",
    "    @staticmethod\n",
    "    def __is_elem(x, sub):\n",
    "        res = any(map(lambda xx: type(x) == type(xx) and x == xx, sub))\n",
    "        if res:\n",
    "            sub.remove(x)\n",
    "        return res\n",
    "\n",
    "    def __sub__(self, other):\n",
    "        if not isinstance(other, (list, NewList)):\n",
    "            raise ArithmeticError()\n",
    "        \n",
    "        if isinstance(other, NewList):\n",
    "            other = other.get_list()\n",
    "\n",
    "        return NewList(self.remove_values(self.get_list(), other))\n",
    "\n",
    "    def __rsub__(self, other):\n",
    "        if not isinstance(other, (list, NewList)):\n",
    "            raise ArithmeticError()\n",
    "\n",
    "        return NewList(self.remove_values(other, self.get_list()))\n",
    "\n",
    "    def get_list(self):\n",
    "        return self.__data\n"
   ]
  },
  {
   "cell_type": "code",
   "execution_count": 41,
   "metadata": {},
   "outputs": [],
   "source": [
    "lst1 = NewList([1, 2, -4, 6, 10, 11, 15, False, True])\n",
    "lst2 = NewList([0, 1, 2, 3, True])\n",
    "res_1 = lst1 - lst2 # NewList: [-4, 6, 10, 11, 15, False]\n",
    "lst1 -= lst2 # NewList: [-4, 6, 10, 11, 15, False]\n",
    "res_2 = lst2 - [0, True] # NewList: [1, 2, 3]\n",
    "res_3 = [1, 2, 3, 4.5] - res_2 # NewList: [4.5]\n",
    "a = NewList([2, 3])\n",
    "res_4 = [1, 2, 2, 3] - a # NewList: [1, 2]"
   ]
  },
  {
   "cell_type": "markdown",
   "metadata": {},
   "source": [
    "#5"
   ]
  },
  {
   "cell_type": "code",
   "execution_count": 97,
   "metadata": {},
   "outputs": [],
   "source": [
    "class ListMath:\n",
    "    def __init__(self, lst=None) -> None:\n",
    "        self._lst = [x for x in lst if type(x) in (float, int)] if lst else []\n",
    "    \n",
    "    @property\n",
    "    def lst_math(self):\n",
    "        return self._lst\n",
    "\n",
    "    @lst_math.setter\n",
    "    def lst_math(self, lst):\n",
    "        self._lst = lst\n",
    "\n",
    "    def __add__(self, value):\n",
    "        return ListMath([x + value for x in self.lst_math])\n",
    "\n",
    "    def __radd__(self, value):\n",
    "        return self + value\n",
    "\n",
    "    def __iadd__(self, value):\n",
    "        self.lst_math = [x + value for x in self.lst_math]\n",
    "        return self\n",
    "\n",
    "    def __sub__(self, value):\n",
    "        return ListMath([x - value for x in self.lst_math])\n",
    "\n",
    "    def __rsub__(self, value):\n",
    "        return ListMath([value - x for x in self.lst_math])\n",
    "\n",
    "    def __isub__(self, value):\n",
    "        self.lst_math = [x - value for x in self.lst_math]\n",
    "        return self\n",
    "    \n",
    "    def __mul__(self, value):\n",
    "        return ListMath([x * value for x in self.lst_math])\n",
    "\n",
    "    def __rmul__(self, value):\n",
    "        return self * value\n",
    "\n",
    "    def __imul__(self, value):\n",
    "        self.lst_math = [x * value for x in self.lst_math]\n",
    "        return self\n",
    "\n",
    "    def __truediv__(self, value):\n",
    "        return ListMath([x / value for x in self.lst_math])\n",
    "\n",
    "    def __rtruediv__(self, value):\n",
    "        return ListMath([value / x for x in self.lst_math])\n",
    "\n",
    "    def __itruediv__(self, value):\n",
    "        self.lst_math = [x / value for x in self.lst_math]\n",
    "        return self    "
   ]
  },
  {
   "cell_type": "code",
   "execution_count": 98,
   "metadata": {},
   "outputs": [],
   "source": [
    "lst = ListMath([1, \"abc\", -5, 7.68, True]) \n",
    "lst = lst + 76\n",
    "lst = 6.5 + lst\n",
    "lst += 76.7\n",
    "lst = lst - 76\n",
    "lst = 7.0 - lst\n",
    "lst -= 76.3\n",
    "lst = lst * 5\n",
    "lst = 5 * lst\n",
    "lst *= 5.54\n",
    "lst = lst / 13\n",
    "lst = 3 / lst\n",
    "lst /= 13.0"
   ]
  },
  {
   "cell_type": "markdown",
   "metadata": {},
   "source": [
    "#6"
   ]
  },
  {
   "cell_type": "code",
   "execution_count": 101,
   "metadata": {},
   "outputs": [],
   "source": [
    "class StackObj:\n",
    "    def __init__(self, data, next=None) -> None:\n",
    "        self.__data = data\n",
    "        self.next = next\n",
    "\n",
    "    @property\n",
    "    def next(self):\n",
    "        return self.__next\n",
    "\n",
    "    @next.setter\n",
    "    def next(self, obj):\n",
    "        self.__next = obj\n",
    "\n",
    "class Stack:\n",
    "    def __init__(self) -> None:\n",
    "        self.top = None\n",
    "        self.last = None\n",
    "\n",
    "    def push_back(self, obj):\n",
    "        if self.top:\n",
    "            self.last.next = obj\n",
    "            self.last = obj\n",
    "        else:\n",
    "            self.top = obj\n",
    "            self.last = obj\n",
    "\n",
    "    def pop_back(self):\n",
    "        if self.top == self.last:\n",
    "            self.top = None\n",
    "            self.last = None\n",
    "        else:\n",
    "            curr = self.top\n",
    "            while curr.next != self.last:\n",
    "                curr = curr.next\n",
    "            \n",
    "            curr.next = None\n",
    "            self.last = curr\n",
    "\n",
    "    def __add__(self, obj):\n",
    "        self.push_back(obj)\n",
    "        return self\n",
    "\n",
    "    def __mul__(self, objects):\n",
    "        for obj in objects:\n",
    "            self.push_back(StackObj(obj))\n",
    "\n",
    "        return self\n",
    "\n",
    "        "
   ]
  },
  {
   "cell_type": "markdown",
   "metadata": {},
   "source": [
    "#7"
   ]
  },
  {
   "cell_type": "code",
   "execution_count": 107,
   "metadata": {},
   "outputs": [],
   "source": [
    "class Book:\n",
    "    def __init__(self, title, author, year) -> None:\n",
    "        self.title = title\n",
    "        self.author = author\n",
    "        self.year = year\n",
    "\n",
    "class Lib:\n",
    "    def __init__(self) -> None:\n",
    "        self.book_list = []\n",
    "\n",
    "    def __len__(self):\n",
    "        return len(self.book_list)\n",
    "\n",
    "    def __add__(self, obj):\n",
    "        self.book_list.append(obj)\n",
    "        return self\n",
    "\n",
    "    def __sub__(self, value):\n",
    "        if type(value) == Book:\n",
    "            self.book_list.remove(value)\n",
    "            return self\n",
    "        elif type(value) == int:\n",
    "            self.book_list.pop(value)\n",
    "            return self"
   ]
  },
  {
   "cell_type": "markdown",
   "metadata": {},
   "source": [
    "#8"
   ]
  },
  {
   "cell_type": "code",
   "execution_count": 119,
   "metadata": {},
   "outputs": [],
   "source": [
    "class Item:\n",
    "    def __init__(self, name, money) -> None:\n",
    "        self.name = name\n",
    "        self.money = money\n",
    "\n",
    "    def __add__(self, obj):\n",
    "        if type(obj) is Item:\n",
    "            return self.money + obj.money\n",
    "        \n",
    "        if type(obj) in (int, float):\n",
    "            return self.money + obj\n",
    "\n",
    "    def __radd__(self, obj):\n",
    "        return self + obj\n",
    "\n",
    "class Budget:\n",
    "    def __init__(self) -> None:\n",
    "        self.items = []\n",
    "\n",
    "    def add_item(self, it):\n",
    "        self.items.append(it)\n",
    "\n",
    "    def remove_item(self, indx):\n",
    "        self.items.pop(indx)\n",
    "\n",
    "    def get_items(self):\n",
    "        return self.items"
   ]
  },
  {
   "cell_type": "code",
   "execution_count": 120,
   "metadata": {},
   "outputs": [],
   "source": [
    "my_budget = Budget()\n",
    "my_budget.add_item(Item(\"Курс по Python ООП\", 2000))\n",
    "my_budget.add_item(Item(\"Курс по Django\", 5000.01))\n",
    "my_budget.add_item(Item(\"Курс по NumPy\", 0))\n",
    "my_budget.add_item(Item(\"Курс по C++\", 1500.10))\n",
    "\n",
    "# вычисление общих расходов\n",
    "s = 0\n",
    "for x in my_budget.get_items():\n",
    "    s = s + x\n"
   ]
  },
  {
   "cell_type": "markdown",
   "metadata": {},
   "source": [
    "#9"
   ]
  },
  {
   "cell_type": "code",
   "execution_count": 121,
   "metadata": {},
   "outputs": [],
   "source": [
    "class Box3D:\n",
    "    def __init__(self, width, height, depth) -> None:\n",
    "        self.width = width\n",
    "        self.height = height\n",
    "        self.depth = depth\n",
    "\n",
    "    def __add__(self, box):\n",
    "        return Box3D(self.width + box.width, self.height + box.height, self.depth + box.depth)\n",
    "\n",
    "    def __mul__(self, num):\n",
    "        return Box3D(self.width * num, self.height * num, self.depth * num)\n",
    "\n",
    "    def __rmul__(self, num):\n",
    "        return self * num\n",
    "\n",
    "    def __sub__(self, box):\n",
    "        return Box3D(self.width - box.width, self.height - box.height, self.depth - box.depth)\n",
    "\n",
    "    def __floordiv__(self, num):\n",
    "        return Box3D(self.width // num, self.height // num, self.depth // num)\n",
    "\n",
    "    def __mod__(self, num):\n",
    "        return Box3D(self.width % num, self.height % num, self.depth % num)"
   ]
  },
  {
   "cell_type": "markdown",
   "metadata": {},
   "source": [
    "#10"
   ]
  },
  {
   "cell_type": "code",
   "execution_count": 174,
   "metadata": {},
   "outputs": [],
   "source": [
    "class MaxPooling:\n",
    "    def __init__(self, step=(2, 2), size=(2,2)) -> None:\n",
    "        self.step = step\n",
    "        self.size = size\n",
    "\n",
    "    @staticmethod\n",
    "    def find_max(matrix):\n",
    "        curr_max = -99999\n",
    "\n",
    "        for i in matrix:\n",
    "            curr_max = max(i) if max(i) > curr_max else curr_max\n",
    "\n",
    "        return curr_max\n",
    "\n",
    "    @staticmethod\n",
    "    def get_matrix_by_coord(matrix, x1, y1, x2, y2):\n",
    "        subset = []\n",
    "\n",
    "        for i in matrix[y1:y2]:\n",
    "            subset.append(i[x1:x2])\n",
    "\n",
    "        return subset\n",
    "\n",
    "    @staticmethod\n",
    "    def matrix_size_check(matrix):\n",
    "        size = len(matrix[0])\n",
    "        for row in matrix:\n",
    "            if size != len(row):\n",
    "                raise ValueError(\"Неверный формат для первого параметра matrix.\")\n",
    "            size = len(row)\n",
    "\n",
    "    @staticmethod\n",
    "    def data_type_check(matrix):\n",
    "        for i in matrix:\n",
    "            for j in i:\n",
    "                if type(j) not in (int, float):\n",
    "                    raise ValueError(\"Неверный формат для первого параметра matrix.\")\n",
    "\n",
    "    def __call__(self, matrix):\n",
    "        self.matrix_size_check(matrix)\n",
    "        self.data_type_check(matrix)\n",
    "\n",
    "        x1 = 0\n",
    "        y1 = 0\n",
    "        x2 = self.size[0]\n",
    "        y2 = self.size[1]\n",
    "        result = []\n",
    "\n",
    "        while y2 <= len(matrix):\n",
    "            res_row = []\n",
    "\n",
    "            while x2 <= len(matrix[0]):\n",
    "                res_row.append(self.find_max(self.get_matrix_by_coord(matrix, x1, y1, x2, y2)))\n",
    "                x1 += self.step[0]\n",
    "                x2 += self.step[0]\n",
    "\n",
    "            result.append(res_row)\n",
    "            x1 = 0\n",
    "            x2 = self.size[0]\n",
    "            y1 += self.step[1]\n",
    "            y2 += self.step[1]\n",
    "\n",
    "        return result"
   ]
  },
  {
   "cell_type": "code",
   "execution_count": 177,
   "metadata": {},
   "outputs": [
    {
     "data": {
      "text/plain": [
       "[[6, 8], [9, 7]]"
      ]
     },
     "execution_count": 177,
     "metadata": {},
     "output_type": "execute_result"
    }
   ],
   "source": [
    "mp = MaxPooling(step=(2, 2), size=(2,2))\n",
    "a = [[1, 2, 3, 4], [5, 6, 7, 8], [9, 8, 7, 6], [5, 4, 3, 2]]\n",
    "mp(a)"
   ]
  }
 ],
 "metadata": {
  "kernelspec": {
   "display_name": "Python 3.9.12 64-bit",
   "language": "python",
   "name": "python3"
  },
  "language_info": {
   "codemirror_mode": {
    "name": "ipython",
    "version": 3
   },
   "file_extension": ".py",
   "mimetype": "text/x-python",
   "name": "python",
   "nbconvert_exporter": "python",
   "pygments_lexer": "ipython3",
   "version": "3.9.12"
  },
  "orig_nbformat": 4,
  "vscode": {
   "interpreter": {
    "hash": "aee8b7b246df8f9039afb4144a1f6fd8d2ca17a180786b69acc140d282b71a49"
   }
  }
 },
 "nbformat": 4,
 "nbformat_minor": 2
}
