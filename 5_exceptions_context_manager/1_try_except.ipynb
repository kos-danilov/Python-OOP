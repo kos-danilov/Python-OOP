{
 "cells": [
  {
   "cell_type": "markdown",
   "metadata": {},
   "source": [
    "#5"
   ]
  },
  {
   "cell_type": "code",
   "execution_count": 1,
   "metadata": {},
   "outputs": [
    {
     "name": "stdout",
     "output_type": "stream",
     "text": [
      "Атрибут с именем z не существует\n"
     ]
    }
   ],
   "source": [
    "class Point:\n",
    "    def __init__(self, x, y):\n",
    "        self._x = x\n",
    "        self._y = y\n",
    "\n",
    "\n",
    "pt = Point(1, 2)\n",
    "\n",
    "try:\n",
    "    pt.z\n",
    "except AttributeError:\n",
    "    print(\"Атрибут с именем z не существует\")"
   ]
  },
  {
   "cell_type": "markdown",
   "metadata": {},
   "source": [
    "#7"
   ]
  },
  {
   "cell_type": "code",
   "execution_count": 2,
   "metadata": {},
   "outputs": [
    {
     "name": "stdout",
     "output_type": "stream",
     "text": [
      "0\n"
     ]
    }
   ],
   "source": [
    "def is_int(x):\n",
    "    try:\n",
    "        int(x)\n",
    "        return True\n",
    "    except ValueError:\n",
    "        return False\n",
    "\n",
    "lst_in = input().split()\n",
    "\n",
    "print(sum(map(int, filter(is_int, lst_in))))"
   ]
  },
  {
   "cell_type": "markdown",
   "metadata": {},
   "source": [
    "#8"
   ]
  },
  {
   "cell_type": "code",
   "execution_count": 3,
   "metadata": {},
   "outputs": [],
   "source": [
    "def get_number(x):\n",
    "    try:\n",
    "        return int(x)\n",
    "    except ValueError:\n",
    "        try:\n",
    "            return float(x)\n",
    "        except ValueError:\n",
    "            return x\n",
    "\n",
    "lst_in = input().split()\n",
    "lst_out = list(map(get_number, lst_in))\n"
   ]
  },
  {
   "cell_type": "markdown",
   "metadata": {},
   "source": [
    "#9"
   ]
  },
  {
   "cell_type": "code",
   "execution_count": 4,
   "metadata": {},
   "outputs": [],
   "source": [
    "class Triangle:\n",
    "    def __init__(self, a, b, c) -> None:\n",
    "        if not all(type(x) in (int, float) and x >= 0 for x in (a,b,c)):\n",
    "            raise TypeError('стороны треугольника должны быть положительными числами')\n",
    "\n",
    "        if not all((a + b > c, a + c > b, b + c > a)):\n",
    "            raise ValueError('из указанных длин сторон нельзя составить треугольник')\n",
    "\n",
    "        self._a = a\n",
    "        self._b = b\n",
    "        self._c = c\n",
    "\n",
    "input_data = [(1.0, 4.54, 3), ('abc', 1, 2, 3), (-3, 3, 5.2), (4.2, 5.7, 8.7), (True, 3, 5), (7, 4, 6)]\n",
    "lst_tr = []\n",
    "\n",
    "for x in input_data:\n",
    "    try:\n",
    "        lst_tr.append(Triangle(*x))\n",
    "    except (TypeError, ValueError):\n",
    "        pass\n"
   ]
  },
  {
   "cell_type": "markdown",
   "metadata": {},
   "source": [
    "#10"
   ]
  },
  {
   "cell_type": "code",
   "execution_count": 5,
   "metadata": {},
   "outputs": [],
   "source": [
    "class FloatValidator:\n",
    "    def __init__(self, min_value, max_value) -> None:\n",
    "        self._min_value = min_value\n",
    "        self._max_value = max_value\n",
    "\n",
    "    def __call__(self, value):\n",
    "        if type(value) is not float or not self._min_value <= value <= self._max_value:\n",
    "            raise ValueError('значение не прошло валидацию')\n",
    "\n",
    "class IntegerValidator:\n",
    "    def __init__(self, min_value, max_value) -> None:\n",
    "        self._min_value = min_value\n",
    "        self._max_value = max_value\n",
    "\n",
    "    def __call__(self, value):\n",
    "        if type(value) is not int or not self._min_value <= value <= self._max_value:\n",
    "            raise ValueError('значение не прошло валидацию')\n",
    "\n",
    "def is_valid(lst, validators):\n",
    "    res = []\n",
    "    for x in lst:\n",
    "        for val in validators:\n",
    "            try:\n",
    "                val(x)\n",
    "                res.append(x)\n",
    "                break\n",
    "            except ValueError:\n",
    "                pass\n",
    "    return res\n"
   ]
  },
  {
   "cell_type": "code",
   "execution_count": 6,
   "metadata": {},
   "outputs": [
    {
     "data": {
      "text/plain": [
       "[1, 4.5]"
      ]
     },
     "execution_count": 6,
     "metadata": {},
     "output_type": "execute_result"
    }
   ],
   "source": [
    "fv = FloatValidator(0, 10.5)\n",
    "iv = IntegerValidator(-10, 20)\n",
    "lst_out = is_valid([1, 4.5, -10.5, 100, True, 'abc', (1, 2)], validators=[fv, iv])   # [1, 4.5]\n",
    "lst_out"
   ]
  }
 ],
 "metadata": {
  "kernelspec": {
   "display_name": "Python 3.9.12 64-bit",
   "language": "python",
   "name": "python3"
  },
  "language_info": {
   "codemirror_mode": {
    "name": "ipython",
    "version": 3
   },
   "file_extension": ".py",
   "mimetype": "text/x-python",
   "name": "python",
   "nbconvert_exporter": "python",
   "pygments_lexer": "ipython3",
   "version": "3.9.12"
  },
  "orig_nbformat": 4,
  "vscode": {
   "interpreter": {
    "hash": "aee8b7b246df8f9039afb4144a1f6fd8d2ca17a180786b69acc140d282b71a49"
   }
  }
 },
 "nbformat": 4,
 "nbformat_minor": 2
}
