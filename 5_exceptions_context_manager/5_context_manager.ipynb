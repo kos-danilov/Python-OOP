{
 "cells": [
  {
   "cell_type": "markdown",
   "metadata": {},
   "source": [
    "#3"
   ]
  },
  {
   "cell_type": "code",
   "execution_count": 1,
   "metadata": {},
   "outputs": [
    {
     "name": "stdout",
     "output_type": "stream",
     "text": [
      "вход\n",
      "<class 'ValueError'>\n"
     ]
    }
   ],
   "source": [
    "class PrimaryKey:\n",
    "    def __enter__(self):\n",
    "        print('вход')\n",
    "\n",
    "    def __exit__(self, exc_type, exc_val, exc_tb):\n",
    "        if exc_type:\n",
    "            print(exc_type)\n",
    "\n",
    "        return True\n",
    "\n",
    "with PrimaryKey() as pk:\n",
    "    raise ValueError\n"
   ]
  },
  {
   "cell_type": "markdown",
   "metadata": {},
   "source": [
    "#4"
   ]
  },
  {
   "cell_type": "code",
   "execution_count": 2,
   "metadata": {},
   "outputs": [],
   "source": [
    "class ConnectionError(Exception):\n",
    "    pass\n",
    "\n",
    "class DatabaseConnection:\n",
    "    def connect(self, login, password):\n",
    "        self._fl_connection_open = True\n",
    "        raise ConnectionError\n",
    "\n",
    "    def close(self):\n",
    "        self._fl_connection_open = False\n",
    "\n",
    "    def __enter__(self):\n",
    "        return self\n",
    "\n",
    "    def __exit__(self, exc_type, exc_val, exc_tb):\n",
    "        self.close()\n",
    "\n",
    "        return False\n"
   ]
  },
  {
   "cell_type": "markdown",
   "metadata": {},
   "source": [
    "#5"
   ]
  },
  {
   "cell_type": "code",
   "execution_count": 3,
   "metadata": {},
   "outputs": [],
   "source": [
    "class Box:\n",
    "    def __init__(self, name, max_weight, curr_weight = 0) -> None:\n",
    "        self._name = name\n",
    "        self._max_weight = max_weight\n",
    "        self.curr_weight = curr_weight\n",
    "        self.things = []\n",
    "\n",
    "    @property\n",
    "    def things(self):\n",
    "        return self._things\n",
    "\n",
    "    @things.setter\n",
    "    def things(self, value):\n",
    "        self._things = value\n",
    "\n",
    "    @property\n",
    "    def curr_weight(self):\n",
    "        return self._curr_weight\n",
    "\n",
    "    @curr_weight.setter\n",
    "    def curr_weight(self, value):\n",
    "        self._curr_weight = value\n",
    "\n",
    "\n",
    "    def add_thing(self, obj):\n",
    "        if obj[1] + self.curr_weight > self._max_weight:\n",
    "            raise ValueError('превышен суммарный вес вещей')\n",
    "        else:\n",
    "            self._things.append(obj[0])\n",
    "            self.curr_weight += obj[1]\n",
    "\n",
    "class BoxDefender:\n",
    "    def __init__(self, box) -> None:\n",
    "        self._box = box\n",
    "        self._things = box.things[:]\n",
    "        self._curr_weight = box.curr_weight\n",
    "\n",
    "    def __enter__(self):\n",
    "        return self._box\n",
    "\n",
    "    def __exit__(self, exc_type, exc_val, exc_tb):\n",
    "        if exc_type:\n",
    "            self._box.things = self._things\n",
    "            self._box.curr_weight = self._curr_weight\n",
    "\n",
    "        return False\n",
    "\n",
    "\n",
    "\n",
    "\n"
   ]
  }
 ],
 "metadata": {
  "kernelspec": {
   "display_name": "Python 3.9.12 64-bit",
   "language": "python",
   "name": "python3"
  },
  "language_info": {
   "codemirror_mode": {
    "name": "ipython",
    "version": 3
   },
   "file_extension": ".py",
   "mimetype": "text/x-python",
   "name": "python",
   "nbconvert_exporter": "python",
   "pygments_lexer": "ipython3",
   "version": "3.9.12"
  },
  "orig_nbformat": 4,
  "vscode": {
   "interpreter": {
    "hash": "aee8b7b246df8f9039afb4144a1f6fd8d2ca17a180786b69acc140d282b71a49"
   }
  }
 },
 "nbformat": 4,
 "nbformat_minor": 2
}
