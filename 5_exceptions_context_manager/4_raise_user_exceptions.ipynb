{
 "cells": [
  {
   "cell_type": "markdown",
   "metadata": {},
   "source": [
    "#4"
   ]
  },
  {
   "cell_type": "code",
   "execution_count": 1,
   "metadata": {},
   "outputs": [
    {
     "name": "stdout",
     "output_type": "stream",
     "text": [
      "ExceedLengthString\n"
     ]
    }
   ],
   "source": [
    "class StringException(BaseException):\n",
    "    pass\n",
    "\n",
    "class NegativeLengthString(StringException):\n",
    "    pass\n",
    "\n",
    "class ExceedLengthString(StringException):\n",
    "    pass\n",
    "\n",
    "try:\n",
    "    raise ExceedLengthString\n",
    "except NegativeLengthString:\n",
    "    print(\"NegativeLengthString\")\n",
    "except ExceedLengthString:\n",
    "    print(\"ExceedLengthString\")\n",
    "except StringException:\n",
    "    print(\"StringException\")"
   ]
  },
  {
   "cell_type": "markdown",
   "metadata": {},
   "source": [
    "#5"
   ]
  },
  {
   "cell_type": "code",
   "execution_count": 2,
   "metadata": {},
   "outputs": [],
   "source": [
    "class PrimaryKeyError(Exception):\n",
    "    def __init__(self, **kwargs) -> None:\n",
    "        for key, value in kwargs.items():\n",
    "            self._key = key\n",
    "            self._value = value\n",
    "\n",
    "    def __str__(self) -> str:\n",
    "        if hasattr(self, '_key'):\n",
    "            return f'Значение первичного ключа {self._key} = {self._value} недопустимо'\n",
    "        \n",
    "        return 'Первичный ключ должен быть целым неотрицательным числом'"
   ]
  },
  {
   "cell_type": "code",
   "execution_count": 3,
   "metadata": {},
   "outputs": [
    {
     "name": "stdout",
     "output_type": "stream",
     "text": [
      "Значение первичного ключа id = abc недопустимо\n"
     ]
    }
   ],
   "source": [
    "e1 = PrimaryKeyError()          # Первичный ключ должен быть целым неотрицательным числом\n",
    "e2 = PrimaryKeyError(id='abc')  # Значение первичного ключа id = abc недопустимо\n",
    "e3 = PrimaryKeyError(pk='123')  # Значение первичного ключа pk = 123 недопустимо\n",
    "\n",
    "print(e2)"
   ]
  },
  {
   "cell_type": "code",
   "execution_count": 4,
   "metadata": {},
   "outputs": [
    {
     "name": "stdout",
     "output_type": "stream",
     "text": [
      "Значение первичного ключа id = -10.5 недопустимо\n"
     ]
    }
   ],
   "source": [
    "try:\n",
    "    raise PrimaryKeyError(id=-10.5)\n",
    "except PrimaryKeyError as e:\n",
    "    print(e)"
   ]
  },
  {
   "cell_type": "markdown",
   "metadata": {},
   "source": [
    "#6"
   ]
  },
  {
   "cell_type": "code",
   "execution_count": 5,
   "metadata": {},
   "outputs": [],
   "source": [
    "from datetime import datetime\n",
    "\n",
    "class DateError(Exception):\n",
    "    pass\n",
    "\n",
    "class DateString:\n",
    "    def __init__(self, date_string) -> None:\n",
    "        try:\n",
    "            self._date = datetime.strptime(date_string, '%d.%m.%Y')\n",
    "        except ValueError:\n",
    "            raise DateError\n",
    "        pass\n",
    "    \n",
    "    def __str__(self) -> str:\n",
    "        return self._date.strftime(\"%d.%m.%Y\")\n",
    "        "
   ]
  },
  {
   "cell_type": "code",
   "execution_count": 6,
   "metadata": {},
   "outputs": [
    {
     "name": "stdout",
     "output_type": "stream",
     "text": [
      "01.02.1812\n"
     ]
    }
   ],
   "source": [
    "date_string = input()\n",
    "try:\n",
    "    date = DateString(date_string)\n",
    "    print(date) \n",
    "except DateError:\n",
    "    print('Неверный формат даты')"
   ]
  },
  {
   "cell_type": "markdown",
   "metadata": {},
   "source": [
    "#7"
   ]
  },
  {
   "cell_type": "code",
   "execution_count": 7,
   "metadata": {},
   "outputs": [],
   "source": [
    "class CellException(BaseException):\n",
    "    pass\n",
    "\n",
    "class CellIntegerException(CellException):\n",
    "    pass\n",
    "\n",
    "class CellFloatException(CellException):\n",
    "    pass\n",
    "\n",
    "class CellStringException(CellException):\n",
    "    pass\n",
    "\n",
    "class CellInteger:\n",
    "    def __init__(self, min_value, max_value) -> None:\n",
    "        self._min_value = min_value\n",
    "        self._max_value = max_value\n",
    "        self.value = None\n",
    "\n",
    "    @property\n",
    "    def value(self):\n",
    "        return self._value\n",
    "\n",
    "    @value.setter\n",
    "    def value(self, value):\n",
    "        if hasattr(self, 'value') and not self._min_value <= value <= self._max_value:\n",
    "            raise CellIntegerException('значение выходит за допустимый диапазон') \n",
    "        self._value = value\n",
    "\n",
    "class CellFloat:\n",
    "    def __init__(self, min_value, max_value) -> None:\n",
    "        self._min_value = min_value\n",
    "        self._max_value = max_value\n",
    "        self.value = None\n",
    "\n",
    "    @property\n",
    "    def value(self):\n",
    "        return self._value\n",
    "\n",
    "    @value.setter\n",
    "    def value(self, value):\n",
    "        if hasattr(self, 'value') and not self._min_value <= value <= self._max_value:\n",
    "            raise CellFloatException('значение выходит за допустимый диапазон')\n",
    "        self._value = value\n",
    "\n",
    "\n",
    "class CellString:\n",
    "    def __init__(self, min_length, max_length) -> None:\n",
    "        self._min_value = min_length\n",
    "        self._max_value = max_length\n",
    "        self.value = None\n",
    "\n",
    "    @property\n",
    "    def value(self):\n",
    "        return self._value\n",
    "\n",
    "    @value.setter\n",
    "    def value(self, value):\n",
    "        if hasattr(self, 'value') and not self._min_value <= len(value) <= self._max_value:\n",
    "            raise CellStringException('длина строки выходит за допустимый диапазон') \n",
    "        self._value = value\n",
    "\n",
    "class TupleData:\n",
    "    def __init__(self, *data) -> None:\n",
    "        self._data = list(data)\n",
    "    \n",
    "    def _check_index(self, index):\n",
    "        if not 0 <= index <= len(self._data) - 1:\n",
    "            raise IndexError\n",
    "\n",
    "    def __getitem__(self, index):\n",
    "        self._check_index(index)\n",
    "        return self._data[index]\n",
    "\n",
    "    def __setitem__(self, index, value):\n",
    "        self._check_index(index)\n",
    "        self._data[index] = value\n",
    "\n",
    "    def __len__(self):\n",
    "        return len(self._data)\n",
    "\n",
    "    def __iter__(self):\n",
    "        for i in self._data:\n",
    "            yield i\n",
    "    \n",
    "\n",
    "    "
   ]
  },
  {
   "cell_type": "code",
   "execution_count": 8,
   "metadata": {},
   "outputs": [],
   "source": [
    "ld = TupleData(CellInteger(0, 10), CellInteger(11, 20), CellFloat(-10, 10), CellString(1, 100))\n",
    "\n",
    "try:\n",
    "    ld[0] = 1\n",
    "    ld[1] = 20\n",
    "    ld[2] = -5.6\n",
    "    ld[3] = \"Python ООП\"\n",
    "except CellIntegerException as e:\n",
    "    print(e)\n",
    "except CellFloatException as e:\n",
    "    print(e)\n",
    "except CellStringException as e:\n",
    "    print(e)\n",
    "except CellException:\n",
    "    print(\"Ошибка при обращении к ячейке\")\n",
    "except Exception:\n",
    "    print(\"Общая ошибка при работе с объектом TupleData\")\n"
   ]
  }
 ],
 "metadata": {
  "kernelspec": {
   "display_name": "Python 3.9.12 64-bit",
   "language": "python",
   "name": "python3"
  },
  "language_info": {
   "codemirror_mode": {
    "name": "ipython",
    "version": 3
   },
   "file_extension": ".py",
   "mimetype": "text/x-python",
   "name": "python",
   "nbconvert_exporter": "python",
   "pygments_lexer": "ipython3",
   "version": "3.9.12"
  },
  "orig_nbformat": 4,
  "vscode": {
   "interpreter": {
    "hash": "aee8b7b246df8f9039afb4144a1f6fd8d2ca17a180786b69acc140d282b71a49"
   }
  }
 },
 "nbformat": 4,
 "nbformat_minor": 2
}
