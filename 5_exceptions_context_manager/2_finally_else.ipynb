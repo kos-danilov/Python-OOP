{
 "cells": [
  {
   "cell_type": "markdown",
   "metadata": {},
   "source": [
    "#4"
   ]
  },
  {
   "cell_type": "code",
   "execution_count": 1,
   "metadata": {},
   "outputs": [
    {
     "name": "stdout",
     "output_type": "stream",
     "text": [
      "19\n"
     ]
    }
   ],
   "source": [
    "try:\n",
    "    a, b = input().split()\n",
    "    res = int(a) + int(b)\n",
    "except ValueError:\n",
    "    try:\n",
    "        res = float(a) + float(b)\n",
    "    except ValueError:\n",
    "        res = a + b\n",
    "finally:\n",
    "    print(res)"
   ]
  },
  {
   "cell_type": "markdown",
   "metadata": {},
   "source": [
    "#5"
   ]
  },
  {
   "cell_type": "code",
   "execution_count": 2,
   "metadata": {},
   "outputs": [
    {
     "name": "stdout",
     "output_type": "stream",
     "text": [
      "Point: x = 10, y = 20\n"
     ]
    }
   ],
   "source": [
    "class Point:\n",
    "    def __init__(self, x=0, y=0) -> None:\n",
    "        self._x = x\n",
    "        self._y = y\n",
    "\n",
    "try:\n",
    "    x, y = input().split()\n",
    "    res = Point(int(x), int(y))\n",
    "except ValueError:\n",
    "    try:\n",
    "        res = Point(float(x), float(y))\n",
    "    except ValueError:\n",
    "        res = Point()\n",
    "finally:\n",
    "    print(f\"Point: x = {res._x}, y = {res._y}\")"
   ]
  },
  {
   "cell_type": "markdown",
   "metadata": {},
   "source": [
    "#7"
   ]
  },
  {
   "cell_type": "code",
   "execution_count": 3,
   "metadata": {},
   "outputs": [],
   "source": [
    "def get_loss(w1, w2, w3, w4):\n",
    "    y = 0\n",
    "    try:\n",
    "        y += 10 * w1 // w2 \n",
    "    except ZeroDivisionError:\n",
    "        return 'деление на ноль'\n",
    "    else:\n",
    "        y += -5 * w2 * w3 + w4\n",
    "        return y"
   ]
  },
  {
   "cell_type": "code",
   "execution_count": 4,
   "metadata": {},
   "outputs": [
    {
     "data": {
      "text/plain": [
       "9"
      ]
     },
     "execution_count": 4,
     "metadata": {},
     "output_type": "execute_result"
    }
   ],
   "source": [
    "get_loss(2, 1, 3, 4) "
   ]
  },
  {
   "cell_type": "markdown",
   "metadata": {},
   "source": [
    "#8"
   ]
  },
  {
   "cell_type": "code",
   "execution_count": 5,
   "metadata": {},
   "outputs": [],
   "source": [
    "class Rect:\n",
    "    def __init__(self, x, y, width, height) -> None:\n",
    "        if not all((type(data) in (float, int) for data in (x, y, width, height))) or not all((width > 0, height >0)):\n",
    "            raise ValueError('некорректные координаты и параметры прямоугольника')\n",
    "        self._x = x\n",
    "        self._y = y\n",
    "        self._width = width\n",
    "        self._height = height\n",
    "        self._x1 = x + width\n",
    "        self._y1 = y + height\n",
    "    \n",
    "    def is_collision(self, rect):\n",
    "        for coord in ((rect._x, rect._y), (rect._x1, rect._y), (rect._x, rect._y1), (rect._x1, rect._y1)):\n",
    "            if self._x <= coord[0] <= self._x1 and self._y <= coord[1] <= self._y1:\n",
    "                raise TypeError('прямоугольники пересекаются')\n",
    "\n",
    "        if (rect._y <= self._y <= rect._y1 or rect._y <= self._y1 <= rect._y1) and (self._x <= rect._x1 or self._x1 >= rect._x):\n",
    "            raise TypeError('прямоугольники пересекаются')\n",
    "\n",
    "        if (self._y <= rect._y <= self._y1 or self._y <= rect._y1 <= self._y1) and (rect._x <= self._x1 or rect._x1 >= self._x):\n",
    "            raise TypeError('прямоугольники пересекаются')"
   ]
  },
  {
   "cell_type": "code",
   "execution_count": 6,
   "metadata": {},
   "outputs": [],
   "source": [
    "lst_rect = [Rect(0, 0, 5, 3), Rect(6, 0, 3, 5), Rect(3, 2, 4, 4), Rect(0, 8, 8, 1)]\n",
    "\n",
    "intersected = set()\n",
    "\n",
    "for rect in lst_rect:\n",
    "    for sec_rect in lst_rect:\n",
    "        if id(rect) != id(sec_rect):\n",
    "            try:\n",
    "                rect.is_collision(sec_rect)\n",
    "            except TypeError:\n",
    "                intersected.add(rect)\n",
    "                intersected.add(sec_rect)\n",
    "\n",
    "lst_not_collision = []\n",
    "for i in lst_rect:\n",
    "    if i not in intersected:\n",
    "        lst_not_collision.append(i)"
   ]
  }
 ],
 "metadata": {
  "kernelspec": {
   "display_name": "Python 3.9.12 64-bit",
   "language": "python",
   "name": "python3"
  },
  "language_info": {
   "codemirror_mode": {
    "name": "ipython",
    "version": 3
   },
   "file_extension": ".py",
   "mimetype": "text/x-python",
   "name": "python",
   "nbconvert_exporter": "python",
   "pygments_lexer": "ipython3",
   "version": "3.9.12"
  },
  "orig_nbformat": 4,
  "vscode": {
   "interpreter": {
    "hash": "aee8b7b246df8f9039afb4144a1f6fd8d2ca17a180786b69acc140d282b71a49"
   }
  }
 },
 "nbformat": 4,
 "nbformat_minor": 2
}
