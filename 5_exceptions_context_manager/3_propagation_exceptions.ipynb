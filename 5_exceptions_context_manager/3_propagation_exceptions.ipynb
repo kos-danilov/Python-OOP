{
 "cells": [
  {
   "cell_type": "markdown",
   "metadata": {},
   "source": [
    "#3"
   ]
  },
  {
   "cell_type": "code",
   "execution_count": 1,
   "metadata": {},
   "outputs": [
    {
     "name": "stdout",
     "output_type": "stream",
     "text": [
      "0 -5 8 11\n"
     ]
    }
   ],
   "source": [
    "def input_int_numbers():\n",
    "    try:\n",
    "        return tuple(int(x) for x in input().split())\n",
    "    except:\n",
    "        raise TypeError('все числа должны быть целыми')\n",
    "\n",
    "while True:\n",
    "    try:\n",
    "        print(*input_int_numbers())\n",
    "        break\n",
    "    except TypeError:\n",
    "        continue"
   ]
  },
  {
   "cell_type": "markdown",
   "metadata": {},
   "source": [
    "#4"
   ]
  },
  {
   "cell_type": "code",
   "execution_count": 2,
   "metadata": {},
   "outputs": [],
   "source": [
    "class ValidatorString:\n",
    "    def __init__(self, min_length, max_length, chars) -> None:\n",
    "        self._min_length = min_length\n",
    "        self._max_length = max_length\n",
    "        self._chars = chars\n",
    "\n",
    "    def is_valid(self, string):\n",
    "        if type(string) is not str or \\\n",
    "             not self._min_length <= len(string) <= self._max_length or \\\n",
    "                (self._chars and not any((x in string for x in self._chars))):\n",
    "            raise ValueError('недопустимая строка')\n",
    "\n",
    "class LoginForm:\n",
    "    def __init__(self, login_validator, password_validator) -> None:\n",
    "        self._login_validator = login_validator\n",
    "        self._password_validator = password_validator\n",
    "\n",
    "    def form(self, request):\n",
    "        if 'login' not in request or 'password' not in request:\n",
    "            raise TypeError('в запросе отсутствует логин или пароль')\n",
    "        self._login_validator.is_valid(request['login'])\n",
    "        self._password_validator.is_valid(request['password'])\n",
    "        self._login = request['login']\n",
    "        self._password = request['password']"
   ]
  },
  {
   "cell_type": "code",
   "execution_count": 3,
   "metadata": {},
   "outputs": [
    {
     "name": "stdout",
     "output_type": "stream",
     "text": [
      "sergey\n"
     ]
    }
   ],
   "source": [
    "#sergey balakirev!\n",
    "\n",
    "login_v = ValidatorString(4, 50, \"\")\n",
    "password_v = ValidatorString(10, 50, \"!$#@%&?\")\n",
    "lg = LoginForm(login_v, password_v)\n",
    "login, password = input().split()\n",
    "try:\n",
    "    lg.form({'login': login, 'password': password})\n",
    "except (TypeError, ValueError) as e:\n",
    "    print(e)\n",
    "else:\n",
    "    print(lg._login)\n"
   ]
  },
  {
   "cell_type": "markdown",
   "metadata": {},
   "source": [
    "#5"
   ]
  },
  {
   "cell_type": "code",
   "execution_count": 4,
   "metadata": {},
   "outputs": [
    {
     "name": "stdout",
     "output_type": "stream",
     "text": [
      "False\n"
     ]
    }
   ],
   "source": [
    "class Test:\n",
    "    def __init__(self, descr) -> None:\n",
    "        if not 10 <= len(descr) <= 10000:\n",
    "            raise ValueError('формулировка теста должна быть от 10 до 10 000 символов')\n",
    "\n",
    "    def run(self):\n",
    "        raise NotImplementedError\n",
    "\n",
    "class TestAnsDigit(Test):\n",
    "    def __init__(self, descr, ans_digit, max_error_digit=0.01) -> None:\n",
    "        super().__init__(descr)\n",
    "        if type(ans_digit) not in (float, int) or \\\n",
    "            type(max_error_digit) not in (float, int) or \\\n",
    "                max_error_digit < 0:\n",
    "            raise ValueError('недопустимые значения аргументов теста')\n",
    "        \n",
    "        self._ans_digit = ans_digit\n",
    "        self._max_error_digit = max_error_digit\n",
    "\n",
    "    def run(self):\n",
    "        ans = float(input()) \n",
    "        return True if self._ans_digit - self._max_error_digit <= ans <= self._ans_digit + self._max_error_digit else False\n",
    "\n",
    "descr, ans = map(str.strip, input().split('|'))\n",
    "ans = float(ans)\n",
    "\n",
    "try:\n",
    "    test = TestAnsDigit(descr, ans)\n",
    "    res = test.run()\n",
    "    print(res)\n",
    "except ValueError as e:\n",
    "    print(e)\n",
    "\n",
    "#Какое значение получим, при выполнении команды int(5.7)? | 5\n",
    "#6"
   ]
  },
  {
   "cell_type": "markdown",
   "metadata": {},
   "source": [
    "#6"
   ]
  },
  {
   "cell_type": "code",
   "execution_count": 5,
   "metadata": {},
   "outputs": [],
   "source": [
    "class TupleLimit(tuple):\n",
    "    def __new__(cls, lst, max_length):\n",
    "        if len(lst) > max_length:\n",
    "            raise ValueError('число элементов коллекции превышает заданный предел')\n",
    "        instance = super().__new__(cls, lst)\n",
    "        return instance\n",
    "    \n",
    "    def __str__(self):\n",
    "        return \" \".join([str(x) for x in self])"
   ]
  },
  {
   "cell_type": "code",
   "execution_count": 6,
   "metadata": {},
   "outputs": [
    {
     "name": "stdout",
     "output_type": "stream",
     "text": [
      "1.0 2.0 3.0 4.0 5.0\n"
     ]
    }
   ],
   "source": [
    "#1 2 3 4 5\n",
    "\n",
    "try:\n",
    "    digits = list(map(float, input().split()))\n",
    "    a = TupleLimit(digits, 5)\n",
    "    print(a)\n",
    "except Exception as e:\n",
    "    print(e)\n",
    "\n"
   ]
  }
 ],
 "metadata": {
  "kernelspec": {
   "display_name": "Python 3.9.12 64-bit",
   "language": "python",
   "name": "python3"
  },
  "language_info": {
   "codemirror_mode": {
    "name": "ipython",
    "version": 3
   },
   "file_extension": ".py",
   "mimetype": "text/x-python",
   "name": "python",
   "nbconvert_exporter": "python",
   "pygments_lexer": "ipython3",
   "version": "3.9.12"
  },
  "orig_nbformat": 4,
  "vscode": {
   "interpreter": {
    "hash": "aee8b7b246df8f9039afb4144a1f6fd8d2ca17a180786b69acc140d282b71a49"
   }
  }
 },
 "nbformat": 4,
 "nbformat_minor": 2
}
