{
 "cells": [
  {
   "cell_type": "markdown",
   "metadata": {},
   "source": [
    "#7"
   ]
  },
  {
   "cell_type": "code",
   "execution_count": 7,
   "metadata": {},
   "outputs": [
    {
     "name": "stdout",
     "output_type": "stream",
     "text": [
      "[4.0, 5.0, -6.5]\n"
     ]
    }
   ],
   "source": [
    "class Factory:\n",
    "    @staticmethod        \n",
    "    def build_sequence():\n",
    "        return []\n",
    "\n",
    "    @staticmethod\n",
    "    def build_number(string):\n",
    "        return float(string)\n",
    "\n",
    "class Loader:\n",
    "    def parse_format(self, string, factory):\n",
    "        seq = factory.build_sequence()\n",
    "        for sub in string.split(\",\"):\n",
    "            item = factory.build_number(sub)\n",
    "            seq.append(item)\n",
    "\n",
    "        return seq\n",
    "\n",
    "ld = Loader()\n",
    "res = ld.parse_format(\"4, 5, -6.5\", Factory())\n",
    "print(res)"
   ]
  },
  {
   "cell_type": "markdown",
   "metadata": {},
   "source": [
    "#8"
   ]
  },
  {
   "cell_type": "code",
   "execution_count": 8,
   "metadata": {},
   "outputs": [],
   "source": [
    "from string import ascii_lowercase, digits\n",
    "\n",
    "class TextInput:\n",
    "    CHARS = \"абвгдеёжзийклмнопрстуфхцчшщьыъэюя \" + ascii_lowercase\n",
    "    CHARS_CORRECT = CHARS + CHARS.upper() + digits\n",
    "\n",
    "    @classmethod\n",
    "    def check_name(cls, name):\n",
    "        if type(name) != str or len(name) < 3 or len(name) > 50:\n",
    "            raise ValueError(\"некорректное поле name\")\n",
    "\n",
    "        if not set(name) < set(cls.CHARS_CORRECT):\n",
    "            raise ValueError(\"некорректное поле name\")\n",
    "        \n",
    "    def __init__(self, name, size=10) -> None:\n",
    "        self.check_name(name)\n",
    "        self.name = name\n",
    "        self.size = size\n",
    "\n",
    "    def get_html(self):\n",
    "        return f\"<p class='login'>{self.name}: <input type='text' size={self.size} />\"\n",
    "\n",
    "\n",
    "class PasswordInput:\n",
    "    CHARS = \"абвгдеёжзийклмнопрстуфхцчшщьыъэюя \" + ascii_lowercase\n",
    "    CHARS_CORRECT = CHARS + CHARS.upper() + digits\n",
    "\n",
    "    @classmethod\n",
    "    def check_name(cls, name):\n",
    "        if type(name) != str or len(name) < 3 or len(name) > 50:\n",
    "            raise ValueError(\"некорректное поле name\")\n",
    "\n",
    "        if not set(name) < set(cls.CHARS_CORRECT):\n",
    "            raise ValueError(\"некорректное поле name\")\n",
    "\n",
    "    def __init__(self, name, size=10) -> None:\n",
    "        self.check_name(name)\n",
    "        self.name = name\n",
    "        self.size = size\n",
    "\n",
    "    def get_html(self):\n",
    "        return f\"<p class='password'>{self.name}: <input type='text' size={self.size} />\"\n",
    "\n",
    "class FormLogin:\n",
    "    def __init__(self, lgn, psw):\n",
    "        self.login = lgn\n",
    "        self.password = psw\n",
    "\n",
    "    def render_template(self):\n",
    "        return \"\\n\".join(['<form action=\"#\">', self.login.get_html(), self.password.get_html(), '</form>'])\n",
    "\n",
    "login = FormLogin(TextInput(\"Логин\"), PasswordInput(\"Пароль\"))\n",
    "html = login.render_template()"
   ]
  },
  {
   "cell_type": "markdown",
   "metadata": {},
   "source": [
    "#9"
   ]
  },
  {
   "cell_type": "code",
   "execution_count": 27,
   "metadata": {},
   "outputs": [],
   "source": [
    "from string import ascii_lowercase, digits\n",
    "\n",
    "class CardCheck:\n",
    "    CHARS_FOR_NAME = ascii_lowercase.upper() + digits + \" \"\n",
    "\n",
    "    @staticmethod\n",
    "    def check_card_number(number):\n",
    "        try:\n",
    "            number_splitted = number.split('-')\n",
    "            [int(x) for x in number_splitted]\n",
    "            \n",
    "            if sum([len(y) for y in number_splitted]) == 16:\n",
    "                return True\n",
    "            \n",
    "            return False\n",
    "            \n",
    "        except ValueError:\n",
    "            return False\n",
    "\n",
    "    @classmethod\n",
    "    def check_name(cls, name):\n",
    "        if set(name) < set(cls.CHARS_FOR_NAME) and len(name.split()) == 2:\n",
    "            return True\n",
    "        \n",
    "        return False"
   ]
  },
  {
   "cell_type": "markdown",
   "metadata": {},
   "source": [
    "#10"
   ]
  },
  {
   "cell_type": "code",
   "execution_count": 29,
   "metadata": {},
   "outputs": [
    {
     "name": "stdout",
     "output_type": "stream",
     "text": [
      "воспроизведение видео Python\n",
      "воспроизведение видео Python ООП\n"
     ]
    }
   ],
   "source": [
    "class Video:\n",
    "    def create(self, name):\n",
    "        self.name = name\n",
    "\n",
    "    def play(self):\n",
    "        print(f'воспроизведение видео {self.name}')\n",
    "\n",
    "class YouTube:\n",
    "    videos = []\n",
    "\n",
    "    @classmethod\n",
    "    def add_video(cls, video):\n",
    "        cls.videos.append(video) \n",
    "\n",
    "    @classmethod\n",
    "    def play(cls, video_indx):\n",
    "        cls.videos[video_indx].play()\n",
    "\n",
    "v1 = Video()\n",
    "v2 = Video()\n",
    "\n",
    "v1.create('Python')\n",
    "v2.create('Python ООП')\n",
    "\n",
    "YouTube.add_video(v1)\n",
    "YouTube.add_video(v2)\n",
    "\n",
    "YouTube.play(0)\n",
    "YouTube.play(1)"
   ]
  },
  {
   "cell_type": "markdown",
   "metadata": {},
   "source": [
    "#11"
   ]
  },
  {
   "cell_type": "code",
   "execution_count": 31,
   "metadata": {},
   "outputs": [],
   "source": [
    "class Application:\n",
    "    def __init__(self, name, blocked=False) -> None:\n",
    "        self.name = name\n",
    "        self.blocked = blocked\n",
    "\n",
    "\n",
    "class AppStore:\n",
    "    APPS = []\n",
    "\n",
    "    def add_application(self, app):\n",
    "        self.APPS.append(app)\n",
    "\n",
    "    def remove_application(self, app):\n",
    "        self.APPS.remove(app)\n",
    "\n",
    "    def block_application(self, app):\n",
    "        self.APPS[self.APPS.index(app)].blocked = True\n",
    "\n",
    "    def total_apps(self):\n",
    "        return len(self.APPS)\n",
    "\n",
    "store = AppStore()\n",
    "app_youtube = Application(\"Youtube\")\n",
    "store.add_application(app_youtube)\n",
    "store.remove_application(app_youtube)\n"
   ]
  },
  {
   "cell_type": "markdown",
   "metadata": {},
   "source": [
    "#12"
   ]
  },
  {
   "cell_type": "code",
   "execution_count": 50,
   "metadata": {},
   "outputs": [],
   "source": [
    "class Message:\n",
    "    def __init__(self, text, fl_like=False) -> None:\n",
    "        self.text = text\n",
    "        self.fl_like = fl_like\n",
    "\n",
    "class Viber:\n",
    "    MESSAGES = []\n",
    "\n",
    "    @classmethod\n",
    "    def add_message(cls, msg):\n",
    "        cls.MESSAGES.append(msg)\n",
    "\n",
    "    @classmethod\n",
    "    def remove_message(cls, msg):\n",
    "        cls.MESSAGES.remove(msg)\n",
    "\n",
    "    @classmethod\n",
    "    def set_like(cls, msg):\n",
    "        cls.MESSAGES[cls.MESSAGES.index(msg)].fl_like = not msg.fl_like\n",
    "\n",
    "    @classmethod\n",
    "    def show_last_message(cls, number):\n",
    "        print([message.text for message in cls.MESSAGES[:-number-1:-1]])\n",
    "\n",
    "    @classmethod\n",
    "    def total_messages(cls):\n",
    "        return len(cls.MESSAGES)\n",
    "\n",
    "msg = Message(\"Всем привет!\")\n",
    "Viber.add_message(msg)\n",
    "Viber.add_message(Message(\"Это курс по Python ООП.\"))\n",
    "Viber.add_message(Message(\"Что вы о нем думаете?\"))\n",
    "Viber.set_like(msg)\n",
    "Viber.remove_message(msg)\n"
   ]
  }
 ],
 "metadata": {
  "kernelspec": {
   "display_name": "Python 3.9.12 64-bit",
   "language": "python",
   "name": "python3"
  },
  "language_info": {
   "codemirror_mode": {
    "name": "ipython",
    "version": 3
   },
   "file_extension": ".py",
   "mimetype": "text/x-python",
   "name": "python",
   "nbconvert_exporter": "python",
   "pygments_lexer": "ipython3",
   "version": "3.9.12"
  },
  "orig_nbformat": 4,
  "vscode": {
   "interpreter": {
    "hash": "aee8b7b246df8f9039afb4144a1f6fd8d2ca17a180786b69acc140d282b71a49"
   }
  }
 },
 "nbformat": 4,
 "nbformat_minor": 2
}
