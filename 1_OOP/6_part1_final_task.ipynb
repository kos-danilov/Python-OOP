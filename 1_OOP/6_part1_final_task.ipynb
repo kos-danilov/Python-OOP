{
 "cells": [
  {
   "cell_type": "code",
   "execution_count": 3,
   "metadata": {},
   "outputs": [],
   "source": [
    "class Server:\n",
    "    CURR_NUMBER = 0\n",
    "\n",
    "    def __new__(cls):\n",
    "        cls.CURR_NUMBER += 1\n",
    "        return super().__new__(cls)\n",
    "        \n",
    "    def __init__(self):\n",
    "        self.buffer = []\n",
    "        self.routers = []\n",
    "        self.ip = self.CURR_NUMBER\n",
    "        \n",
    "    def send_data(self, data):\n",
    "        for router in self.routers:\n",
    "            router.buffer.append(data)\n",
    "\n",
    "    def get_data(self):\n",
    "        curr_buffer = self.buffer.copy()\n",
    "        self.buffer = []\n",
    "        return curr_buffer\n",
    "\n",
    "    def get_ip(self):\n",
    "        return self.ip\n",
    "\n",
    "class Router:\n",
    "    def __init__(self):\n",
    "        self.buffer = []\n",
    "        self.servers = {}\n",
    "        \n",
    "    def link(self, server):\n",
    "        self.servers[server.ip] = server\n",
    "        server.routers.append(self)\n",
    "\n",
    "    def unlink(self, server):\n",
    "        s = self.servers.pop(server.ip, False)\n",
    "\n",
    "        if s:\n",
    "            server.routers.pop(server.routers.index(self))\n",
    "\n",
    "    def send_data(self):\n",
    "        for package in self.buffer:\n",
    "            if package.ip in self.servers:\n",
    "                self.servers[package.ip].buffer.append(package)\n",
    "\n",
    "        self.buffer = []\n",
    "\n",
    "class Data:\n",
    "    def __init__(self, data, ip):\n",
    "        self.data = data\n",
    "        self.ip = ip"
   ]
  },
  {
   "cell_type": "code",
   "execution_count": 4,
   "metadata": {},
   "outputs": [],
   "source": [
    "router = Router()\n",
    "sv_from = Server()\n",
    "sv_from2 = Server()\n",
    "router.link(sv_from)\n",
    "router.link(sv_from2)\n",
    "router.link(Server())\n",
    "router.link(Server())\n",
    "sv_to = Server()\n",
    "router.link(sv_to)\n",
    "sv_from.send_data(Data(\"Hello\", sv_to.get_ip()))\n",
    "sv_from2.send_data(Data(\"Hello\", sv_to.get_ip()))\n",
    "sv_to.send_data(Data(\"Hi\", sv_from.get_ip()))\n",
    "router.send_data()\n",
    "msg_lst_from = sv_from.get_data()\n",
    "msg_lst_to = sv_to.get_data()"
   ]
  }
 ],
 "metadata": {
  "kernelspec": {
   "display_name": "Python 3.9.12 64-bit",
   "language": "python",
   "name": "python3"
  },
  "language_info": {
   "codemirror_mode": {
    "name": "ipython",
    "version": 3
   },
   "file_extension": ".py",
   "mimetype": "text/x-python",
   "name": "python",
   "nbconvert_exporter": "python",
   "pygments_lexer": "ipython3",
   "version": "3.9.12"
  },
  "orig_nbformat": 4,
  "vscode": {
   "interpreter": {
    "hash": "aee8b7b246df8f9039afb4144a1f6fd8d2ca17a180786b69acc140d282b71a49"
   }
  }
 },
 "nbformat": 4,
 "nbformat_minor": 2
}
