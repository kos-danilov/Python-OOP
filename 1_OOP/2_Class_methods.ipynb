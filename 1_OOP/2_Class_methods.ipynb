{
 "cells": [
  {
   "cell_type": "markdown",
   "metadata": {},
   "source": [
    "#4"
   ]
  },
  {
   "cell_type": "code",
   "execution_count": 2,
   "metadata": {},
   "outputs": [
    {
     "name": "stdout",
     "output_type": "stream",
     "text": [
      "Воспроизведение filemedia1\n",
      "Воспроизведение filemedia2\n"
     ]
    }
   ],
   "source": [
    "class MediaPlayer:\n",
    "    def open(self, file):\n",
    "        self.filename = file\n",
    "    \n",
    "    def play(self):\n",
    "        print(f'Воспроизведение {self.filename}')\n",
    "\n",
    "media1 = MediaPlayer()\n",
    "media2 = MediaPlayer()\n",
    "media1.open('filemedia1')\n",
    "media2.open('filemedia2')\n",
    "media1.play()\n",
    "media2.play()\n"
   ]
  },
  {
   "cell_type": "markdown",
   "metadata": {},
   "source": [
    "#5"
   ]
  },
  {
   "cell_type": "code",
   "execution_count": 5,
   "metadata": {},
   "outputs": [
    {
     "name": "stdout",
     "output_type": "stream",
     "text": [
      "10 0 2 5 7\n"
     ]
    }
   ],
   "source": [
    "class Graph:\n",
    "    LIMIT_Y = [0, 10]\n",
    "\n",
    "    def set_data(self, data):\n",
    "        self.data = data\n",
    "    \n",
    "    def draw(self):\n",
    "        print(*[x for x in self.data if x >= self.LIMIT_Y[0] and x <= self.LIMIT_Y[1]])\n",
    "\n",
    "graph_1 = Graph()\n",
    "graph_1.set_data([10, -5, 100, 20, 0, 80, 45, 2, 5, 7])\n",
    "graph_1.draw()"
   ]
  },
  {
   "cell_type": "markdown",
   "metadata": {},
   "source": [
    "#7"
   ]
  },
  {
   "cell_type": "code",
   "execution_count": null,
   "metadata": {},
   "outputs": [],
   "source": [
    "import sys\n",
    "\n",
    "class StreamData:\n",
    "    def create(self, fields, lst_values):\n",
    "        if len(fields) != len(lst_values):\n",
    "            return False\n",
    "\n",
    "        try:\n",
    "            for position, attribute in enumerate(fields):\n",
    "                setattr(self, attribute, lst_values[position])\n",
    "            return True\n",
    "        except:\n",
    "            return False\n",
    "\n",
    "class StreamReader:\n",
    "    FIELDS = ('id', 'title', 'pages')\n",
    "\n",
    "    def readlines(self):\n",
    "        lst_in = list(map(str.strip, sys.stdin.readlines()))  # считывание списка строк из входного потока\n",
    "        sd = StreamData()\n",
    "        res = sd.create(self.FIELDS, lst_in)\n",
    "        return sd, res\n",
    "\n",
    "sr = StreamReader()\n",
    "data, result = sr.readlines()\n"
   ]
  },
  {
   "cell_type": "markdown",
   "metadata": {},
   "source": [
    "#9"
   ]
  },
  {
   "cell_type": "code",
   "execution_count": null,
   "metadata": {},
   "outputs": [],
   "source": [
    "import sys\n",
    "\n",
    "lst_in = list(map(str.strip, sys.stdin.readlines()))\n",
    "\n",
    "\n",
    "class DataBase:\n",
    "    lst_data = []\n",
    "    FIELDS = ('id', 'name', 'old', 'salary')\n",
    "\n",
    "    def select(self, a, b):\n",
    "        return DataBase.lst_data[a: min(len(DataBase.lst_data) + 1, b + 1)]\n",
    "\n",
    "    def insert(self, data):\n",
    "        for person in data:\n",
    "            DataBase.lst_data.append(dict(zip(self.FIELDS, person.split())))\n",
    "\n",
    "\n",
    "db = DataBase()\n",
    "db.insert(lst_in)"
   ]
  },
  {
   "cell_type": "markdown",
   "metadata": {},
   "source": [
    "#10"
   ]
  },
  {
   "cell_type": "code",
   "execution_count": 47,
   "metadata": {},
   "outputs": [],
   "source": [
    "class Translator:\n",
    "    def add(self, eng, rus):\n",
    "        if 'dictionary' not in self.__dict__:\n",
    "            self.dictionary = {}\n",
    "\n",
    "        self.dictionary.setdefault(eng, [])\n",
    "\n",
    "        if rus not in self.dictionary[eng]:\n",
    "            self.dictionary[eng].append(rus)\n",
    "\n",
    "    def remove(self, eng):\n",
    "        self.dictionary.pop(eng, False)\n",
    "\n",
    "    def translate(self, eng):\n",
    "        return self.dictionary[eng]"
   ]
  },
  {
   "cell_type": "code",
   "execution_count": 48,
   "metadata": {},
   "outputs": [
    {
     "name": "stdout",
     "output_type": "stream",
     "text": [
      "идти ехать ходить\n"
     ]
    }
   ],
   "source": [
    "tr = Translator()\n",
    "tr.add('tree', 'дерево')\n",
    "tr.add('car', 'машина')\n",
    "tr.add('car', 'автомобиль')\n",
    "tr.add('leaf', 'лист')\n",
    "tr.add('river', 'река')\n",
    "tr.add('go', 'идти')\n",
    "tr.add('go', 'ехать')\n",
    "tr.add('go', 'ходить')\n",
    "tr.add('milk', 'молоко')\n",
    "tr.remove('car')\n",
    "print(*tr.translate('go'))"
   ]
  }
 ],
 "metadata": {
  "kernelspec": {
   "display_name": "Python 3.9.12 64-bit",
   "language": "python",
   "name": "python3"
  },
  "language_info": {
   "codemirror_mode": {
    "name": "ipython",
    "version": 3
   },
   "file_extension": ".py",
   "mimetype": "text/x-python",
   "name": "python",
   "nbconvert_exporter": "python",
   "pygments_lexer": "ipython3",
   "version": "3.9.12"
  },
  "orig_nbformat": 4,
  "vscode": {
   "interpreter": {
    "hash": "aee8b7b246df8f9039afb4144a1f6fd8d2ca17a180786b69acc140d282b71a49"
   }
  }
 },
 "nbformat": 4,
 "nbformat_minor": 2
}
