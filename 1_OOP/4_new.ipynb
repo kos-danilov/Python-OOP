{
 "cells": [
  {
   "cell_type": "markdown",
   "metadata": {},
   "source": [
    "#6"
   ]
  },
  {
   "cell_type": "code",
   "execution_count": 3,
   "metadata": {},
   "outputs": [
    {
     "name": "stdout",
     "output_type": "stream",
     "text": [
      "Ошибка: нельзя создавать объекты абстрактного класса\n"
     ]
    }
   ],
   "source": [
    "class AbstractClass:\n",
    "    def __new__(cls, *args, **kwargs):\n",
    "        return 'Ошибка: нельзя создавать объекты абстрактного класса'\n",
    "\n",
    "obj = AbstractClass()\n",
    "print(obj)"
   ]
  },
  {
   "cell_type": "markdown",
   "metadata": {},
   "source": [
    "#7"
   ]
  },
  {
   "cell_type": "code",
   "execution_count": 10,
   "metadata": {},
   "outputs": [],
   "source": [
    "class SingletonFive:\n",
    "    __instance = None\n",
    "    __num = 0\n",
    "\n",
    "    def __new__(cls, *args, **kwargs):\n",
    "        if cls.__num < 4:\n",
    "            cls.__num += 1\n",
    "            return super().__new__(cls)\n",
    "        \n",
    "        if cls.__num == 4:\n",
    "            cls.__num += 1\n",
    "            cls.__instance = super().__new__(cls)\n",
    "            return cls.__instance\n",
    "        \n",
    "        return cls.__instance\n",
    "    \n",
    "    def __init__(self, name):\n",
    "        self.name = name"
   ]
  },
  {
   "cell_type": "code",
   "execution_count": 13,
   "metadata": {},
   "outputs": [
    {
     "name": "stdout",
     "output_type": "stream",
     "text": [
      "4698802400 4698802400 4698802400 4698802400 4698802400 4698802400 4698802400 4698802400 4698802400 4698802400 "
     ]
    },
    {
     "data": {
      "text/plain": [
       "[None, None, None, None, None, None, None, None, None, None]"
      ]
     },
     "execution_count": 13,
     "metadata": {},
     "output_type": "execute_result"
    }
   ],
   "source": [
    "objs = [SingletonFive(str(n)) for n in range(10)]\n",
    "[print(id(x), end=\" \") for x in objs]"
   ]
  },
  {
   "cell_type": "markdown",
   "metadata": {},
   "source": [
    "#8"
   ]
  },
  {
   "cell_type": "code",
   "execution_count": 31,
   "metadata": {},
   "outputs": [],
   "source": [
    "TYPE_OS = 1 # 1 - Windows; 2 - Linux\n",
    "\n",
    "class DialogWindows:\n",
    "    name_class = \"DialogWindows\"\n",
    "\n",
    "\n",
    "class DialogLinux:\n",
    "    name_class = \"DialogLinux\"\n",
    "\n",
    "class Dialog:\n",
    "    def __new__(cls, *args, **kwargs):\n",
    "        obj = None\n",
    "\n",
    "        if TYPE_OS == 1:\n",
    "            obj = super().__new__(DialogWindows)\n",
    "        else:\n",
    "            obj = super().__new__(DialogLinux)\n",
    "\n",
    "        obj.name = args[0]\n",
    "        return obj"
   ]
  },
  {
   "cell_type": "markdown",
   "metadata": {},
   "source": [
    "#9"
   ]
  },
  {
   "cell_type": "code",
   "execution_count": 35,
   "metadata": {},
   "outputs": [],
   "source": [
    "class Point:\n",
    "    def __init__(self, x, y) -> None:\n",
    "        self.x = x\n",
    "        self.y = y\n",
    "\n",
    "    def clone(self):\n",
    "        return Point(self.x, self.y)\n",
    "\n",
    "pt = Point(1,2)\n",
    "pt_clone = pt.clone()"
   ]
  },
  {
   "cell_type": "markdown",
   "metadata": {},
   "source": [
    "#10"
   ]
  },
  {
   "cell_type": "code",
   "execution_count": 37,
   "metadata": {},
   "outputs": [
    {
     "name": "stdout",
     "output_type": "stream",
     "text": [
      "[4.0, 5.0, -6.5]\n"
     ]
    }
   ],
   "source": [
    "class Factory():\n",
    "    def build_sequence(self):\n",
    "        return []\n",
    "    \n",
    "    def build_number(self, string):\n",
    "        return float(string)\n",
    "\n",
    "class Loader:\n",
    "    def parse_format(self, string, factory):\n",
    "        seq = factory.build_sequence()\n",
    "        for sub in string.split(\",\"):\n",
    "            item = factory.build_number(sub)\n",
    "            seq.append(item)\n",
    "\n",
    "        return seq\n",
    "\n",
    "ld = Loader()\n",
    "res = ld.parse_format(\"4, 5, -6.5\", Factory())\n",
    "print(res)"
   ]
  }
 ],
 "metadata": {
  "kernelspec": {
   "display_name": "Python 3.9.12 64-bit",
   "language": "python",
   "name": "python3"
  },
  "language_info": {
   "codemirror_mode": {
    "name": "ipython",
    "version": 3
   },
   "file_extension": ".py",
   "mimetype": "text/x-python",
   "name": "python",
   "nbconvert_exporter": "python",
   "pygments_lexer": "ipython3",
   "version": "3.9.12"
  },
  "orig_nbformat": 4,
  "vscode": {
   "interpreter": {
    "hash": "aee8b7b246df8f9039afb4144a1f6fd8d2ca17a180786b69acc140d282b71a49"
   }
  }
 },
 "nbformat": 4,
 "nbformat_minor": 2
}
