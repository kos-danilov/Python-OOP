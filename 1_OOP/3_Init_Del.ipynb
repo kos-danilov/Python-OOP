{
 "cells": [
  {
   "cell_type": "markdown",
   "metadata": {},
   "source": [
    "#2"
   ]
  },
  {
   "cell_type": "code",
   "execution_count": 1,
   "metadata": {},
   "outputs": [],
   "source": [
    "class Money:\n",
    "    def __init__(self, money):\n",
    "        self.money = money\n",
    "\n",
    "my_money = Money(100)\n",
    "your_money = Money(1000)"
   ]
  },
  {
   "cell_type": "markdown",
   "metadata": {},
   "source": [
    "#3"
   ]
  },
  {
   "cell_type": "code",
   "execution_count": 7,
   "metadata": {},
   "outputs": [],
   "source": [
    "class Point:\n",
    "    def __init__(self, x, y, color='black'):\n",
    "        self.x = x\n",
    "        self.y = y\n",
    "        self.color = color\n",
    "\n",
    "c = 0\n",
    "coordinates = [1,1]\n",
    "points = []\n",
    "while c != 1000:\n",
    "    c += 1\n",
    "    if c == 2:\n",
    "        points.append(Point(*coordinates, color='yellow'))\n",
    "    else:\n",
    "        points.append(Point(*coordinates))\n",
    "    \n",
    "    coordinates = [coordinates[0] + 2, coordinates[1] + 2]\n"
   ]
  },
  {
   "cell_type": "markdown",
   "metadata": {},
   "source": [
    "#4"
   ]
  },
  {
   "cell_type": "code",
   "execution_count": 19,
   "metadata": {},
   "outputs": [],
   "source": [
    "from random import choice, randint\n",
    "\n",
    "class Line():\n",
    "    def __init__(self, a, b, c, d):\n",
    "        self.sp = (a, b)\n",
    "        self.ep = (c, d)\n",
    "\n",
    "class Rect():\n",
    "    def __init__(self, a, b, c, d):\n",
    "        self.sp = (a, b)\n",
    "        self.ep = (c, d)\n",
    "\n",
    "class Ellipse():\n",
    "    def __init__(self, a, b, c, d):\n",
    "        self.sp = (a, b)\n",
    "        self.ep = (c, d)\n",
    "\n",
    "elements = [choice([Line(0, 0, 0, 0),\n",
    "                    Rect(randint(1, 500), randint(1, 500), randint(1, 500), randint(1, 500)),\n",
    "                    Ellipse(randint(1, 500), randint(1, 500), randint(1, 500), randint(1, 500))]) for x in range(217)]"
   ]
  },
  {
   "cell_type": "markdown",
   "metadata": {},
   "source": [
    "#5"
   ]
  },
  {
   "cell_type": "code",
   "execution_count": 44,
   "metadata": {},
   "outputs": [
    {
     "name": "stdout",
     "output_type": "stream",
     "text": [
      "3\n"
     ]
    }
   ],
   "source": [
    "class TriangleChecker():\n",
    "    def __init__(self, a, b, c):\n",
    "        self.a = a\n",
    "        self.b = b\n",
    "        self.c = c\n",
    "\n",
    "    def is_triangle(self):\n",
    "        if sum([type(x) in (int, float) for x in [self.a, self.b, self.c]]) != 3:\n",
    "            return 1\n",
    "\n",
    "        if self.a < 0 or self.b < 0 or self.c < 0:\n",
    "            return 1\n",
    "\n",
    "        if self.a + self.b > self.c and self.a + self.c > self.b and self.b + self.c > self.a:\n",
    "            return 3\n",
    "        \n",
    "        return 2\n",
    "\n",
    "\n",
    "a, b, c = map(int, input().split())\n",
    "tr = TriangleChecker(a, b, c)\n",
    "print(tr.is_triangle())"
   ]
  },
  {
   "cell_type": "markdown",
   "metadata": {},
   "source": [
    "#6"
   ]
  },
  {
   "cell_type": "code",
   "execution_count": 47,
   "metadata": {},
   "outputs": [
    {
     "name": "stdout",
     "output_type": "stream",
     "text": [
      "Столбчатая диаграмма:  8 11 10 -32 0 7 18\n",
      "Отображение данных закрыто\n"
     ]
    }
   ],
   "source": [
    "class Graph:\n",
    "    def __init__(self, data, is_show=True):\n",
    "        self.data = data.copy()\n",
    "        self.is_show = is_show\n",
    "\n",
    "    def set_data(self, data):\n",
    "        self.data = data.copy()\n",
    "\n",
    "    def show_table(self):\n",
    "        if self.is_show == True:\n",
    "            print(*self.data)\n",
    "        else:\n",
    "            print('Отображение данных закрыто')\n",
    "\n",
    "    def show_graph(self):\n",
    "        if self.is_show == True:\n",
    "            print(f'Графическое отображение данных: ', *self.data)\n",
    "        else:\n",
    "            print('Отображение данных закрыто')\n",
    "    \n",
    "    def show_bar(self):\n",
    "        if self.is_show == True:\n",
    "            print(f'Столбчатая диаграмма:', *self.data)\n",
    "        else:\n",
    "            print('Отображение данных закрыто')\n",
    "\n",
    "    \n",
    "    def set_show(self, fl_show):\n",
    "        self.is_show = fl_show\n",
    "\n",
    "data_graph = list(map(int, input().split()))\n",
    "gr = Graph(data_graph)\n",
    "gr.show_bar()\n",
    "gr.set_show(fl_show = False)\n",
    "gr.show_table()"
   ]
  },
  {
   "cell_type": "markdown",
   "metadata": {},
   "source": [
    "#7"
   ]
  },
  {
   "cell_type": "code",
   "execution_count": 57,
   "metadata": {},
   "outputs": [],
   "source": [
    "class CPU:\n",
    "    def __init__(self, name, fr) -> None:\n",
    "        self.name = name\n",
    "        self.fr = fr\n",
    "\n",
    "class Memory:\n",
    "    def __init__(self, name, volume) -> None:\n",
    "        self.name = name\n",
    "        self.volume = volume\n",
    "\n",
    "class MotherBoard:\n",
    "    def __init__(self, name, cpu, mem_slots) -> None:\n",
    "        self.name = name\n",
    "        self.cpu = cpu\n",
    "        self.mem_slots = mem_slots\n",
    "        self.total_mem_slots = 4\n",
    "    \n",
    "    def get_config(self):\n",
    "        mem_repr = ''\n",
    "        for mem in self.mem_slots:\n",
    "            mem_repr += mem.name + ' - ' + str(mem.volume) + '; '\n",
    "        mem_repr = mem_repr[:-2] \n",
    "\n",
    "        return [f'Материнская плата: {self.name}',\n",
    "                f'Центральный процессор: {self.cpu.name}, {self.cpu.fr}',\n",
    "                f'Слотов памяти: {self.total_mem_slots}',\n",
    "                f'Память: {mem_repr}']\n",
    "\n",
    "mb = MotherBoard('super', CPU('CPU', 2.4), [Memory('DDR4', 2048), Memory('DDR4', 4096)])"
   ]
  },
  {
   "cell_type": "markdown",
   "metadata": {},
   "source": [
    "#8"
   ]
  },
  {
   "cell_type": "code",
   "execution_count": 63,
   "metadata": {},
   "outputs": [],
   "source": [
    "class Table:\n",
    "    def __init__(self, name, price) -> None:\n",
    "        self.name = name\n",
    "        self.price = price\n",
    "        \n",
    "class TV:\n",
    "    def __init__(self, name, price) -> None:\n",
    "        self.name = name\n",
    "        self.price = price\n",
    "\n",
    "class Notebook:\n",
    "    def __init__(self, name, price) -> None:\n",
    "        self.name = name\n",
    "        self.price = price\n",
    "\n",
    "class Cup:\n",
    "    def __init__(self, name, price) -> None:\n",
    "        self.name = name\n",
    "        self.price = price\n",
    "\n",
    "class Cart:\n",
    "    def __init__(self) -> None:\n",
    "        self.goods = []\n",
    "\n",
    "    def add(self, gd):\n",
    "        self.goods.append(gd)\n",
    "\n",
    "    def remove(self, indx):\n",
    "        self.goods.pop(indx)\n",
    "\n",
    "    def get_list(self):\n",
    "        return [f'{gd.name}: {gd.price}' for gd in self.goods]\n",
    "\n",
    "cart = Cart()\n",
    "cart.add(TV('Pan', 1000))\n",
    "cart.add(TV('Pan', 1000))\n",
    "cart.add(TV('Table', 50))\n",
    "cart.add(TV('Notebook', 850))\n",
    "cart.add(TV('Notebook', 850))\n",
    "cart.add(TV('Cup', 5))"
   ]
  },
  {
   "cell_type": "markdown",
   "metadata": {},
   "source": [
    "#9"
   ]
  },
  {
   "cell_type": "code",
   "execution_count": 89,
   "metadata": {},
   "outputs": [],
   "source": [
    "import sys\n",
    "\n",
    "class ListObject:\n",
    "    def __init__(self, data, next_obj=None) -> None:\n",
    "        self.data = data\n",
    "        self.next_obj = next_obj\n",
    "\n",
    "    def link(self, obj):\n",
    "        self.next_obj = obj\n",
    "\n",
    "lst_in = list(map(str.strip, sys.stdin.readlines()))\n",
    "\n",
    "# lst_in = ['1. Первые шаги в ООП', '1.1 Как правильно проходить этот курс', '1.2 Концепция ООП простыми словами', '1.3 Классы и объекты. Атрибуты классов и объектов',\n",
    "#           '1.4 Методы классов. Параметр self', '1.5 Инициализатор init и финализатор del', '1.6 Магический метод new. Пример паттерна Singleton', \n",
    "#           '1.7 Методы класса (classmethod) и статические методы (staticmethod)']\n",
    "\n",
    "def create_list(lst_in):\n",
    "    if len(lst_in) == 1:\n",
    "        return ListObject(lst_in[0])\n",
    "    \n",
    "    return ListObject(lst_in[0], create_list(lst_in[1:]))\n",
    "\n",
    "head_obj = create_list(lst_in)\n"
   ]
  },
  {
   "cell_type": "markdown",
   "metadata": {},
   "source": [
    "#10"
   ]
  },
  {
   "cell_type": "code",
   "execution_count": 130,
   "metadata": {},
   "outputs": [],
   "source": [
    "from random import randint\n",
    "\n",
    "class Cell:\n",
    "    \"Defining cell\"\n",
    "    def __init__(self, around_mines=0, mine=False, fl_open=False) -> None:\n",
    "        self.around_mines = around_mines\n",
    "        self.mine = mine\n",
    "        self.fl_open = fl_open\n",
    "\n",
    "class GamePole:\n",
    "    \"Class for pole\"\n",
    "\n",
    "    def __init__(self, N, M) -> None:\n",
    "        self.N = N\n",
    "        self.M = M\n",
    "        self.init()\n",
    "        \n",
    "    def init(self):\n",
    "        \"Function for creating pole with clear cells, adding mines and updating around_mines attr for neighbors\"\n",
    "        self.pole = [[Cell() for x in range(self.N)] for y in range(self.N)]\n",
    "\n",
    "        curr_M = self.M\n",
    "\n",
    "        while curr_M != 0:\n",
    "            x = randint(0, self.N-1)\n",
    "            y = randint(0, self.N-1)\n",
    "\n",
    "            if self.pole[x][y].mine:\n",
    "                continue\n",
    "\n",
    "            self.pole[x][y].mine = True\n",
    "            self.update_mines(x, y)\n",
    "            curr_M -= 1\n",
    "\n",
    "    def update_mines(self, mine_x, mine_y):\n",
    "        \"Function for updating around_mines attr for neighbors of mined cell with coordinates mine_x and mine_y\"\n",
    "        for x in [-1, 0, 1]:\n",
    "            for y in [-1, 0, 1]:\n",
    "                if mine_x + x < 0 or mine_y + y < 0:\n",
    "                    continue\n",
    "\n",
    "                if mine_x + x > self.N - 1 or mine_y + y > self.N - 1:\n",
    "                    continue\n",
    "\n",
    "                self.pole[mine_x + x][mine_y + y].around_mines += 1\n",
    "\n",
    "    def show(self):\n",
    "        \"Function for display pole (open cells)\"\n",
    "        for row in self.pole:\n",
    "            for cell in row:\n",
    "                if cell.fl_open and cell.mine:\n",
    "                    print('*', end=' ')\n",
    "                    continue\n",
    "                \n",
    "                if cell.fl_open:\n",
    "                    print(cell.around_mines, end=' ')\n",
    "                    continue\n",
    "\n",
    "                print('#', end=' ')\n",
    "            print('')\n",
    "                \n",
    "\n",
    "    # def show(self):\n",
    "    #     \"Function for display pole (opens cells)\"\n",
    "    #     for row in self.pole:\n",
    "    #         for cell in row:\n",
    "    #             if cell.mine:\n",
    "    #                 print('*', end='\\t')\n",
    "    #                 continue\n",
    "    #             print(cell.around_mines, end='\\t')\n",
    "    #         print('')\n",
    "\n",
    "                \n"
   ]
  }
 ],
 "metadata": {
  "kernelspec": {
   "display_name": "Python 3.9.12 64-bit",
   "language": "python",
   "name": "python3"
  },
  "language_info": {
   "codemirror_mode": {
    "name": "ipython",
    "version": 3
   },
   "file_extension": ".py",
   "mimetype": "text/x-python",
   "name": "python",
   "nbconvert_exporter": "python",
   "pygments_lexer": "ipython3",
   "version": "3.9.12"
  },
  "orig_nbformat": 4,
  "vscode": {
   "interpreter": {
    "hash": "aee8b7b246df8f9039afb4144a1f6fd8d2ca17a180786b69acc140d282b71a49"
   }
  }
 },
 "nbformat": 4,
 "nbformat_minor": 2
}
