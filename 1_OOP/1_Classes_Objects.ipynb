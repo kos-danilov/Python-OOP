{
 "cells": [
  {
   "cell_type": "markdown",
   "metadata": {},
   "source": [
    "#3"
   ]
  },
  {
   "cell_type": "code",
   "execution_count": 1,
   "metadata": {},
   "outputs": [],
   "source": [
    "class DataBase():\n",
    "    pk = 1\n",
    "    title = \"Классы и объекты\"\n",
    "    author = \"Сергей Балакирев\"\n",
    "    views = 14356\n",
    "    comments = 12\n"
   ]
  },
  {
   "cell_type": "markdown",
   "metadata": {},
   "source": [
    "#4"
   ]
  },
  {
   "cell_type": "code",
   "execution_count": 8,
   "metadata": {},
   "outputs": [
    {
     "data": {
      "text/plain": [
       "mappingproxy({'__module__': '__main__',\n",
       "              'title': 'Мороженое',\n",
       "              'weight': 154,\n",
       "              'tp': 'Еда',\n",
       "              'price': 2048,\n",
       "              '__dict__': <attribute '__dict__' of 'Goods' objects>,\n",
       "              '__weakref__': <attribute '__weakref__' of 'Goods' objects>,\n",
       "              '__doc__': None,\n",
       "              'inflation': 100})"
      ]
     },
     "execution_count": 8,
     "metadata": {},
     "output_type": "execute_result"
    }
   ],
   "source": [
    "class Goods:\n",
    "    title = \"Мороженое\"\n",
    "    weight = 154\n",
    "    tp = \"Еда\"\n",
    "    price = 1024\n",
    "\n",
    "setattr(Goods, 'price', 2048)\n",
    "setattr(Goods, 'inflation', 100)\n",
    "\n",
    "Goods.__dict__"
   ]
  },
  {
   "cell_type": "markdown",
   "metadata": {},
   "source": [
    "#5"
   ]
  },
  {
   "cell_type": "code",
   "execution_count": 7,
   "metadata": {},
   "outputs": [
    {
     "data": {
      "text/plain": [
       "'Розовый'"
      ]
     },
     "execution_count": 7,
     "metadata": {},
     "output_type": "execute_result"
    }
   ],
   "source": [
    "class Car:\n",
    "    pass\n",
    "\n",
    "setattr(Car, 'model', 'Тойота')\n",
    "setattr(Car, 'color', 'Розовый')\n",
    "setattr(Car, 'number', 'П111УУ77')\n",
    "\n",
    "Car.__dict__['color']"
   ]
  },
  {
   "cell_type": "markdown",
   "metadata": {},
   "source": [
    "#6"
   ]
  },
  {
   "cell_type": "code",
   "execution_count": 9,
   "metadata": {},
   "outputs": [
    {
     "name": "stdout",
     "output_type": "stream",
     "text": [
      "И.С. Бах\n"
     ]
    }
   ],
   "source": [
    "class Notes():\n",
    "    uid = 1005435\n",
    "    title = \"Шутка\"\n",
    "    author = \"И.С. Бах\"\n",
    "    pages = 2\n",
    "\n",
    "print(getattr(Notes, 'author'))"
   ]
  },
  {
   "cell_type": "markdown",
   "metadata": {},
   "source": [
    "#7"
   ]
  },
  {
   "cell_type": "code",
   "execution_count": 11,
   "metadata": {},
   "outputs": [
    {
     "name": "stdout",
     "output_type": "stream",
     "text": [
      "False\n"
     ]
    }
   ],
   "source": [
    "class Dictionary:\n",
    "    rus = \"Питон\"\n",
    "    eng = \"Python\"   \n",
    "\n",
    "print(getattr(Dictionary, 'rus_word', False))"
   ]
  },
  {
   "cell_type": "markdown",
   "metadata": {},
   "source": [
    "#8"
   ]
  },
  {
   "cell_type": "code",
   "execution_count": 14,
   "metadata": {},
   "outputs": [],
   "source": [
    "class TravelBlog:\n",
    "    total_blogs = 0\n",
    "\n",
    "tb1 = TravelBlog()\n",
    "setattr(tb1, 'name', 'Франция')\n",
    "setattr(tb1, 'days', 6)\n",
    "\n",
    "TravelBlog.total_blogs += 1\n",
    "\n",
    "tb2 = TravelBlog()\n",
    "setattr(tb2, 'name', 'Италия')\n",
    "setattr(tb2, 'days', 5)\n",
    "\n",
    "TravelBlog.total_blogs += 1"
   ]
  },
  {
   "cell_type": "markdown",
   "metadata": {},
   "source": [
    "#9"
   ]
  },
  {
   "cell_type": "code",
   "execution_count": 15,
   "metadata": {},
   "outputs": [
    {
     "name": "stdout",
     "output_type": "stream",
     "text": [
      "start_pt end_pt\n"
     ]
    }
   ],
   "source": [
    "class Figure:\n",
    "    type_fig = 'ellipse'\n",
    "    color = 'red'\n",
    "\n",
    "fig1 = Figure()\n",
    "\n",
    "fig1.start_pt = (10, 5)\n",
    "fig1.end_pt = (100, 20)\n",
    "fig1.color = 'blue'\n",
    "\n",
    "delattr(fig1, 'color')\n",
    "\n",
    "print(*fig1.__dict__)"
   ]
  },
  {
   "cell_type": "markdown",
   "metadata": {},
   "source": [
    "#10"
   ]
  },
  {
   "cell_type": "code",
   "execution_count": 18,
   "metadata": {},
   "outputs": [
    {
     "name": "stdout",
     "output_type": "stream",
     "text": [
      "False\n"
     ]
    }
   ],
   "source": [
    "class Person:\n",
    "    name = 'Сергей Балакирев'\n",
    "    job = 'Программист'\n",
    "    city = 'Москва'\n",
    "\n",
    "p1 = Person()\n",
    "print('job' in p1.__dict__)"
   ]
  }
 ],
 "metadata": {
  "kernelspec": {
   "display_name": "Python 3.9.12 64-bit",
   "language": "python",
   "name": "python3"
  },
  "language_info": {
   "codemirror_mode": {
    "name": "ipython",
    "version": 3
   },
   "file_extension": ".py",
   "mimetype": "text/x-python",
   "name": "python",
   "nbconvert_exporter": "python",
   "pygments_lexer": "ipython3",
   "version": "3.9.12"
  },
  "orig_nbformat": 4,
  "vscode": {
   "interpreter": {
    "hash": "aee8b7b246df8f9039afb4144a1f6fd8d2ca17a180786b69acc140d282b71a49"
   }
  }
 },
 "nbformat": 4,
 "nbformat_minor": 2
}
