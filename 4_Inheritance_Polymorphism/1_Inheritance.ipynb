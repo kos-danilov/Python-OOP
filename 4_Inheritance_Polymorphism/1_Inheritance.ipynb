{
 "cells": [
  {
   "cell_type": "markdown",
   "metadata": {},
   "source": [
    "#4"
   ]
  },
  {
   "cell_type": "code",
   "execution_count": 1,
   "metadata": {},
   "outputs": [],
   "source": [
    "class Animal:\n",
    "    def __init__(self, name, old) -> None:\n",
    "        self.name = name\n",
    "        self.old = old\n",
    "\n",
    "class Cat(Animal):\n",
    "    def __init__(self, name, old, color, weight) -> None:\n",
    "        super().__init__(name, old)\n",
    "        self.color = color\n",
    "        self.weight = weight\n",
    "\n",
    "    def get_info(self):\n",
    "        return f'{self.name}: {self.old}, {self.color}, {self.weight}'\n",
    "\n",
    "class Dog(Animal):\n",
    "    def __init__(self, name, old, breed, size) -> None:\n",
    "        super().__init__(name, old)\n",
    "        self.breed = breed\n",
    "        self.size = size\n",
    "\n",
    "    def get_info(self):\n",
    "        return f'{self.name}: {self.old}, {self.breed}, {self.size}'\n"
   ]
  },
  {
   "cell_type": "markdown",
   "metadata": {},
   "source": [
    "#5"
   ]
  },
  {
   "cell_type": "code",
   "execution_count": 2,
   "metadata": {},
   "outputs": [],
   "source": [
    "class Thing:\n",
    "    ID=1\n",
    "\n",
    "    def __init__(self, name, price) -> None:\n",
    "        self.name = name\n",
    "        self.price = price\n",
    "        self.id = Thing.ID\n",
    "        Thing.ID += 1\n",
    "        self.weight = None\n",
    "        self.dims = None\n",
    "        self.memory = None\n",
    "        self.frm = None\n",
    "\n",
    "class Table(Thing):\n",
    "    def __init__(self, name, price, weight, dims) -> None:\n",
    "        super().__init__(name, price)\n",
    "        self.weight = weight\n",
    "        self.dims = dims\n",
    "\n",
    "class ElBook(Thing):\n",
    "    def __init__(self, name, price, memory, frm) -> None:\n",
    "        super().__init__(name, price)\n",
    "        self.memory = memory\n",
    "        self.frm = frm"
   ]
  },
  {
   "cell_type": "markdown",
   "metadata": {},
   "source": [
    "#6"
   ]
  },
  {
   "cell_type": "code",
   "execution_count": 3,
   "metadata": {},
   "outputs": [],
   "source": [
    "class GenericView:\n",
    "    def __init__(self, methods=('GET')):\n",
    "        self.methods = methods\n",
    "\n",
    "    def get(self, request):\n",
    "        return \"\"\n",
    "\n",
    "    def post(self, request):\n",
    "        pass\n",
    "\n",
    "    def put(self, request):\n",
    "        pass\n",
    "\n",
    "    def delete(self, request):\n",
    "        pass\n",
    "\n",
    "class DetailView(GenericView):\n",
    "    def get(self, request):\n",
    "        if type(request) is not dict:\n",
    "            raise TypeError('request не является словарем')\n",
    "\n",
    "        if 'url' not in request:\n",
    "            raise TypeError('request не содержит обязательного ключа url')\n",
    "\n",
    "        return f\"url: {request['url']}\"\n",
    "\n",
    "\n",
    "    def render_request(self, request, method):\n",
    "        if method.upper() not in self.methods:\n",
    "            raise TypeError('данный запрос не может быть выполнен')\n",
    "\n",
    "        return self.__getattribute__(method.lower())(request)"
   ]
  },
  {
   "cell_type": "markdown",
   "metadata": {},
   "source": [
    "#7"
   ]
  },
  {
   "cell_type": "code",
   "execution_count": 4,
   "metadata": {},
   "outputs": [],
   "source": [
    "class Singleton:\n",
    "    __instance = None\n",
    "\n",
    "    def __new__(cls, *args, **kwargs):\n",
    "        if cls.__instance:\n",
    "            return cls.__instance\n",
    "        \n",
    "        cls.__instance = super().__new__(cls)\n",
    "        return cls.__instance\n",
    "\n",
    "class Game(Singleton):\n",
    "    def __init__(self, name) -> None:\n",
    "        if 'name' not in self.__dict__:\n",
    "            self.name = name        "
   ]
  },
  {
   "cell_type": "markdown",
   "metadata": {},
   "source": [
    "#8"
   ]
  },
  {
   "cell_type": "code",
   "execution_count": 5,
   "metadata": {},
   "outputs": [],
   "source": [
    "class Validator:\n",
    "    def _is_valid(self, data):\n",
    "        return True\n",
    "\n",
    "    def __call__(self, data):\n",
    "        if not self._is_valid(data):\n",
    "            raise ValueError('данные не прошли валидацию')\n",
    "\n",
    "class IntegerValidator(Validator):\n",
    "    def __init__(self, min_value, max_value) -> None:\n",
    "        self.min_value = min_value\n",
    "        self.max_value = max_value\n",
    "\n",
    "    def _is_valid(self, data):\n",
    "        return True if type(data) is int and self.min_value <= data <= self.max_value else False\n",
    "        \n",
    "class FloatValidator(Validator):\n",
    "    def __init__(self, min_value, max_value) -> None:\n",
    "        self.min_value = min_value\n",
    "        self.max_value = max_value\n",
    "    \n",
    "    def _is_valid(self, data):\n",
    "        return True if type(data) is float and self.min_value <= data <= self.max_value else False\n"
   ]
  },
  {
   "cell_type": "code",
   "execution_count": 6,
   "metadata": {},
   "outputs": [
    {
     "ename": "ValueError",
     "evalue": "данные не прошли валидацию",
     "output_type": "error",
     "traceback": [
      "\u001b[0;31m---------------------------------------------------------------------------\u001b[0m",
      "\u001b[0;31mValueError\u001b[0m                                Traceback (most recent call last)",
      "\u001b[1;32m/Users/konstantin/Documents/Courses/Python_OOP/4_Inheritance_Polymorphism/1_Inheritance.ipynb Ячейка 11\u001b[0m in \u001b[0;36m<cell line: 4>\u001b[0;34m()\u001b[0m\n\u001b[1;32m      <a href='vscode-notebook-cell:/Users/konstantin/Documents/Courses/Python_OOP/4_Inheritance_Polymorphism/1_Inheritance.ipynb#X20sZmlsZQ%3D%3D?line=1'>2</a>\u001b[0m float_validator \u001b[39m=\u001b[39m FloatValidator(\u001b[39m-\u001b[39m\u001b[39m1\u001b[39m, \u001b[39m1\u001b[39m)\n\u001b[1;32m      <a href='vscode-notebook-cell:/Users/konstantin/Documents/Courses/Python_OOP/4_Inheritance_Polymorphism/1_Inheritance.ipynb#X20sZmlsZQ%3D%3D?line=2'>3</a>\u001b[0m res1 \u001b[39m=\u001b[39m integer_validator(\u001b[39m10\u001b[39m)  \u001b[39m# исключение не генерируется (проверка проходит)\u001b[39;00m\n\u001b[0;32m----> <a href='vscode-notebook-cell:/Users/konstantin/Documents/Courses/Python_OOP/4_Inheritance_Polymorphism/1_Inheritance.ipynb#X20sZmlsZQ%3D%3D?line=3'>4</a>\u001b[0m res2 \u001b[39m=\u001b[39m float_validator(\u001b[39m10\u001b[39;49m)\n",
      "\u001b[1;32m/Users/konstantin/Documents/Courses/Python_OOP/4_Inheritance_Polymorphism/1_Inheritance.ipynb Ячейка 11\u001b[0m in \u001b[0;36mValidator.__call__\u001b[0;34m(self, data)\u001b[0m\n\u001b[1;32m      <a href='vscode-notebook-cell:/Users/konstantin/Documents/Courses/Python_OOP/4_Inheritance_Polymorphism/1_Inheritance.ipynb#X20sZmlsZQ%3D%3D?line=4'>5</a>\u001b[0m \u001b[39mdef\u001b[39;00m \u001b[39m__call__\u001b[39m(\u001b[39mself\u001b[39m, data):\n\u001b[1;32m      <a href='vscode-notebook-cell:/Users/konstantin/Documents/Courses/Python_OOP/4_Inheritance_Polymorphism/1_Inheritance.ipynb#X20sZmlsZQ%3D%3D?line=5'>6</a>\u001b[0m     \u001b[39mif\u001b[39;00m \u001b[39mnot\u001b[39;00m \u001b[39mself\u001b[39m\u001b[39m.\u001b[39m_is_valid(data):\n\u001b[0;32m----> <a href='vscode-notebook-cell:/Users/konstantin/Documents/Courses/Python_OOP/4_Inheritance_Polymorphism/1_Inheritance.ipynb#X20sZmlsZQ%3D%3D?line=6'>7</a>\u001b[0m         \u001b[39mraise\u001b[39;00m \u001b[39mValueError\u001b[39;00m(\u001b[39m'\u001b[39m\u001b[39mданные не прошли валидацию\u001b[39m\u001b[39m'\u001b[39m)\n",
      "\u001b[0;31mValueError\u001b[0m: данные не прошли валидацию"
     ]
    }
   ],
   "source": [
    "integer_validator = IntegerValidator(-10, 10)\n",
    "float_validator = FloatValidator(-1, 1)\n",
    "res1 = integer_validator(10)  # исключение не генерируется (проверка проходит)\n",
    "res2 = float_validator(10)    # исключение ValueError"
   ]
  },
  {
   "cell_type": "markdown",
   "metadata": {},
   "source": [
    "#9"
   ]
  },
  {
   "cell_type": "code",
   "execution_count": 7,
   "metadata": {},
   "outputs": [],
   "source": [
    "class Layer:\n",
    "    def __init__(self) -> None:\n",
    "        self.name = 'Layer'\n",
    "        self.next_layer = None\n",
    "\n",
    "    def __call__(self, layer):\n",
    "        self.next_layer = layer\n",
    "        return layer\n",
    "\n",
    "class Input(Layer):\n",
    "    def __init__(self, inputs) -> None:\n",
    "        super().__init__()\n",
    "        self.inputs = inputs\n",
    "        self.name = 'Input'\n",
    "\n",
    "    def __call__(self, layer):\n",
    "        self.next_layer = layer\n",
    "        return layer\n",
    "\n",
    "\n",
    "class Dense(Layer):\n",
    "    def __init__(self, inputs, outputs, activation) -> None:\n",
    "        super().__init__()\n",
    "        self.inputs = inputs\n",
    "        self.outputs = outputs\n",
    "        self.activation = activation\n",
    "        self.name = 'Dense'\n",
    "\n",
    "    def __call__(self, layer):\n",
    "        self.next_layer = layer\n",
    "        return layer\n",
    "\n",
    "class NetworkIterator:\n",
    "    def __init__(self, network) -> None:\n",
    "        self.network = network\n",
    "\n",
    "    def __iter__(self):\n",
    "        return self\n",
    "\n",
    "    def __next__(self):\n",
    "        curr = self.network\n",
    "        if curr:\n",
    "            self.network = self.network.next_layer\n",
    "            return curr\n",
    "        \n",
    "        raise StopIteration\n",
    "\n"
   ]
  },
  {
   "cell_type": "code",
   "execution_count": 8,
   "metadata": {},
   "outputs": [],
   "source": [
    "network = Input(128)\n",
    "layer = network(Dense(network.inputs, 1024, 'linear'))\n",
    "layer = layer(Dense(layer.inputs, 10, 'softmax'))\n"
   ]
  },
  {
   "cell_type": "code",
   "execution_count": 9,
   "metadata": {},
   "outputs": [
    {
     "name": "stdout",
     "output_type": "stream",
     "text": [
      "Input\n",
      "Dense\n",
      "Dense\n"
     ]
    }
   ],
   "source": [
    "for x in NetworkIterator(network):\n",
    "    print(x.name)\n"
   ]
  },
  {
   "cell_type": "markdown",
   "metadata": {},
   "source": [
    "#10"
   ]
  },
  {
   "cell_type": "code",
   "execution_count": 10,
   "metadata": {},
   "outputs": [],
   "source": [
    "class Vector:\n",
    "    def __init__(self, *args) -> None:\n",
    "        if not self.__check(args):\n",
    "            raise ValueError\n",
    "        self.coords = args\n",
    "    \n",
    "    @staticmethod\n",
    "    def __check(coords):\n",
    "        if all([type(x) in (int, float) for x in coords]):\n",
    "            return True\n",
    "\n",
    "    def get_coords(self):\n",
    "        return self.coords\n",
    "\n",
    "    def __add__(self, another_vector):\n",
    "        if type(another_vector) is Vector and len(self.coords) == len(another_vector.coords):\n",
    "            return Vector(*[self.coords[i] + another_vector.coords[i] for i in range(len(self.coords))])\n",
    "\n",
    "    def __sub__(self, another_vector):\n",
    "        if type(another_vector) is Vector and len(self.coords) == len(another_vector.coords):\n",
    "            return Vector(*[self.coords[i] - another_vector.coords[i] for i in range(len(self.coords))])\n",
    "\n",
    "\n",
    "class VectorInt(Vector):\n",
    "    def __init__(self, *args) -> None:\n",
    "        if not self.__check(args):\n",
    "            raise ValueError('координаты должны быть целыми числами')\n",
    "        super().__init__(*args)\n",
    "\n",
    "    @staticmethod\n",
    "    def __check(coords):\n",
    "        if all([type(x) is int for x in coords]):\n",
    "            return True\n",
    "\n",
    "    def __add__(self, another_vector):\n",
    "        if self.__check(another_vector.coords) and len(self.coords) == len(another_vector.coords):\n",
    "            return VectorInt(*[self.coords[i] + another_vector.coords[i] for i in range(len(self.coords))])\n",
    "\n",
    "        return super().__add__(another_vector)\n",
    "\n",
    "    def __sub__(self, another_vector):\n",
    "        if self.__check(another_vector.coords) and len(self.coords) == len(another_vector.coords):\n",
    "            return VectorInt(*[self.coords[i] - another_vector.coords[i] for i in range(len(self.coords))])\n",
    "\n",
    "        return super().__sub__(another_vector)\n"
   ]
  }
 ],
 "metadata": {
  "kernelspec": {
   "display_name": "Python 3.9.12 64-bit",
   "language": "python",
   "name": "python3"
  },
  "language_info": {
   "codemirror_mode": {
    "name": "ipython",
    "version": 3
   },
   "file_extension": ".py",
   "mimetype": "text/x-python",
   "name": "python",
   "nbconvert_exporter": "python",
   "pygments_lexer": "ipython3",
   "version": "3.9.12"
  },
  "orig_nbformat": 4,
  "vscode": {
   "interpreter": {
    "hash": "aee8b7b246df8f9039afb4144a1f6fd8d2ca17a180786b69acc140d282b71a49"
   }
  }
 },
 "nbformat": 4,
 "nbformat_minor": 2
}
