{
 "cells": [
  {
   "cell_type": "markdown",
   "metadata": {},
   "source": [
    "#3"
   ]
  },
  {
   "cell_type": "code",
   "execution_count": 1,
   "metadata": {},
   "outputs": [],
   "source": [
    "class ListInteger(list):\n",
    "    @staticmethod\n",
    "    def __check(values):\n",
    "        if type(values) not in (list, tuple):\n",
    "            values = [values]\n",
    "        \n",
    "        if not all([type(x) is int for x in values]):\n",
    "            raise TypeError('можно передавать только целочисленные значения')\n",
    "\n",
    "    def __init__(self, values):\n",
    "        self.__check(values)\n",
    "        super().__init__(values)\n",
    "\n",
    "    def append(self, value):\n",
    "        self.__check(value)\n",
    "        super().append(value)\n",
    "\n",
    "    def __setitem__(self, key, value):\n",
    "        self.__check(value)\n",
    "        super().__setitem__(key, value)\n",
    "\n"
   ]
  },
  {
   "cell_type": "code",
   "execution_count": 2,
   "metadata": {},
   "outputs": [
    {
     "name": "stdout",
     "output_type": "stream",
     "text": [
      "[1, 10, 3, 11]\n"
     ]
    },
    {
     "ename": "TypeError",
     "evalue": "можно передавать только целочисленные значения",
     "output_type": "error",
     "traceback": [
      "\u001b[0;31m---------------------------------------------------------------------------\u001b[0m",
      "\u001b[0;31mTypeError\u001b[0m                                 Traceback (most recent call last)",
      "\u001b[1;32m/Users/konstantin/Documents/Courses/Python_OOP/4_Inheritance_Polymorphism/2_issubclass.ipynb Ячейка 3\u001b[0m in \u001b[0;36m<cell line: 5>\u001b[0;34m()\u001b[0m\n\u001b[1;32m      <a href='vscode-notebook-cell:/Users/konstantin/Documents/Courses/Python_OOP/4_Inheritance_Polymorphism/2_issubclass.ipynb#W3sZmlsZQ%3D%3D?line=2'>3</a>\u001b[0m s\u001b[39m.\u001b[39mappend(\u001b[39m11\u001b[39m)\n\u001b[1;32m      <a href='vscode-notebook-cell:/Users/konstantin/Documents/Courses/Python_OOP/4_Inheritance_Polymorphism/2_issubclass.ipynb#W3sZmlsZQ%3D%3D?line=3'>4</a>\u001b[0m \u001b[39mprint\u001b[39m(s)\n\u001b[0;32m----> <a href='vscode-notebook-cell:/Users/konstantin/Documents/Courses/Python_OOP/4_Inheritance_Polymorphism/2_issubclass.ipynb#W3sZmlsZQ%3D%3D?line=4'>5</a>\u001b[0m s[\u001b[39m0\u001b[39m] \u001b[39m=\u001b[39m \u001b[39m10.5\u001b[39m\n",
      "\u001b[1;32m/Users/konstantin/Documents/Courses/Python_OOP/4_Inheritance_Polymorphism/2_issubclass.ipynb Ячейка 3\u001b[0m in \u001b[0;36mListInteger.__setitem__\u001b[0;34m(self, key, value)\u001b[0m\n\u001b[1;32m     <a href='vscode-notebook-cell:/Users/konstantin/Documents/Courses/Python_OOP/4_Inheritance_Polymorphism/2_issubclass.ipynb#W3sZmlsZQ%3D%3D?line=17'>18</a>\u001b[0m \u001b[39mdef\u001b[39;00m \u001b[39m__setitem__\u001b[39m(\u001b[39mself\u001b[39m, key, value):\n\u001b[0;32m---> <a href='vscode-notebook-cell:/Users/konstantin/Documents/Courses/Python_OOP/4_Inheritance_Polymorphism/2_issubclass.ipynb#W3sZmlsZQ%3D%3D?line=18'>19</a>\u001b[0m     \u001b[39mself\u001b[39;49m\u001b[39m.\u001b[39;49m__check(value)\n\u001b[1;32m     <a href='vscode-notebook-cell:/Users/konstantin/Documents/Courses/Python_OOP/4_Inheritance_Polymorphism/2_issubclass.ipynb#W3sZmlsZQ%3D%3D?line=19'>20</a>\u001b[0m     \u001b[39msuper\u001b[39m()\u001b[39m.\u001b[39m\u001b[39m__setitem__\u001b[39m(key, value)\n",
      "\u001b[1;32m/Users/konstantin/Documents/Courses/Python_OOP/4_Inheritance_Polymorphism/2_issubclass.ipynb Ячейка 3\u001b[0m in \u001b[0;36mListInteger.__check\u001b[0;34m(values)\u001b[0m\n\u001b[1;32m      <a href='vscode-notebook-cell:/Users/konstantin/Documents/Courses/Python_OOP/4_Inheritance_Polymorphism/2_issubclass.ipynb#W3sZmlsZQ%3D%3D?line=4'>5</a>\u001b[0m     values \u001b[39m=\u001b[39m [values]\n\u001b[1;32m      <a href='vscode-notebook-cell:/Users/konstantin/Documents/Courses/Python_OOP/4_Inheritance_Polymorphism/2_issubclass.ipynb#W3sZmlsZQ%3D%3D?line=6'>7</a>\u001b[0m \u001b[39mif\u001b[39;00m \u001b[39mnot\u001b[39;00m \u001b[39mall\u001b[39m([\u001b[39mtype\u001b[39m(x) \u001b[39mis\u001b[39;00m \u001b[39mint\u001b[39m \u001b[39mfor\u001b[39;00m x \u001b[39min\u001b[39;00m values]):\n\u001b[0;32m----> <a href='vscode-notebook-cell:/Users/konstantin/Documents/Courses/Python_OOP/4_Inheritance_Polymorphism/2_issubclass.ipynb#W3sZmlsZQ%3D%3D?line=7'>8</a>\u001b[0m     \u001b[39mraise\u001b[39;00m \u001b[39mTypeError\u001b[39;00m(\u001b[39m'\u001b[39m\u001b[39mможно передавать только целочисленные значения\u001b[39m\u001b[39m'\u001b[39m)\n",
      "\u001b[0;31mTypeError\u001b[0m: можно передавать только целочисленные значения"
     ]
    }
   ],
   "source": [
    "s = ListInteger((1, 2, 3))\n",
    "s[1] = 10\n",
    "s.append(11)\n",
    "print(s)\n",
    "s[0] = 10.5 # TypeError\n"
   ]
  },
  {
   "cell_type": "markdown",
   "metadata": {},
   "source": [
    "#4"
   ]
  },
  {
   "cell_type": "code",
   "execution_count": 4,
   "metadata": {},
   "outputs": [],
   "source": [
    "class Thing:\n",
    "    def __init__(self, name, price, weight) -> None:\n",
    "        self.name = name\n",
    "        self.price = price\n",
    "        self.weight = weight\n",
    "\n",
    "    def __hash__(self):\n",
    "        return hash((self.name, self.price, self.weight))\n",
    "\n",
    "class DictShop(dict):\n",
    "    def __init__(self, things=None):\n",
    "        things = {} if things is None else things\n",
    "\n",
    "        if type(things) is not dict:\n",
    "            raise TypeError('аргумент должен быть словарем')\n",
    "\n",
    "        if things and not all([type(x) is Thing for x in things]):\n",
    "            raise TypeError('ключами могут быть только объекты класса Thing')\n",
    "\n",
    "        super().__init__(things)\n",
    "\n",
    "    def __setitem__(self, key, value):\n",
    "        if type(key) is not Thing:\n",
    "            raise TypeError('ключами могут быть только объекты класса Thing')\n",
    "\n",
    "        return super().__setitem__(key, value)\n",
    "\n"
   ]
  },
  {
   "cell_type": "markdown",
   "metadata": {},
   "source": [
    "#5"
   ]
  },
  {
   "cell_type": "code",
   "execution_count": 5,
   "metadata": {},
   "outputs": [],
   "source": [
    "class Protists:\n",
    "    def __init__(self, name=None, weight=None, old=None) -> None:\n",
    "        self.name = name\n",
    "        self.weight = weight\n",
    "        self.old = old\n",
    "\n",
    "class Plants(Protists): \n",
    "    pass\n",
    "\n",
    "class Animals(Protists): \n",
    "    pass\n",
    "\n",
    "class Mosses(Plants): \n",
    "    pass\n",
    "\n",
    "class Flowering(Plants): \n",
    "    pass\n",
    "\n",
    "class Worms(Animals): \n",
    "    pass\n",
    "\n",
    "class Mammals(Animals): \n",
    "    pass\n",
    "\n",
    "class Human(Mammals): \n",
    "    pass\n",
    "\n",
    "class Monkeys(Mammals): \n",
    "    pass\n",
    "\n",
    "class Monkey(Monkeys):\n",
    "    pass\n",
    "\n",
    "class Person(Human):\n",
    "    pass\n",
    "\n",
    "class Flower(Flowering):\n",
    "    pass\n",
    "\n",
    "class Worm(Worms):\n",
    "    pass"
   ]
  },
  {
   "cell_type": "code",
   "execution_count": 6,
   "metadata": {},
   "outputs": [],
   "source": [
    "lst_objs = [Monkey(\"мартышка\", 30.4, 7), Monkey(\"шимпанзе\", 24.6, 8),\n",
    "            Person(\"Балакирев\", 88, 34), Person(\"Верховный жрец\", 67.5, 45),\n",
    "            Flower(\"Тюльпан\", 0.2, 1), Flower(\"Роза\", 0.1, 2),\n",
    "            Worm(\"червь\", 0.01, 1), Worm(\"червь 2\", 0.02, 1)]\n",
    "\n",
    "lst_animals = [x for x in lst_objs if isinstance(x, Animals)]\n",
    "lst_plants = [x for x in lst_objs if isinstance(x, Plants)]\n",
    "lst_mammals = [x for x in lst_objs if isinstance(x, Mammals)]"
   ]
  },
  {
   "cell_type": "markdown",
   "metadata": {},
   "source": [
    "#6"
   ]
  },
  {
   "cell_type": "code",
   "execution_count": 7,
   "metadata": {},
   "outputs": [],
   "source": [
    "class Tuple(tuple):\n",
    "    def __add__(self, iter_obj):\n",
    "        return Tuple(super().__add__(tuple(iter_obj)))\n"
   ]
  },
  {
   "cell_type": "markdown",
   "metadata": {},
   "source": [
    "#7"
   ]
  },
  {
   "cell_type": "code",
   "execution_count": 8,
   "metadata": {},
   "outputs": [],
   "source": [
    "class VideoItem:\n",
    "    def __init__(self, title, descr, path) -> None:\n",
    "        self.title = title\n",
    "        self.descr = descr\n",
    "        self.path = path\n",
    "        self.rating = VideoRating()\n",
    "\n",
    "class VideoRating:\n",
    "    def __init__(self) -> None:\n",
    "        self.rating = 0\n",
    "\n",
    "    @property\n",
    "    def rating(self):\n",
    "        return self.__rating\n",
    "\n",
    "    @rating.setter\n",
    "    def rating(self, value):\n",
    "        if not 0 <= value <= 5:\n",
    "            raise ValueError('неверное присваиваемое значение')\n",
    "\n",
    "        self.__rating = value"
   ]
  },
  {
   "cell_type": "markdown",
   "metadata": {},
   "source": [
    "#8"
   ]
  },
  {
   "cell_type": "code",
   "execution_count": 9,
   "metadata": {},
   "outputs": [],
   "source": [
    "class IteratorAttrs:\n",
    "    def __iter__(self):\n",
    "        for x in self.__dict__.items():\n",
    "            yield x\n",
    "\n",
    "class SmartPhone(IteratorAttrs):\n",
    "    def __init__(self, model, size, memory) -> None:\n",
    "        super().__init__()\n",
    "        self.model = model\n",
    "        self.size = size\n",
    "        self.memory = memory"
   ]
  }
 ],
 "metadata": {
  "kernelspec": {
   "display_name": "Python 3.9.12 64-bit",
   "language": "python",
   "name": "python3"
  },
  "language_info": {
   "codemirror_mode": {
    "name": "ipython",
    "version": 3
   },
   "file_extension": ".py",
   "mimetype": "text/x-python",
   "name": "python",
   "nbconvert_exporter": "python",
   "pygments_lexer": "ipython3",
   "version": "3.9.12"
  },
  "orig_nbformat": 4,
  "vscode": {
   "interpreter": {
    "hash": "aee8b7b246df8f9039afb4144a1f6fd8d2ca17a180786b69acc140d282b71a49"
   }
  }
 },
 "nbformat": 4,
 "nbformat_minor": 2
}
