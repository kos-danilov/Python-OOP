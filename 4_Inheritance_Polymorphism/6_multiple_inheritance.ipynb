{
 "cells": [
  {
   "cell_type": "markdown",
   "metadata": {},
   "source": [
    "#4"
   ]
  },
  {
   "cell_type": "code",
   "execution_count": 1,
   "metadata": {},
   "outputs": [],
   "source": [
    "class Digit:\n",
    "    def __init__(self, value) -> None:\n",
    "        if type(value) not in (int, float):\n",
    "            raise TypeError('значение не соответствует типу объекта')\n",
    "        self.value = value\n",
    "\n",
    "class Integer(Digit):\n",
    "    def __init__(self, value) -> None:\n",
    "        if type(value) is not int:\n",
    "            raise TypeError('значение не соответствует типу объекта')\n",
    "        super().__init__(value)\n",
    "\n",
    "class Float(Digit):\n",
    "    def __init__(self, value) -> None:\n",
    "        if type(value) is not float:\n",
    "            raise TypeError('значение не соответствует типу объекта')\n",
    "        super().__init__(value)\n",
    "\n",
    "class Positive(Digit):\n",
    "    def __init__(self, value) -> None:\n",
    "        if value < 0:\n",
    "            raise TypeError('значение не соответствует типу объекта')\n",
    "        super().__init__(value)\n",
    "\n",
    "class Negative(Digit):\n",
    "    def __init__(self, value) -> None:\n",
    "        if value >= 0:\n",
    "            raise TypeError('значение не соответствует типу объекта')\n",
    "        super().__init__(value)\n",
    "\n",
    "class PrimeNumber(Integer, Positive):\n",
    "    def __init__(self, value) -> None:\n",
    "        super().__init__(value)\n",
    "\n",
    "class FloatPositive(Float, Positive):\n",
    "    def __init__(self, value) -> None:\n",
    "        super().__init__(value)"
   ]
  },
  {
   "cell_type": "code",
   "execution_count": 2,
   "metadata": {},
   "outputs": [],
   "source": [
    "digits = [PrimeNumber(3), PrimeNumber(1), PrimeNumber(4), FloatPositive(1.5), FloatPositive(9.2), FloatPositive(6.5),\n",
    "          FloatPositive(3.5), FloatPositive(8.9)]\n",
    "\n",
    "lst_positive = list(filter(lambda x :isinstance(x, Positive), digits))\n",
    "lst_float = list(filter(lambda x :isinstance(x, Float), digits))"
   ]
  },
  {
   "cell_type": "markdown",
   "metadata": {},
   "source": [
    "#5"
   ]
  },
  {
   "cell_type": "code",
   "execution_count": 3,
   "metadata": {},
   "outputs": [],
   "source": [
    "class ShopGenericView:\n",
    "    def __str__(self) -> str:\n",
    "        return '\\n'.join([f'{key}: {value}' for key, value in self.__dict__.items()])\n",
    "\n",
    "class ShopUserView:\n",
    "    def __str__(self) -> str:\n",
    "        return '\\n'.join([f'{key}: {value}' for key, value in self.__dict__.items() if key != '_id'])\n",
    "\n",
    "class ShopItem:\n",
    "    ID_SHOP_ITEM = 0\n",
    "\n",
    "    def __init__(self):\n",
    "        super().__init__()\n",
    "        ShopItem.ID_SHOP_ITEM += 1\n",
    "        self._id = ShopItem.ID_SHOP_ITEM\n",
    "\n",
    "    def get_pk(self):\n",
    "        return self._id\n",
    "\n",
    "class Book(ShopItem, ShopUserView):\n",
    "    def __init__(self, title, author, year):\n",
    "        super().__init__()\n",
    "        self._title = title\n",
    "        self._author = author\n",
    "        self._year = year\n",
    "\n"
   ]
  },
  {
   "cell_type": "code",
   "execution_count": 4,
   "metadata": {},
   "outputs": [
    {
     "name": "stdout",
     "output_type": "stream",
     "text": [
      "_title: 1\n",
      "_author: 2\n",
      "_year: 3\n"
     ]
    }
   ],
   "source": [
    "print(Book(1,2,3))"
   ]
  },
  {
   "cell_type": "markdown",
   "metadata": {},
   "source": [
    "#6"
   ]
  },
  {
   "cell_type": "code",
   "execution_count": 5,
   "metadata": {},
   "outputs": [],
   "source": [
    "class RetriveMixin:\n",
    "    def get(self, request):\n",
    "        return \"GET: \" + request.get('url')\n",
    "\n",
    "class CreateMixin:\n",
    "    def post(self, request):\n",
    "        return \"POST: \" + request.get('url')\n",
    "\n",
    "class UpdateMixin:\n",
    "    def put(self, request):\n",
    "        return \"PUT: \" + request.get('url')\n",
    "\n",
    "class GeneralView():\n",
    "    allowed_methods = ('GET', 'POST', 'PUT', 'DELETE')\n",
    "\n",
    "    def render_request(self, request):\n",
    "        if 'url' not in request or 'method' not in request:\n",
    "            raise ValueError()\n",
    "\n",
    "        if request['method'] not in self.allowed_methods:\n",
    "            raise TypeError(f\"Метод {request.get('method')} не разрешен.\")\n",
    "        \n",
    "        method_request = request.get('method').lower()\n",
    "        return self.__getattribute__(method_request)(request)\n",
    "\n",
    "class DetailView(RetriveMixin, UpdateMixin, GeneralView):\n",
    "    allowed_methods = ('GET', 'PUT')"
   ]
  },
  {
   "cell_type": "code",
   "execution_count": 6,
   "metadata": {},
   "outputs": [
    {
     "name": "stdout",
     "output_type": "stream",
     "text": [
      "GET: https://stepik.org/course/116336/\n"
     ]
    }
   ],
   "source": [
    "view = DetailView()\n",
    "html = view.render_request({'url': 'https://stepik.org/course/116336/', 'method': 'GET'})\n",
    "print(html)   # GET: https://stepik.org/course/116336/"
   ]
  },
  {
   "cell_type": "markdown",
   "metadata": {},
   "source": [
    "#9"
   ]
  },
  {
   "cell_type": "code",
   "execution_count": 7,
   "metadata": {},
   "outputs": [],
   "source": [
    "class Money:\n",
    "    def __init__(self, value) -> None:\n",
    "        self.money = value\n",
    "\n",
    "    @property\n",
    "    def money(self):\n",
    "        return self._money\n",
    "\n",
    "    @money.setter\n",
    "    def money(self, value):\n",
    "        if type(value) not in (float, int):\n",
    "            raise TypeError('сумма должна быть числом')\n",
    "        self._money = value\n",
    "\n",
    "class MoneyOperators:\n",
    "    def __add__(self, other):\n",
    "        if type(other) in (int, float):\n",
    "            return self.__class__(self.money + other)\n",
    "\n",
    "        if type(self) != type(other):\n",
    "            raise TypeError('Разные типы объектов')\n",
    "\n",
    "        return self.__class__(self.money + other.money)\n",
    "\n",
    "    def __sub__(self, other):\n",
    "        if type(other) in (int, float):\n",
    "            return self.__class__(self.money - other)\n",
    "\n",
    "        if type(self) != type(other):\n",
    "            raise TypeError('Разные типы объектов')\n",
    "\n",
    "        return self.__class__(self.money - other.money)\n",
    "\n",
    "class MoneyR(Money, MoneyOperators):\n",
    "    def __str__(self):\n",
    "        return f\"MoneyR: {self.money}\"\n",
    "\n",
    "\n",
    "class MoneyD(Money, MoneyOperators):\n",
    "    def __str__(self):\n",
    "        return f\"MoneyD: {self.money}\"\n",
    "\n"
   ]
  },
  {
   "cell_type": "code",
   "execution_count": 8,
   "metadata": {},
   "outputs": [
    {
     "name": "stdout",
     "output_type": "stream",
     "text": [
      "MoneyR: 11\n"
     ]
    },
    {
     "ename": "TypeError",
     "evalue": "Разные типы объектов",
     "output_type": "error",
     "traceback": [
      "\u001b[0;31m---------------------------------------------------------------------------\u001b[0m",
      "\u001b[0;31mTypeError\u001b[0m                                 Traceback (most recent call last)",
      "\u001b[1;32m/Users/konstantin/Documents/Courses/Python_OOP/4_Inheritance_Polymorphism/6_multiple_inheritance.ipynb Ячейка 12\u001b[0m in \u001b[0;36m<cell line: 6>\u001b[0;34m()\u001b[0m\n\u001b[1;32m      <a href='vscode-notebook-cell:/Users/konstantin/Documents/Courses/Python_OOP/4_Inheritance_Polymorphism/6_multiple_inheritance.ipynb#X16sZmlsZQ%3D%3D?line=3'>4</a>\u001b[0m \u001b[39mprint\u001b[39m(m)  \u001b[39m# MoneyR: 11\u001b[39;00m\n\u001b[1;32m      <a href='vscode-notebook-cell:/Users/konstantin/Documents/Courses/Python_OOP/4_Inheritance_Polymorphism/6_multiple_inheritance.ipynb#X16sZmlsZQ%3D%3D?line=4'>5</a>\u001b[0m m \u001b[39m=\u001b[39m m1 \u001b[39m-\u001b[39m \u001b[39m5.4\u001b[39m\n\u001b[0;32m----> <a href='vscode-notebook-cell:/Users/konstantin/Documents/Courses/Python_OOP/4_Inheritance_Polymorphism/6_multiple_inheritance.ipynb#X16sZmlsZQ%3D%3D?line=5'>6</a>\u001b[0m m \u001b[39m=\u001b[39m m1 \u001b[39m+\u001b[39;49m m2\n",
      "\u001b[1;32m/Users/konstantin/Documents/Courses/Python_OOP/4_Inheritance_Polymorphism/6_multiple_inheritance.ipynb Ячейка 12\u001b[0m in \u001b[0;36mMoneyOperators.__add__\u001b[0;34m(self, other)\u001b[0m\n\u001b[1;32m     <a href='vscode-notebook-cell:/Users/konstantin/Documents/Courses/Python_OOP/4_Inheritance_Polymorphism/6_multiple_inheritance.ipynb#X16sZmlsZQ%3D%3D?line=17'>18</a>\u001b[0m     \u001b[39mreturn\u001b[39;00m \u001b[39mself\u001b[39m\u001b[39m.\u001b[39m\u001b[39m__class__\u001b[39m(\u001b[39mself\u001b[39m\u001b[39m.\u001b[39mmoney \u001b[39m+\u001b[39m other)\n\u001b[1;32m     <a href='vscode-notebook-cell:/Users/konstantin/Documents/Courses/Python_OOP/4_Inheritance_Polymorphism/6_multiple_inheritance.ipynb#X16sZmlsZQ%3D%3D?line=19'>20</a>\u001b[0m \u001b[39mif\u001b[39;00m \u001b[39mtype\u001b[39m(\u001b[39mself\u001b[39m) \u001b[39m!=\u001b[39m \u001b[39mtype\u001b[39m(other):\n\u001b[0;32m---> <a href='vscode-notebook-cell:/Users/konstantin/Documents/Courses/Python_OOP/4_Inheritance_Polymorphism/6_multiple_inheritance.ipynb#X16sZmlsZQ%3D%3D?line=20'>21</a>\u001b[0m     \u001b[39mraise\u001b[39;00m \u001b[39mTypeError\u001b[39;00m(\u001b[39m'\u001b[39m\u001b[39mРазные типы объектов\u001b[39m\u001b[39m'\u001b[39m)\n\u001b[1;32m     <a href='vscode-notebook-cell:/Users/konstantin/Documents/Courses/Python_OOP/4_Inheritance_Polymorphism/6_multiple_inheritance.ipynb#X16sZmlsZQ%3D%3D?line=22'>23</a>\u001b[0m \u001b[39mreturn\u001b[39;00m \u001b[39mself\u001b[39m\u001b[39m.\u001b[39m\u001b[39m__class__\u001b[39m(\u001b[39mself\u001b[39m\u001b[39m.\u001b[39mmoney \u001b[39m+\u001b[39m other\u001b[39m.\u001b[39mmoney)\n",
      "\u001b[0;31mTypeError\u001b[0m: Разные типы объектов"
     ]
    }
   ],
   "source": [
    "m1 = MoneyR(1)\n",
    "m2 = MoneyD(2)\n",
    "m = m1 + 10\n",
    "print(m)  # MoneyR: 11\n",
    "m = m1 - 5.4\n",
    "m = m1 + m2  # TypeError"
   ]
  }
 ],
 "metadata": {
  "kernelspec": {
   "display_name": "Python 3.9.12 64-bit",
   "language": "python",
   "name": "python3"
  },
  "language_info": {
   "codemirror_mode": {
    "name": "ipython",
    "version": 3
   },
   "file_extension": ".py",
   "mimetype": "text/x-python",
   "name": "python",
   "nbconvert_exporter": "python",
   "pygments_lexer": "ipython3",
   "version": "3.9.12"
  },
  "orig_nbformat": 4,
  "vscode": {
   "interpreter": {
    "hash": "aee8b7b246df8f9039afb4144a1f6fd8d2ca17a180786b69acc140d282b71a49"
   }
  }
 },
 "nbformat": 4,
 "nbformat_minor": 2
}
