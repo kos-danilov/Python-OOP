{
 "cells": [
  {
   "cell_type": "markdown",
   "metadata": {},
   "source": [
    "#3"
   ]
  },
  {
   "cell_type": "code",
   "execution_count": 1,
   "metadata": {},
   "outputs": [],
   "source": [
    "class Book:\n",
    "    def __init__(self, title, author, pages, year) -> None:\n",
    "        self.title = title\n",
    "        self.author = author\n",
    "        self.pages = pages\n",
    "        self.year = year\n",
    "\n",
    "class DigitBook(Book):\n",
    "    def __init__(self, title, author, pages, year, size, frm) -> None:\n",
    "        super().__init__(title, author, pages, year)\n",
    "        self.size = size\n",
    "        self.frm = frm"
   ]
  },
  {
   "cell_type": "markdown",
   "metadata": {},
   "source": [
    "#4"
   ]
  },
  {
   "cell_type": "code",
   "execution_count": 2,
   "metadata": {},
   "outputs": [],
   "source": [
    "class Thing:\n",
    "    def __init__(self, name, weight) -> None:\n",
    "        self.name = name\n",
    "        self.weight = weight\n",
    "\n",
    "class ArtObject(Thing):\n",
    "    def __init__(self, name, weight, author, date) -> None:\n",
    "        super().__init__(name, weight)\n",
    "        self.author = author\n",
    "        self.date = date\n",
    "\n",
    "class Computer(Thing):\n",
    "    def __init__(self, name, weight, memory, cpu) -> None:\n",
    "        super().__init__(name, weight)\n",
    "        self.memory = memory\n",
    "        self.cpu = cpu\n",
    "\n",
    "class Auto(Thing):\n",
    "    def __init__(self, name, weight, dims) -> None:\n",
    "        super().__init__(name, weight)\n",
    "        self.dims = dims\n",
    "\n",
    "class Mercedes(Auto):\n",
    "    def __init__(self, name, weight, dims, model, old) -> None:\n",
    "        super().__init__(name, weight, dims)\n",
    "        self.model = model\n",
    "        self.old = old\n",
    "\n",
    "class Toyota(Auto):\n",
    "    def __init__(self, name, weight, dims, model, wheel) -> None:\n",
    "        super().__init__(name, weight, dims)\n",
    "        self.model = model\n",
    "        self.wheel = wheel"
   ]
  },
  {
   "cell_type": "markdown",
   "metadata": {},
   "source": [
    "#5"
   ]
  },
  {
   "cell_type": "code",
   "execution_count": 3,
   "metadata": {},
   "outputs": [],
   "source": [
    "class SellItem:\n",
    "    def __init__(self, name, price) -> None:\n",
    "        self.name = name\n",
    "        self.price = price\n",
    "\n",
    "class House(SellItem):\n",
    "    def __init__(self, name, price, material, square) -> None:\n",
    "        super().__init__(name, price)\n",
    "        self.material = material\n",
    "        self.square = square\n",
    "\n",
    "class Flat(SellItem):\n",
    "    def __init__(self, name, price, size, rooms) -> None:\n",
    "        super().__init__(name, price)\n",
    "        self.size = size\n",
    "        self.rooms = rooms\n",
    "\n",
    "class Land(SellItem):\n",
    "    def __init__(self, name, price, square) -> None:\n",
    "        super().__init__(name, price)\n",
    "        self.square = square\n",
    "\n",
    "class Agency:\n",
    "    def __init__(self, name) -> None:\n",
    "        self.name = name\n",
    "        self.obj = []\n",
    "\n",
    "    def add_object(self, obj):\n",
    "        self.obj.append(obj)\n",
    "\n",
    "    def remove_object(self, obj):\n",
    "        self.obj.remove(obj)\n",
    "\n",
    "    def get_objects(self):\n",
    "        return self.obj"
   ]
  },
  {
   "cell_type": "code",
   "execution_count": 4,
   "metadata": {},
   "outputs": [
    {
     "name": "stdout",
     "output_type": "stream",
     "text": [
      "квартира, 3к\n",
      "квартира, 2к\n",
      "квартира, 1к\n",
      "дом, крипичный\n",
      "участок под застройку\n"
     ]
    }
   ],
   "source": [
    "ag = Agency(\"Рога и копыта\")\n",
    "ag.add_object(Flat(\"квартира, 3к\", 10000000, 121.5, 3))\n",
    "ag.add_object(Flat(\"квартира, 2к\", 8000000, 74.5, 2))\n",
    "ag.add_object(Flat(\"квартира, 1к\", 4000000, 54, 1))\n",
    "ag.add_object(House(\"дом, крипичный\", price=35000000, material=\"кирпич\", square=186.5))\n",
    "ag.add_object(Land(\"участок под застройку\", 3000000, 6.74))\n",
    "for obj in ag.get_objects():\n",
    "    print(obj.name)\n",
    "\n",
    "lst_houses = [x for x in ag.get_objects() if isinstance(x, House)] # выделение списка домов\n"
   ]
  },
  {
   "cell_type": "markdown",
   "metadata": {},
   "source": [
    "#6"
   ]
  },
  {
   "cell_type": "code",
   "execution_count": 2,
   "metadata": {},
   "outputs": [],
   "source": [
    "class Router:\n",
    "    app = {}\n",
    "    @classmethod\n",
    "    def get(cls, path):\n",
    "        return cls.app.get(path)\n",
    "\n",
    "    @classmethod\n",
    "    def add_callback(cls, path, func):\n",
    "        cls.app[path] = func\n",
    "\n",
    "class Callback:\n",
    "    def __init__(self, path, router_cls) -> None:\n",
    "        self.path = path\n",
    "        self.router_cls = router_cls\n",
    "\n",
    "    def __call__(self, func):\n",
    "        self.router_cls.add_callback(self.path, func)"
   ]
  },
  {
   "cell_type": "code",
   "execution_count": 3,
   "metadata": {},
   "outputs": [
    {
     "name": "stdout",
     "output_type": "stream",
     "text": [
      "<h1>Главная</h1>\n"
     ]
    }
   ],
   "source": [
    "@Callback('/', Router)\n",
    "def index():\n",
    "    return '<h1>Главная</h1>'\n",
    "\n",
    "\n",
    "route = Router.get('/')\n",
    "if route:\n",
    "    ret = route()\n",
    "    print(ret)\n"
   ]
  },
  {
   "cell_type": "markdown",
   "metadata": {},
   "source": [
    "#7"
   ]
  },
  {
   "cell_type": "code",
   "execution_count": 9,
   "metadata": {},
   "outputs": [],
   "source": [
    "def integer_params_decorated(func):\n",
    "    def wrapper(self, *args, **kwargs):\n",
    "        if not all(type(x) is int for x in args):\n",
    "            raise TypeError(\"аргументы должны быть целыми числами\")\n",
    "        if not all(type(x) is int for x in kwargs.values()):\n",
    "            raise TypeError(\"аргументы должны быть целыми числами\")\n",
    "        return func(self, *args, **kwargs)\n",
    "    return wrapper\n",
    "\n",
    "def integer_params(cls):\n",
    "    methods = {k: v for k, v in cls.__dict__.items() if callable(v)}\n",
    "    for k, v in methods.items():\n",
    "        setattr(cls, k, integer_params_decorated(v))\n",
    "\n",
    "    return cls\n",
    "\n",
    "\n",
    "@integer_params\n",
    "class Vector:\n",
    "    def __init__(self, *args):\n",
    "        self.__coords = list(args)\n",
    "\n",
    "    def __getitem__(self, item):\n",
    "        return self.__coords[item]\n",
    "\n",
    "    def __setitem__(self, key, value):\n",
    "        self.__coords[key] = value\n",
    "\n",
    "    def set_coords(self, *coords, reverse=False):\n",
    "        c = list(coords)\n",
    "        self.__coords = c if not reverse else c[::-1]\n"
   ]
  },
  {
   "cell_type": "code",
   "execution_count": 10,
   "metadata": {},
   "outputs": [
    {
     "name": "stdout",
     "output_type": "stream",
     "text": [
      "2\n"
     ]
    },
    {
     "ename": "TypeError",
     "evalue": "аргументы должны быть целыми числами",
     "output_type": "error",
     "traceback": [
      "\u001b[0;31m---------------------------------------------------------------------------\u001b[0m",
      "\u001b[0;31mTypeError\u001b[0m                                 Traceback (most recent call last)",
      "\u001b[1;32m/Users/konstantin/Documents/Courses/Python_OOP/4_Inheritance_Polymorphism/3_super.ipynb Ячейка 13\u001b[0m in \u001b[0;36m<cell line: 3>\u001b[0;34m()\u001b[0m\n\u001b[1;32m      <a href='vscode-notebook-cell:/Users/konstantin/Documents/Courses/Python_OOP/4_Inheritance_Polymorphism/3_super.ipynb#X16sZmlsZQ%3D%3D?line=0'>1</a>\u001b[0m vector \u001b[39m=\u001b[39m Vector(\u001b[39m1\u001b[39m, \u001b[39m2\u001b[39m)\n\u001b[1;32m      <a href='vscode-notebook-cell:/Users/konstantin/Documents/Courses/Python_OOP/4_Inheritance_Polymorphism/3_super.ipynb#X16sZmlsZQ%3D%3D?line=1'>2</a>\u001b[0m \u001b[39mprint\u001b[39m(vector[\u001b[39m1\u001b[39m])\n\u001b[0;32m----> <a href='vscode-notebook-cell:/Users/konstantin/Documents/Courses/Python_OOP/4_Inheritance_Polymorphism/3_super.ipynb#X16sZmlsZQ%3D%3D?line=2'>3</a>\u001b[0m vector[\u001b[39m1\u001b[39m] \u001b[39m=\u001b[39m \u001b[39m20.4\u001b[39m\n",
      "\u001b[1;32m/Users/konstantin/Documents/Courses/Python_OOP/4_Inheritance_Polymorphism/3_super.ipynb Ячейка 13\u001b[0m in \u001b[0;36minteger_params_decorated.<locals>.wrapper\u001b[0;34m(self, *args, **kwargs)\u001b[0m\n\u001b[1;32m      <a href='vscode-notebook-cell:/Users/konstantin/Documents/Courses/Python_OOP/4_Inheritance_Polymorphism/3_super.ipynb#X16sZmlsZQ%3D%3D?line=1'>2</a>\u001b[0m \u001b[39mdef\u001b[39;00m \u001b[39mwrapper\u001b[39m(\u001b[39mself\u001b[39m, \u001b[39m*\u001b[39margs, \u001b[39m*\u001b[39m\u001b[39m*\u001b[39mkwargs):\n\u001b[1;32m      <a href='vscode-notebook-cell:/Users/konstantin/Documents/Courses/Python_OOP/4_Inheritance_Polymorphism/3_super.ipynb#X16sZmlsZQ%3D%3D?line=2'>3</a>\u001b[0m     \u001b[39mif\u001b[39;00m \u001b[39mnot\u001b[39;00m \u001b[39mall\u001b[39m(\u001b[39mtype\u001b[39m(x) \u001b[39mis\u001b[39;00m \u001b[39mint\u001b[39m \u001b[39mfor\u001b[39;00m x \u001b[39min\u001b[39;00m args):\n\u001b[0;32m----> <a href='vscode-notebook-cell:/Users/konstantin/Documents/Courses/Python_OOP/4_Inheritance_Polymorphism/3_super.ipynb#X16sZmlsZQ%3D%3D?line=3'>4</a>\u001b[0m         \u001b[39mraise\u001b[39;00m \u001b[39mTypeError\u001b[39;00m(\u001b[39m\"\u001b[39m\u001b[39mаргументы должны быть целыми числами\u001b[39m\u001b[39m\"\u001b[39m)\n\u001b[1;32m      <a href='vscode-notebook-cell:/Users/konstantin/Documents/Courses/Python_OOP/4_Inheritance_Polymorphism/3_super.ipynb#X16sZmlsZQ%3D%3D?line=4'>5</a>\u001b[0m     \u001b[39mif\u001b[39;00m \u001b[39mnot\u001b[39;00m \u001b[39mall\u001b[39m(\u001b[39mtype\u001b[39m(x) \u001b[39mis\u001b[39;00m \u001b[39mint\u001b[39m \u001b[39mfor\u001b[39;00m x \u001b[39min\u001b[39;00m kwargs\u001b[39m.\u001b[39mvalues()):\n\u001b[1;32m      <a href='vscode-notebook-cell:/Users/konstantin/Documents/Courses/Python_OOP/4_Inheritance_Polymorphism/3_super.ipynb#X16sZmlsZQ%3D%3D?line=5'>6</a>\u001b[0m         \u001b[39mraise\u001b[39;00m \u001b[39mTypeError\u001b[39;00m(\u001b[39m\"\u001b[39m\u001b[39mаргументы должны быть целыми числами\u001b[39m\u001b[39m\"\u001b[39m)\n",
      "\u001b[0;31mTypeError\u001b[0m: аргументы должны быть целыми числами"
     ]
    }
   ],
   "source": [
    "vector = Vector(1, 2)\n",
    "print(vector[1])\n",
    "vector[1] = 20.4 # TypeError"
   ]
  },
  {
   "cell_type": "markdown",
   "metadata": {},
   "source": [
    "#8"
   ]
  },
  {
   "cell_type": "code",
   "execution_count": 18,
   "metadata": {},
   "outputs": [],
   "source": [
    "class SoftList(list):\n",
    "    def __getitem__(self, item):\n",
    "        try: \n",
    "            return super().__getitem__(item)\n",
    "        except IndexError:\n",
    "            return False"
   ]
  },
  {
   "cell_type": "code",
   "execution_count": 19,
   "metadata": {},
   "outputs": [
    {
     "name": "stdout",
     "output_type": "stream",
     "text": [
      "p\n",
      "n\n",
      "False\n",
      "False\n"
     ]
    }
   ],
   "source": [
    "sl = SoftList(\"python\")\n",
    "print(sl[0]) # 'p'\n",
    "print(sl[-1]) # 'n'\n",
    "print(sl[6]) # False\n",
    "print(sl[-7]) # False"
   ]
  },
  {
   "cell_type": "markdown",
   "metadata": {},
   "source": [
    "#9"
   ]
  },
  {
   "cell_type": "code",
   "execution_count": 52,
   "metadata": {},
   "outputs": [],
   "source": [
    "class StringDigit(str):\n",
    "    def __init__(self, string) -> None:\n",
    "        if not set(string) < set('0123456789'):\n",
    "            raise ValueError(\"в строке должны быть только цифры\")\n",
    "        super().__init__()\n",
    "    \n",
    "    def __add__(self, string):\n",
    "        if type(string) is str:\n",
    "            return StringDigit(self.__str__() + string)\n",
    "\n",
    "    def __radd__(self, string):\n",
    "        if type(string) is str:\n",
    "            return StringDigit(string + self.__str__())"
   ]
  },
  {
   "cell_type": "code",
   "execution_count": 55,
   "metadata": {},
   "outputs": [
    {
     "name": "stdout",
     "output_type": "stream",
     "text": [
      "123\n",
      "123456\n",
      "789123456\n"
     ]
    },
    {
     "ename": "ValueError",
     "evalue": "в строке должны быть только цифры",
     "output_type": "error",
     "traceback": [
      "\u001b[0;31m---------------------------------------------------------------------------\u001b[0m",
      "\u001b[0;31mValueError\u001b[0m                                Traceback (most recent call last)",
      "\u001b[1;32m/Users/konstantin/Documents/Courses/Python_OOP/4_Inheritance_Polymorphism/3_super.ipynb Ячейка 20\u001b[0m in \u001b[0;36m<cell line: 7>\u001b[0;34m()\u001b[0m\n\u001b[1;32m      <a href='vscode-notebook-cell:/Users/konstantin/Documents/Courses/Python_OOP/4_Inheritance_Polymorphism/3_super.ipynb#X32sZmlsZQ%3D%3D?line=4'>5</a>\u001b[0m sd \u001b[39m=\u001b[39m \u001b[39m\"\u001b[39m\u001b[39m789\u001b[39m\u001b[39m\"\u001b[39m \u001b[39m+\u001b[39m sd \u001b[39m# StringDigit: 789123456\u001b[39;00m\n\u001b[1;32m      <a href='vscode-notebook-cell:/Users/konstantin/Documents/Courses/Python_OOP/4_Inheritance_Polymorphism/3_super.ipynb#X32sZmlsZQ%3D%3D?line=5'>6</a>\u001b[0m \u001b[39mprint\u001b[39m(sd)\n\u001b[0;32m----> <a href='vscode-notebook-cell:/Users/konstantin/Documents/Courses/Python_OOP/4_Inheritance_Polymorphism/3_super.ipynb#X32sZmlsZQ%3D%3D?line=6'>7</a>\u001b[0m sd \u001b[39m=\u001b[39m sd \u001b[39m+\u001b[39;49m \u001b[39m\"\u001b[39;49m\u001b[39m12f\u001b[39;49m\u001b[39m\"\u001b[39;49m\n",
      "\u001b[1;32m/Users/konstantin/Documents/Courses/Python_OOP/4_Inheritance_Polymorphism/3_super.ipynb Ячейка 20\u001b[0m in \u001b[0;36mStringDigit.__add__\u001b[0;34m(self, string)\u001b[0m\n\u001b[1;32m      <a href='vscode-notebook-cell:/Users/konstantin/Documents/Courses/Python_OOP/4_Inheritance_Polymorphism/3_super.ipynb#X32sZmlsZQ%3D%3D?line=6'>7</a>\u001b[0m \u001b[39mdef\u001b[39;00m \u001b[39m__add__\u001b[39m(\u001b[39mself\u001b[39m, string):\n\u001b[1;32m      <a href='vscode-notebook-cell:/Users/konstantin/Documents/Courses/Python_OOP/4_Inheritance_Polymorphism/3_super.ipynb#X32sZmlsZQ%3D%3D?line=7'>8</a>\u001b[0m     \u001b[39mif\u001b[39;00m \u001b[39mtype\u001b[39m(string) \u001b[39mis\u001b[39;00m \u001b[39mstr\u001b[39m:\n\u001b[0;32m----> <a href='vscode-notebook-cell:/Users/konstantin/Documents/Courses/Python_OOP/4_Inheritance_Polymorphism/3_super.ipynb#X32sZmlsZQ%3D%3D?line=8'>9</a>\u001b[0m         \u001b[39mreturn\u001b[39;00m StringDigit(\u001b[39mself\u001b[39;49m\u001b[39m.\u001b[39;49m\u001b[39m__str__\u001b[39;49m() \u001b[39m+\u001b[39;49m string)\n",
      "\u001b[1;32m/Users/konstantin/Documents/Courses/Python_OOP/4_Inheritance_Polymorphism/3_super.ipynb Ячейка 20\u001b[0m in \u001b[0;36mStringDigit.__init__\u001b[0;34m(self, string)\u001b[0m\n\u001b[1;32m      <a href='vscode-notebook-cell:/Users/konstantin/Documents/Courses/Python_OOP/4_Inheritance_Polymorphism/3_super.ipynb#X32sZmlsZQ%3D%3D?line=1'>2</a>\u001b[0m \u001b[39mdef\u001b[39;00m \u001b[39m__init__\u001b[39m(\u001b[39mself\u001b[39m, string) \u001b[39m-\u001b[39m\u001b[39m>\u001b[39m \u001b[39mNone\u001b[39;00m:\n\u001b[1;32m      <a href='vscode-notebook-cell:/Users/konstantin/Documents/Courses/Python_OOP/4_Inheritance_Polymorphism/3_super.ipynb#X32sZmlsZQ%3D%3D?line=2'>3</a>\u001b[0m     \u001b[39mif\u001b[39;00m \u001b[39mnot\u001b[39;00m \u001b[39mset\u001b[39m(string) \u001b[39m<\u001b[39m \u001b[39mset\u001b[39m(\u001b[39m'\u001b[39m\u001b[39m0123456789\u001b[39m\u001b[39m'\u001b[39m):\n\u001b[0;32m----> <a href='vscode-notebook-cell:/Users/konstantin/Documents/Courses/Python_OOP/4_Inheritance_Polymorphism/3_super.ipynb#X32sZmlsZQ%3D%3D?line=3'>4</a>\u001b[0m         \u001b[39mraise\u001b[39;00m \u001b[39mValueError\u001b[39;00m(\u001b[39m\"\u001b[39m\u001b[39mв строке должны быть только цифры\u001b[39m\u001b[39m\"\u001b[39m)\n\u001b[1;32m      <a href='vscode-notebook-cell:/Users/konstantin/Documents/Courses/Python_OOP/4_Inheritance_Polymorphism/3_super.ipynb#X32sZmlsZQ%3D%3D?line=4'>5</a>\u001b[0m     \u001b[39msuper\u001b[39m()\u001b[39m.\u001b[39m\u001b[39m__init__\u001b[39m()\n",
      "\u001b[0;31mValueError\u001b[0m: в строке должны быть только цифры"
     ]
    }
   ],
   "source": [
    "sd = StringDigit(\"123\")\n",
    "print(sd)       # 123\n",
    "sd = sd + \"456\" # StringDigit: 123456\n",
    "print(sd)\n",
    "sd = \"789\" + sd # StringDigit: 789123456\n",
    "print(sd)\n",
    "sd = sd + \"12f\" # ValueError"
   ]
  },
  {
   "cell_type": "markdown",
   "metadata": {},
   "source": [
    "#10"
   ]
  },
  {
   "cell_type": "code",
   "execution_count": 82,
   "metadata": {},
   "outputs": [],
   "source": [
    "class ItemAttrs:\n",
    "    def __getitem__(self, index):\n",
    "        return list(self.__dict__.values())[index]\n",
    "\n",
    "    def __setitem__(self, index, value):\n",
    "        self.__dict__[list(self.__dict__.keys())[index]] = value\n",
    "\n",
    "class Point(ItemAttrs):\n",
    "    def __init__(self, x, y) -> None:\n",
    "        self.x = x\n",
    "        self.y = y\n"
   ]
  },
  {
   "cell_type": "code",
   "execution_count": 83,
   "metadata": {},
   "outputs": [
    {
     "data": {
      "text/plain": [
       "10"
      ]
     },
     "execution_count": 83,
     "metadata": {},
     "output_type": "execute_result"
    }
   ],
   "source": [
    "pt = Point(1, 2.5)\n",
    "x = pt[0]   # 1\n",
    "y = pt[1]   # 2.5\n",
    "pt[0] = 10\n",
    "pt[0]"
   ]
  }
 ],
 "metadata": {
  "kernelspec": {
   "display_name": "Python 3.9.12 64-bit",
   "language": "python",
   "name": "python3"
  },
  "language_info": {
   "codemirror_mode": {
    "name": "ipython",
    "version": 3
   },
   "file_extension": ".py",
   "mimetype": "text/x-python",
   "name": "python",
   "nbconvert_exporter": "python",
   "pygments_lexer": "ipython3",
   "version": "3.9.12"
  },
  "orig_nbformat": 4,
  "vscode": {
   "interpreter": {
    "hash": "aee8b7b246df8f9039afb4144a1f6fd8d2ca17a180786b69acc140d282b71a49"
   }
  }
 },
 "nbformat": 4,
 "nbformat_minor": 2
}
