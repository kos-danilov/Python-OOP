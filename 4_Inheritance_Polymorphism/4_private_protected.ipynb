{
 "cells": [
  {
   "cell_type": "markdown",
   "metadata": {},
   "source": [
    "#5"
   ]
  },
  {
   "cell_type": "code",
   "execution_count": 1,
   "metadata": {},
   "outputs": [],
   "source": [
    "class Animal:\n",
    "    def __init__(self, name, kind, old) -> None:\n",
    "        self.name = name\n",
    "        self.kind = kind\n",
    "        self.old = old\n",
    "\n",
    "    @property\n",
    "    def name(self):\n",
    "        return self.__name\n",
    "\n",
    "    @name.setter\n",
    "    def name(self, name):\n",
    "        self.__name = name\n",
    "\n",
    "    @property\n",
    "    def kind(self):\n",
    "        return self.__kind\n",
    "\n",
    "    @kind.setter\n",
    "    def kind(self, kind):\n",
    "        self.__kind = kind\n",
    "\n",
    "    @property\n",
    "    def old(self):\n",
    "        return self.__old\n",
    "\n",
    "    @old.setter\n",
    "    def old(self, old):\n",
    "        self.__old = old"
   ]
  },
  {
   "cell_type": "markdown",
   "metadata": {},
   "source": [
    "#6"
   ]
  },
  {
   "cell_type": "code",
   "execution_count": 2,
   "metadata": {},
   "outputs": [],
   "source": [
    "class Furniture:\n",
    "    def __init__(self, name, weight) -> None:\n",
    "        self.name = name\n",
    "        self.weight = weight\n",
    "\n",
    "    @property\n",
    "    def name(self):\n",
    "        return self._name\n",
    "\n",
    "    @name.setter\n",
    "    def name(self, name):\n",
    "        self.__verify_name(name)\n",
    "        self._name = name\n",
    "\n",
    "    @property\n",
    "    def weight(self):\n",
    "        return self._weight\n",
    "\n",
    "    @weight.setter\n",
    "    def weight(self, weight):\n",
    "        self.__verify_weight(weight)\n",
    "        self._weight = weight\n",
    "\n",
    "    @staticmethod\n",
    "    def __verify_name(name):\n",
    "        if type(name) is not str:\n",
    "            raise TypeError('название должно быть строкой')\n",
    "\n",
    "    @staticmethod\n",
    "    def __verify_weight(weight):\n",
    "        if type(weight) not in (int, float) and weight <= 0:\n",
    "            raise TypeError('вес должен быть положительным числом')\n",
    "\n",
    "class Closet(Furniture):\n",
    "    def __init__(self, name, weight, tp, doors) -> None:\n",
    "        super().__init__(name, weight)\n",
    "        self._tp = tp\n",
    "        self._doors = doors\n",
    "\n",
    "    def get_attrs(self):\n",
    "        return tuple(self.name, self.weight, self._tp, self._doors)\n",
    "\n",
    "class Chair(Furniture):\n",
    "    def __init__(self, name, weight, height) -> None:\n",
    "        super().__init__(name, weight)\n",
    "        self._height = height\n",
    "\n",
    "    def get_attrs(self):\n",
    "        return tuple(self.name, self.weight, self._height)\n",
    "\n",
    "class Table(Furniture):\n",
    "    def __init__(self, name, weight, height, square) -> None:\n",
    "        super().__init__(name, weight)\n",
    "        self._height = height\n",
    "        self._square = square\n",
    "\n",
    "    def get_attrs(self):\n",
    "        return tuple(self.name, self.weight, self._height, self._square)"
   ]
  },
  {
   "cell_type": "code",
   "execution_count": 3,
   "metadata": {},
   "outputs": [
    {
     "data": {
      "text/plain": [
       "<__main__.Table at 0x10df99250>"
      ]
     },
     "execution_count": 3,
     "metadata": {},
     "output_type": "execute_result"
    }
   ],
   "source": [
    "Table('name3', 3, 4, 10)"
   ]
  },
  {
   "cell_type": "markdown",
   "metadata": {},
   "source": [
    "#7 Observer pattern"
   ]
  },
  {
   "cell_type": "code",
   "execution_count": 4,
   "metadata": {},
   "outputs": [],
   "source": [
    "class Data:\n",
    "    def __init__(self, temp, press, wet):\n",
    "        self.temp = temp    # температура\n",
    "        self.press = press  # давление\n",
    "        self.wet = wet      # влажность\n",
    "\n",
    "class Observer:\n",
    "    def update(self, data):\n",
    "        pass\n",
    "\n",
    "    def __hash__(self):\n",
    "        return hash(id(self))\n",
    "\n",
    "class TemperatureView(Observer):\n",
    "    def update(self, data):\n",
    "        print(f'Текущая температура {data.temp}')\n",
    "\n",
    "class PressureView(Observer):\n",
    "    def update(self, data):\n",
    "        print(f'Текущее давление {data.press}')\n",
    "\n",
    "class WetView(Observer):\n",
    "    def update(self, data):\n",
    "        print(f'Текущая влажность {data.wet}')\n",
    "\n",
    "class Subject:\n",
    "    def __init__(self):\n",
    "        self.__observers = {}\n",
    "        self.__data = None\n",
    "\n",
    "    def add_observer(self, observer):\n",
    "        self.__observers[observer] = observer\n",
    "\n",
    "    def remove_observer(self, observer):\n",
    "        if observer in self.__observers:\n",
    "            self.__observers.pop(observer)\n",
    "\n",
    "    def __notify_observer(self):\n",
    "        for ob in self.__observers:\n",
    "            ob.update(self.__data)\n",
    "\n",
    "    def change_data(self, data):\n",
    "        self.__data = data\n",
    "        self.__notify_observer()\n"
   ]
  },
  {
   "cell_type": "code",
   "execution_count": 5,
   "metadata": {},
   "outputs": [
    {
     "name": "stdout",
     "output_type": "stream",
     "text": [
      "Текущая температура 23\n",
      "Текущее давление 150\n",
      "Текущая влажность 83\n",
      "Текущая температура 24\n",
      "Текущее давление 148\n"
     ]
    }
   ],
   "source": [
    "subject = Subject()\n",
    "tv = TemperatureView()\n",
    "pr = PressureView()\n",
    "wet = WetView()\n",
    "\n",
    "subject.add_observer(tv)\n",
    "subject.add_observer(pr)\n",
    "subject.add_observer(wet)\n",
    "\n",
    "subject.change_data(Data(23, 150, 83))\n",
    "# выведет строчки:\n",
    "# Текущая температура 23\n",
    "# Текущее давление 150\n",
    "# Текущая влажность 83\n",
    "subject.remove_observer(wet)\n",
    "subject.change_data(Data(24, 148, 80))\n",
    "# выведет строчки:\n",
    "# Текущая температура 24\n",
    "# Текущее давление 148\n"
   ]
  },
  {
   "cell_type": "markdown",
   "metadata": {},
   "source": [
    "#8"
   ]
  },
  {
   "cell_type": "code",
   "execution_count": 6,
   "metadata": {},
   "outputs": [],
   "source": [
    "class Aircraft:\n",
    "    def __init__(self, model, mass, speed, top) -> None:\n",
    "        if type(model) is not str:\n",
    "            raise TypeError('неверный тип аргумента')\n",
    "\n",
    "        for arg in [mass, speed, top]:\n",
    "            self.__check_arg(arg)\n",
    "\n",
    "        self._model = model\n",
    "        self._mass = mass\n",
    "        self._speed = speed\n",
    "        self._top = top\n",
    "    \n",
    "    @staticmethod\n",
    "    def __check_arg(value):\n",
    "        if type(value) not in (int, float) or value <= 0:\n",
    "            raise TypeError('неверный тип аргумента')\n",
    "\n",
    "class PassengerAircraft(Aircraft):\n",
    "    def __init__(self, model, mass, speed, top, chairs) -> None:\n",
    "        super().__init__(model, mass, speed, top)\n",
    "\n",
    "        if type(chairs) is not int or chairs <= 0:\n",
    "            raise TypeError('неверный тип аргумента')\n",
    "\n",
    "        self._chairs = chairs\n",
    "\n",
    "class WarPlane(Aircraft):\n",
    "    def __init__(self, model, mass, speed, top, weapons) -> None:\n",
    "        super().__init__(model, mass, speed, top)\n",
    "\n",
    "        if type(weapons) is not dict or not all(type(weapon) is str for weapon in weapons.keys()) or not all(type(count) is int for count in weapons.values()):\n",
    "            raise TypeError('неверный тип аргумента')\n",
    "\n",
    "        self._weapons = weapons\n"
   ]
  },
  {
   "cell_type": "code",
   "execution_count": 7,
   "metadata": {},
   "outputs": [],
   "source": [
    "planes = [PassengerAircraft('МС-21', 1250, 8000, 12000.5, 140),\n",
    "          PassengerAircraft('SuperJet', 1145, 8640, 11034, 80),\n",
    "          WarPlane('Миг-35', 7034, 25000, 2000, {\"ракета\": 4, \"бомба\": 10}),\n",
    "          WarPlane('Су-35', 7034, 34000, 2400, {\"ракета\": 4, \"бомба\": 7})]\n"
   ]
  },
  {
   "cell_type": "code",
   "execution_count": 8,
   "metadata": {},
   "outputs": [
    {
     "ename": "TypeError",
     "evalue": "неверный тип аргумента",
     "output_type": "error",
     "traceback": [
      "\u001b[0;31m---------------------------------------------------------------------------\u001b[0m",
      "\u001b[0;31mTypeError\u001b[0m                                 Traceback (most recent call last)",
      "\u001b[1;32m/Users/konstantin/Documents/Courses/Python_OOP/4_Inheritance_Polymorphism/4_private_protected.ipynb Ячейка 12\u001b[0m in \u001b[0;36m<cell line: 1>\u001b[0;34m()\u001b[0m\n\u001b[0;32m----> <a href='vscode-notebook-cell:/Users/konstantin/Documents/Courses/Python_OOP/4_Inheritance_Polymorphism/4_private_protected.ipynb#X15sZmlsZQ%3D%3D?line=0'>1</a>\u001b[0m Aircraft(\u001b[39m'\u001b[39;49m\u001b[39m4\u001b[39;49m\u001b[39m'\u001b[39;49m, \u001b[39m1\u001b[39;49m, \u001b[39m-\u001b[39;49m\u001b[39m2\u001b[39;49m, \u001b[39m3\u001b[39;49m)\n",
      "\u001b[1;32m/Users/konstantin/Documents/Courses/Python_OOP/4_Inheritance_Polymorphism/4_private_protected.ipynb Ячейка 12\u001b[0m in \u001b[0;36mAircraft.__init__\u001b[0;34m(self, model, mass, speed, top)\u001b[0m\n\u001b[1;32m      <a href='vscode-notebook-cell:/Users/konstantin/Documents/Courses/Python_OOP/4_Inheritance_Polymorphism/4_private_protected.ipynb#X15sZmlsZQ%3D%3D?line=3'>4</a>\u001b[0m     \u001b[39mraise\u001b[39;00m \u001b[39mTypeError\u001b[39;00m(\u001b[39m'\u001b[39m\u001b[39mневерный тип аргумента\u001b[39m\u001b[39m'\u001b[39m)\n\u001b[1;32m      <a href='vscode-notebook-cell:/Users/konstantin/Documents/Courses/Python_OOP/4_Inheritance_Polymorphism/4_private_protected.ipynb#X15sZmlsZQ%3D%3D?line=5'>6</a>\u001b[0m \u001b[39mfor\u001b[39;00m arg \u001b[39min\u001b[39;00m [mass, speed, top]:\n\u001b[0;32m----> <a href='vscode-notebook-cell:/Users/konstantin/Documents/Courses/Python_OOP/4_Inheritance_Polymorphism/4_private_protected.ipynb#X15sZmlsZQ%3D%3D?line=6'>7</a>\u001b[0m     \u001b[39mself\u001b[39;49m\u001b[39m.\u001b[39;49m__check_arg(arg)\n\u001b[1;32m      <a href='vscode-notebook-cell:/Users/konstantin/Documents/Courses/Python_OOP/4_Inheritance_Polymorphism/4_private_protected.ipynb#X15sZmlsZQ%3D%3D?line=8'>9</a>\u001b[0m \u001b[39mself\u001b[39m\u001b[39m.\u001b[39m_model \u001b[39m=\u001b[39m model\n\u001b[1;32m     <a href='vscode-notebook-cell:/Users/konstantin/Documents/Courses/Python_OOP/4_Inheritance_Polymorphism/4_private_protected.ipynb#X15sZmlsZQ%3D%3D?line=9'>10</a>\u001b[0m \u001b[39mself\u001b[39m\u001b[39m.\u001b[39m_mass \u001b[39m=\u001b[39m mass\n",
      "\u001b[1;32m/Users/konstantin/Documents/Courses/Python_OOP/4_Inheritance_Polymorphism/4_private_protected.ipynb Ячейка 12\u001b[0m in \u001b[0;36mAircraft.__check_arg\u001b[0;34m(value)\u001b[0m\n\u001b[1;32m     <a href='vscode-notebook-cell:/Users/konstantin/Documents/Courses/Python_OOP/4_Inheritance_Polymorphism/4_private_protected.ipynb#X15sZmlsZQ%3D%3D?line=13'>14</a>\u001b[0m \u001b[39m@staticmethod\u001b[39m\n\u001b[1;32m     <a href='vscode-notebook-cell:/Users/konstantin/Documents/Courses/Python_OOP/4_Inheritance_Polymorphism/4_private_protected.ipynb#X15sZmlsZQ%3D%3D?line=14'>15</a>\u001b[0m \u001b[39mdef\u001b[39;00m \u001b[39m__check_arg\u001b[39m(value):\n\u001b[1;32m     <a href='vscode-notebook-cell:/Users/konstantin/Documents/Courses/Python_OOP/4_Inheritance_Polymorphism/4_private_protected.ipynb#X15sZmlsZQ%3D%3D?line=15'>16</a>\u001b[0m     \u001b[39mif\u001b[39;00m \u001b[39mtype\u001b[39m(value) \u001b[39mnot\u001b[39;00m \u001b[39min\u001b[39;00m (\u001b[39mint\u001b[39m, \u001b[39mfloat\u001b[39m) \u001b[39mor\u001b[39;00m value \u001b[39m<\u001b[39m\u001b[39m=\u001b[39m \u001b[39m0\u001b[39m:\n\u001b[0;32m---> <a href='vscode-notebook-cell:/Users/konstantin/Documents/Courses/Python_OOP/4_Inheritance_Polymorphism/4_private_protected.ipynb#X15sZmlsZQ%3D%3D?line=16'>17</a>\u001b[0m         \u001b[39mraise\u001b[39;00m \u001b[39mTypeError\u001b[39;00m(\u001b[39m'\u001b[39m\u001b[39mневерный тип аргумента\u001b[39m\u001b[39m'\u001b[39m)\n",
      "\u001b[0;31mTypeError\u001b[0m: неверный тип аргумента"
     ]
    }
   ],
   "source": [
    "Aircraft('4', 1, -2, 3)"
   ]
  },
  {
   "cell_type": "markdown",
   "metadata": {},
   "source": [
    "#9"
   ]
  },
  {
   "cell_type": "code",
   "execution_count": 9,
   "metadata": {},
   "outputs": [],
   "source": [
    "def class_log(log_lst):\n",
    "    def log_methods(cls):\n",
    "        methods = {k: v for k, v in cls.__dict__.items() if callable(v)}\n",
    "        for k, v in methods.items():\n",
    "            setattr(cls, k, log_method_decorator(v))\n",
    "\n",
    "        return cls\n",
    "\n",
    "    def log_method_decorator(func):\n",
    "        def wrapper(*args, **kwargs):\n",
    "            log_lst.append(func.__name__)\n",
    "            return func(*args, **kwargs)\n",
    "        \n",
    "        return wrapper\n",
    "\n",
    "    return log_methods\n",
    "\n",
    "vector_log = []\n",
    "\n",
    "\n",
    "@class_log(vector_log)\n",
    "class Vector:\n",
    "    def __init__(self, *args):\n",
    "        self.__coords = list(args)\n",
    "\n",
    "    def __getitem__(self, item):\n",
    "        return self.__coords[item]\n",
    "\n",
    "    def __setitem__(self, key, value):\n",
    "        self.__coords[key] = value\n"
   ]
  },
  {
   "cell_type": "code",
   "execution_count": 10,
   "metadata": {},
   "outputs": [
    {
     "name": "stdout",
     "output_type": "stream",
     "text": [
      "__init__ __setitem__\n"
     ]
    }
   ],
   "source": [
    "v = Vector(1, 2, 3)\n",
    "v[0] = 10\n",
    "print(*vector_log)"
   ]
  },
  {
   "cell_type": "markdown",
   "metadata": {},
   "source": [
    "#10"
   ]
  },
  {
   "cell_type": "code",
   "execution_count": 11,
   "metadata": {},
   "outputs": [],
   "source": [
    "CURRENT_OS = 'windows'   # 'windows', 'linux'\n",
    "\n",
    "\n",
    "class WindowsFileDialog:\n",
    "    def __init__(self, title, path, exts):\n",
    "        self.__title = title # заголовок диалогового окна\n",
    "        self.__path = path  # начальный каталог с файлами\n",
    "        self.__exts = exts  # кортеж из отображаемых расширений файлов\n",
    "\n",
    "\n",
    "class LinuxFileDialog:\n",
    "    def __init__(self, title, path, exts):\n",
    "        self.__title = title # заголовок диалогового окна\n",
    "        self.__path = path  # начальный каталог с файлами\n",
    "        self.__exts = exts  # кортеж из отображаемых расширений файлов\n",
    "\n",
    "class FileDialogFactory:\n",
    "    def __new__(cls, title, path, exts):\n",
    "        if CURRENT_OS == 'windows':\n",
    "            return cls.create_windows_filedialog(title, path, exts)\n",
    "\n",
    "        if CURRENT_OS == 'linux':\n",
    "            return cls.create_linux_filedialog(title, path, exts)\n",
    "\n",
    "    @staticmethod\n",
    "    def create_windows_filedialog(title, path, exts):\n",
    "        return WindowsFileDialog(title, path, exts)\n",
    "\n",
    "    @staticmethod\n",
    "    def create_linux_filedialog(title, path, exts):\n",
    "        return LinuxFileDialog(title, path, exts)"
   ]
  },
  {
   "cell_type": "code",
   "execution_count": 12,
   "metadata": {},
   "outputs": [],
   "source": [
    "dlg = FileDialogFactory('Изображения', 'd:/images/', ('jpg', 'gif', 'bmp', 'png'))\n"
   ]
  }
 ],
 "metadata": {
  "kernelspec": {
   "display_name": "Python 3.9.12 64-bit",
   "language": "python",
   "name": "python3"
  },
  "language_info": {
   "codemirror_mode": {
    "name": "ipython",
    "version": 3
   },
   "file_extension": ".py",
   "mimetype": "text/x-python",
   "name": "python",
   "nbconvert_exporter": "python",
   "pygments_lexer": "ipython3",
   "version": "3.9.12"
  },
  "orig_nbformat": 4,
  "vscode": {
   "interpreter": {
    "hash": "aee8b7b246df8f9039afb4144a1f6fd8d2ca17a180786b69acc140d282b71a49"
   }
  }
 },
 "nbformat": 4,
 "nbformat_minor": 2
}
