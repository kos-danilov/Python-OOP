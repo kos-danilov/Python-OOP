{
 "cells": [
  {
   "cell_type": "markdown",
   "metadata": {},
   "source": [
    "#3"
   ]
  },
  {
   "cell_type": "code",
   "execution_count": 1,
   "metadata": {},
   "outputs": [],
   "source": [
    "class Student:\n",
    "    def __init__(self, fio, group):\n",
    "        self._fio = fio  # ФИО студента (строка)\n",
    "        self._group = group # группа (строка)\n",
    "        self._lect_marks = []  # оценки за лекции\n",
    "        self._house_marks = []  # оценки за домашние задания\n",
    "\n",
    "    def add_lect_marks(self, mark):\n",
    "        self._lect_marks.append(mark)\n",
    "\n",
    "    def add_house_marks(self, mark):\n",
    "        self._house_marks.append(mark)\n",
    "\n",
    "    def __str__(self):\n",
    "        return f\"Студент {self._fio}: оценки на лекциях: {str(self._lect_marks)}; оценки за д/з: {str(self._house_marks)}\"\n",
    "\n",
    "\n",
    "class Mentor:\n",
    "    def __init__(self, fio, subject):\n",
    "        self._fio = fio\n",
    "        self._subject = subject\n",
    "\n",
    "class Lector(Mentor):\n",
    "    def set_mark(self, student, mark):\n",
    "        student.add_lect_marks(mark)\n",
    "    \n",
    "    def __str__(self):\n",
    "        return f'Лектор {self._fio}: предмет {self._subject}'\n",
    "\n",
    "class Reviewer(Mentor):\n",
    "    def set_mark(self, student, mark):\n",
    "        student.add_house_marks(mark)\n",
    "\n",
    "    def __str__(self):\n",
    "        return f'Эксперт {self._fio}: предмет {self._subject}'\n"
   ]
  },
  {
   "cell_type": "code",
   "execution_count": 2,
   "metadata": {},
   "outputs": [
    {
     "name": "stdout",
     "output_type": "stream",
     "text": [
      "Лектор Балакирев С.М.: предмет Информатика\n",
      "Эксперт Гейтс Б.: предмет Информатика\n",
      "Студент Иванов А.Б.: оценки на лекциях: [4]; оценки за д/з: [5]\n",
      "Студент Гаврилов С.А.: оценки на лекциях: [2]; оценки за д/з: [3]\n"
     ]
    }
   ],
   "source": [
    "lector = Lector(\"Балакирев С.М.\", \"Информатика\")\n",
    "reviewer = Reviewer(\"Гейтс Б.\", \"Информатика\")\n",
    "students = [Student(\"Иванов А.Б.\", \"ЭВМд-11\"), Student(\"Гаврилов С.А.\", \"ЭВМд-11\")]\n",
    "persons = [lector, reviewer]\n",
    "lector.set_mark(students[0], 4)\n",
    "lector.set_mark(students[1], 2)\n",
    "reviewer.set_mark(students[0], 5)\n",
    "reviewer.set_mark(students[1], 3)\n",
    "for p in persons + students:\n",
    "    print(p)\n",
    "# в консоли будет отображено:\n",
    "# Лектор Балакирев С.М.: предмет Информатика\n",
    "# Эксперт Гейтс Б.: предмет Информатика\n",
    "# Студент Иванов А.Б.: оценки на лекциях: [4]; оценки за д/з: [5]\n",
    "# Студент Гаврилов С.А.: оценки на лекциях: [2]; оценки за д/з: [3]\n"
   ]
  },
  {
   "cell_type": "markdown",
   "metadata": {},
   "source": [
    "#4"
   ]
  },
  {
   "cell_type": "code",
   "execution_count": 3,
   "metadata": {},
   "outputs": [],
   "source": [
    "class ShopInterface:\n",
    "    def get_id(self): \n",
    "        raise NotImplementedError('в классе не переопределен метод get_id')\n",
    "\n",
    "class ShopItem(ShopInterface):\n",
    "    ID = 0\n",
    "\n",
    "    def __new__(cls, *args, **kwargs):\n",
    "        cls.ID += 1\n",
    "        return super().__new__(cls)\n",
    "\n",
    "    def __init__(self, name, weight, price) -> None:\n",
    "        self._name = name\n",
    "        self._weight = weight\n",
    "        self._price = price\n",
    "        self._id = self.ID\n",
    "\n",
    "    def get_id(self):\n",
    "        return self._id"
   ]
  },
  {
   "cell_type": "markdown",
   "metadata": {},
   "source": [
    "#5"
   ]
  },
  {
   "cell_type": "code",
   "execution_count": 4,
   "metadata": {},
   "outputs": [],
   "source": [
    "class Validator:\n",
    "    def _is_valid(self, data):\n",
    "        raise NotImplementedError('в классе не переопределен метод _is_valid')\n",
    "\n",
    "    def __call__(self, data):\n",
    "        return self._is_valid(data)\n",
    "        \n",
    "class FloatValidator(Validator):\n",
    "    def __init__(self, min_value, max_value) -> None:\n",
    "        self.min_value = min_value\n",
    "        self.max_value = max_value\n",
    "    \n",
    "    def _is_valid(self, data):\n",
    "        return True if type(data) is float and self.min_value <= data <= self.max_value else False\n"
   ]
  },
  {
   "cell_type": "code",
   "execution_count": 5,
   "metadata": {},
   "outputs": [
    {
     "name": "stdout",
     "output_type": "stream",
     "text": [
      "False\n",
      "True\n",
      "False\n"
     ]
    }
   ],
   "source": [
    "float_validator = FloatValidator(0, 10.5)\n",
    "print(float_validator(1))  # False (целое число, а не вещественное)\n",
    "print(float_validator(1.0))  # True\n",
    "print(float_validator(-1.0))  # False (выход за диапазон [0; 10.5])\n"
   ]
  },
  {
   "cell_type": "markdown",
   "metadata": {},
   "source": [
    "#6"
   ]
  },
  {
   "cell_type": "code",
   "execution_count": 6,
   "metadata": {},
   "outputs": [],
   "source": [
    "from abc import ABC, abstractmethod\n",
    "\n",
    "class Model(ABC):\n",
    "    @abstractmethod\n",
    "    def get_pk(self):\n",
    "        pass\n",
    "\n",
    "    def get_info(self):\n",
    "        return 'Базовый класс Model'\n",
    "    \n",
    "class ModelForm(Model):\n",
    "    def __init__(self, login, password) -> None:\n",
    "        self._login = login\n",
    "        self._password = password\n",
    "        self._id = id(self)\n",
    "\n",
    "    def get_pk(self):\n",
    "        return self._id"
   ]
  },
  {
   "cell_type": "markdown",
   "metadata": {},
   "source": [
    "#7"
   ]
  },
  {
   "cell_type": "code",
   "execution_count": 7,
   "metadata": {},
   "outputs": [],
   "source": [
    "from abc import ABC, abstractmethod\n",
    "\n",
    "class StackInterface(ABC):\n",
    "    @abstractmethod\n",
    "    def push_back(self, obj):\n",
    "        pass\n",
    "\n",
    "    @abstractmethod\n",
    "    def pop_back(self):\n",
    "        pass\n",
    "\n",
    "class StackObj:\n",
    "    def __init__(self, data) -> None:\n",
    "        self._data = data\n",
    "        self._next = None\n",
    "\n",
    "class Stack(StackInterface):\n",
    "    def __init__(self) -> None:\n",
    "        self._top = None\n",
    "        self.lst = []\n",
    "\n",
    "    def push_back(self, obj):\n",
    "        if self._top is None:\n",
    "            self._top = obj\n",
    "        else:\n",
    "            self.lst[-1]._next = obj\n",
    "        self.lst.append(obj)\n",
    "\n",
    "    def pop_back(self):\n",
    "        if len(self.lst) > 1:\n",
    "            last = self.lst.pop()\n",
    "            self.lst[-1]._next = None\n",
    "        elif len(self.lst) == 1:\n",
    "            self._top = None\n",
    "            last = self.lst.pop()\n",
    "        else:\n",
    "            last = None\n",
    "        \n",
    "        return last"
   ]
  },
  {
   "cell_type": "markdown",
   "metadata": {},
   "source": [
    "#8"
   ]
  },
  {
   "cell_type": "code",
   "execution_count": 8,
   "metadata": {},
   "outputs": [],
   "source": [
    "from abc import ABC, abstractmethod\n",
    "\n",
    "class CountryInterface(ABC):\n",
    "    @property\n",
    "    @abstractmethod\n",
    "    def name(self):\n",
    "        pass\n",
    "\n",
    "    @name.setter\n",
    "    @abstractmethod\n",
    "    def name(self, name):\n",
    "        pass\n",
    "\n",
    "    @property\n",
    "    @abstractmethod\n",
    "    def population(self):\n",
    "        pass\n",
    "\n",
    "    @population.setter\n",
    "    @abstractmethod\n",
    "    def population(self, population):\n",
    "        pass\n",
    "\n",
    "    @property\n",
    "    @abstractmethod\n",
    "    def square(self):\n",
    "        pass\n",
    "\n",
    "    @square.setter\n",
    "    @abstractmethod\n",
    "    def square(self, square):\n",
    "        pass\n",
    "\n",
    "    @abstractmethod\n",
    "    def get_info():\n",
    "        pass\n",
    "\n",
    "class Country(CountryInterface):\n",
    "    def __init__(self, name, population, square) -> None:\n",
    "        self.name = name\n",
    "        self.population = population\n",
    "        self.square = square\n",
    "\n",
    "    @property\n",
    "    def name(self):\n",
    "        return self._name\n",
    "\n",
    "    @name.setter\n",
    "    def name(self, name):\n",
    "        if type(name) is str:\n",
    "            self._name = name\n",
    "\n",
    "    @property\n",
    "    def population(self):\n",
    "        return self._population\n",
    "\n",
    "    @population.setter\n",
    "    def population(self, population):\n",
    "        if type(population) in (float, int) and population > 0:\n",
    "            self._population = population\n",
    "\n",
    "    @property\n",
    "    def square(self):\n",
    "        return self._square\n",
    "\n",
    "    @square.setter\n",
    "    def square(self, square):\n",
    "        if type(square) in (float, int) and square > 0:\n",
    "            self._square = square\n",
    "\n",
    "    def get_info(self):\n",
    "        return f'{self.name}: {self.square}, {self.population}'\n"
   ]
  },
  {
   "cell_type": "code",
   "execution_count": 9,
   "metadata": {},
   "outputs": [
    {
     "name": "stdout",
     "output_type": "stream",
     "text": [
      "Россия: 354005483.0, 150000000\n"
     ]
    }
   ],
   "source": [
    "country = Country(\"Россия\", 140000000, 324005489.55)\n",
    "name = country.name\n",
    "pop = country.population\n",
    "country.population = 150000000\n",
    "country.square = 354005483.0\n",
    "print(country.get_info()) # Россия: 354005483.0, 150000000\n"
   ]
  },
  {
   "cell_type": "markdown",
   "metadata": {},
   "source": [
    "#9"
   ]
  },
  {
   "cell_type": "code",
   "execution_count": 10,
   "metadata": {},
   "outputs": [],
   "source": [
    "class PointTrack:\n",
    "    def __init__(self, x, y) -> None:\n",
    "        if type(x) not in (float, int) or type(y) not in (float, int):\n",
    "            raise TypeError('координаты должны быть числами')\n",
    "        self.x = x\n",
    "        self.y = y\n",
    "    \n",
    "    def __str__(self):\n",
    "        return f\"PointTrack: {self.x}, {self.y}\"\n",
    "\n",
    "class Track:\n",
    "    def __init__(self, *args) -> None:\n",
    "        if type(args[0]) is PointTrack:\n",
    "            self.__points = list(args)\n",
    "        else:\n",
    "            self.__points = PointTrack(args[0], args[1])\n",
    "    \n",
    "    @property\n",
    "    def points(self):\n",
    "        return tuple(self.__points)\n",
    "\n",
    "    def add_back(self, pt):\n",
    "        self.__points.append(pt)\n",
    "\n",
    "    def add_front(self, pt):\n",
    "         self.__points.insert(0, pt)\n",
    "\n",
    "    def pop_back(self):\n",
    "        return self.__points.pop()\n",
    "\n",
    "    def pop_front(self):\n",
    "        return self.__points.pop(0)\n",
    "\n",
    "    "
   ]
  },
  {
   "cell_type": "code",
   "execution_count": 11,
   "metadata": {},
   "outputs": [
    {
     "name": "stdout",
     "output_type": "stream",
     "text": [
      "PointTrack: 1.2, -0.5\n",
      "PointTrack: 2.4, -1.5\n",
      "PointTrack: 1.4, 0\n"
     ]
    }
   ],
   "source": [
    "tr = Track(PointTrack(0, 0), PointTrack(1.2, -0.5), PointTrack(2.4, -1.5))\n",
    "tr.add_back(PointTrack(1.4, 0))\n",
    "tr.pop_front()\n",
    "for pt in tr.points:\n",
    "    print(pt)\n"
   ]
  },
  {
   "cell_type": "markdown",
   "metadata": {},
   "source": [
    "#10"
   ]
  },
  {
   "cell_type": "code",
   "execution_count": 12,
   "metadata": {},
   "outputs": [],
   "source": [
    "class Food:\n",
    "    def __init__(self, name, weight, calories) -> None:\n",
    "        self._name = name\n",
    "        self._weight = weight\n",
    "        self._calories = calories\n",
    "\n",
    "class BreadFood(Food):\n",
    "    def __init__(self, name, weight, calories, white) -> None:\n",
    "        super().__init__(name, weight, calories)\n",
    "        self._white = white\n",
    "\n",
    "class SoupFood(Food):\n",
    "    def __init__(self, name, weight, calories, dietary) -> None:\n",
    "        super().__init__(name, weight, calories)\n",
    "        self._dietary = dietary\n",
    "\n",
    "class FishFood(Food):\n",
    "    def __init__(self, name, weight, calories, fish) -> None:\n",
    "        super().__init__(name, weight, calories)\n",
    "        self._fish = fish"
   ]
  }
 ],
 "metadata": {
  "kernelspec": {
   "display_name": "Python 3.9.12 64-bit",
   "language": "python",
   "name": "python3"
  },
  "language_info": {
   "codemirror_mode": {
    "name": "ipython",
    "version": 3
   },
   "file_extension": ".py",
   "mimetype": "text/x-python",
   "name": "python",
   "nbconvert_exporter": "python",
   "pygments_lexer": "ipython3",
   "version": "3.9.12"
  },
  "orig_nbformat": 4,
  "vscode": {
   "interpreter": {
    "hash": "aee8b7b246df8f9039afb4144a1f6fd8d2ca17a180786b69acc140d282b71a49"
   }
  }
 },
 "nbformat": 4,
 "nbformat_minor": 2
}
