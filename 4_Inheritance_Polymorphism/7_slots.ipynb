{
 "cells": [
  {
   "cell_type": "markdown",
   "metadata": {},
   "source": [
    "#4"
   ]
  },
  {
   "cell_type": "code",
   "execution_count": 1,
   "metadata": {},
   "outputs": [],
   "source": [
    "class Person:\n",
    "    __slots__ = ('_fio', '_old', '_job')\n",
    "\n",
    "    def __init__(self, fio, old, job) -> None:\n",
    "        self._fio = fio\n",
    "        self._old = old\n",
    "        self._job = job"
   ]
  },
  {
   "cell_type": "code",
   "execution_count": 2,
   "metadata": {},
   "outputs": [],
   "source": [
    "persons = [Person('Суворов', 52, 'полководец'),\n",
    "           Person('Рахманинов', 50, 'пианист, композитор'),\n",
    "           Person('Балакирев', 34, 'программист и преподаватель'),\n",
    "           Person('Пушкин', 32, 'поэт и писатель')\n",
    "           ]\n"
   ]
  },
  {
   "cell_type": "markdown",
   "metadata": {},
   "source": [
    "#5"
   ]
  },
  {
   "cell_type": "code",
   "execution_count": 8,
   "metadata": {},
   "outputs": [],
   "source": [
    "class Planet:\n",
    "    def __init__(self, name, diametr, period_solar, period) -> None:\n",
    "        self._name = name\n",
    "        self._diametr = diametr\n",
    "        self._period_solar = period_solar\n",
    "        self._period = period\n",
    "\n",
    "class SolarSystem:\n",
    "    __slots__ = ('_mercury', '_venus', '_earth', '_mars', '_jupiter', '_saturn', '_uranus', '_neptune')\n",
    "    __instance = None\n",
    "\n",
    "    def __new__(cls, *args, **kwargs):\n",
    "        if cls.__instance is None:\n",
    "            cls.__instance = super().__new__(cls, *args, **kwargs)\n",
    "\n",
    "        return cls.__instance\n",
    "\n",
    "    def __init__(self) -> None:\n",
    "        self._mercury = Planet('Меркурий', 4878, 87.97, 1407.5)\n",
    "        self._venus = Planet('Венера', 12104, 224.7, 5832.45)\n",
    "        self._earth = Planet('Земля', 12756, 365.3, 23.93)\n",
    "        self._mars = Planet('Марс', 6794, 687, 24.62)\n",
    "        self._jupiter = Planet('Юпитер', 142800, 4330, 9.9)\n",
    "        self._saturn = Planet('Сатурн', 120660, 10753, 10.63)\n",
    "        self._uranus = Planet('Уран', 51118, 30665, 17.2)\n",
    "        self._neptune = Planet('Нептун', 49528, 60150, 16.1)"
   ]
  },
  {
   "cell_type": "code",
   "execution_count": 9,
   "metadata": {},
   "outputs": [],
   "source": [
    "s_system = SolarSystem()"
   ]
  },
  {
   "cell_type": "markdown",
   "metadata": {},
   "source": [
    "#6"
   ]
  },
  {
   "cell_type": "code",
   "execution_count": 10,
   "metadata": {},
   "outputs": [],
   "source": [
    "class Star:\n",
    "    __slots__ = ('_name', '_massa', '_temp')\n",
    "\n",
    "    def __init__(self, name, massa, temp) -> None:\n",
    "        self._name = name\n",
    "        self._massa = massa\n",
    "        self._temp = temp\n",
    "\n",
    "class WhiteDwarf(Star):\n",
    "    __slots__ = ('_type_star', '_radius')\n",
    "\n",
    "    def __init__(self, name, massa, temp, type_star, radius) -> None:\n",
    "        super().__init__(name, massa, temp)\n",
    "        self._type_star = type_star\n",
    "        self._radius = radius\n",
    "\n",
    "class YellowDwarf(Star):\n",
    "    __slots__ = ('_type_star', '_radius')\n",
    "\n",
    "    def __init__(self, name, massa, temp, type_star, radius) -> None:\n",
    "        super().__init__(name, massa, temp)\n",
    "        self._type_star = type_star\n",
    "        self._radius = radius\n",
    "\n",
    "class RedGiant(Star):\n",
    "    __slots__ = ('_type_star', '_radius')\n",
    "\n",
    "    def __init__(self, name, massa, temp, type_star, radius) -> None:\n",
    "        super().__init__(name, massa, temp)\n",
    "        self._type_star = type_star\n",
    "        self._radius = radius\n",
    "\n",
    "class Pulsar(Star):\n",
    "    __slots__ = ('_type_star', '_radius')\n",
    "\n",
    "    def __init__(self, name, massa, temp, type_star, radius) -> None:\n",
    "        super().__init__(name, massa, temp)\n",
    "        self._type_star = type_star\n",
    "        self._radius = radius"
   ]
  },
  {
   "cell_type": "code",
   "execution_count": 12,
   "metadata": {},
   "outputs": [],
   "source": [
    "stars = [RedGiant('Альдебаран', 5, 3600, 'красный гигант', 45),\n",
    "         WhiteDwarf('Сириус А', 2.1, 9250, 'белый карлик', 2),\n",
    "         WhiteDwarf('Сириус B', 1, 8200, 'белый карлик', 0.01),\n",
    "         YellowDwarf('Солнце', 1, 6000, 'желтый карлик', 1)]\n",
    "\n",
    "white_dwarfs = list(filter(lambda x: isinstance(x, WhiteDwarf), stars))"
   ]
  },
  {
   "cell_type": "markdown",
   "metadata": {},
   "source": [
    "#7"
   ]
  },
  {
   "cell_type": "code",
   "execution_count": 27,
   "metadata": {},
   "outputs": [],
   "source": [
    "class Note:\n",
    "    __сyrillic_notes = ('до', 'ре', 'ми', 'фа', 'соль', 'ля', 'си')\n",
    "\n",
    "    def __setattr__(self, key, value) -> None:\n",
    "        if key == '_name' and value not in self.__сyrillic_notes:\n",
    "            raise ValueError('недопустимое значение аргумента')\n",
    "\n",
    "        if key == '_ton' and value not in (-1, 0, 1):\n",
    "            raise ValueError('недопустимое значение аргумента')\n",
    "        \n",
    "        object.__setattr__(self, key, value)\n",
    "\n",
    "    def __init__(self, name, ton) -> None:\n",
    "        self._name = name\n",
    "        self._ton = ton\n",
    "\n",
    "class Notes:\n",
    "    __slots__ = ('_do', '_re', '_mi', '_fa', '_solt', '_la', '_si')\n",
    "    __instance = None\n",
    "\n",
    "    def __new__(cls, *args, **kwargs):\n",
    "        if cls.__instance is None:\n",
    "            cls.__instance = super().__new__(cls, *args, **kwargs)\n",
    "\n",
    "        return cls.__instance\n",
    "\n",
    "    def __init__(self) -> None:\n",
    "        self._do = Note('до', 0)\n",
    "        self._re = Note(\"ре\", 0)\n",
    "        self._mi = Note(\"ми\", 0)\n",
    "        self._fa = Note(\"фа\", 0)\n",
    "        self._solt = Note(\"соль\", 0)\n",
    "        self._la = Note(\"ля\", 0)\n",
    "        self._si = Note(\"си\", 0)\n",
    "\n",
    "    def __getitem__(self, index):\n",
    "        if type(index) is not int and not 0 <= index <= 6:\n",
    "            raise IndexError('недопустимый индекс')\n",
    "\n",
    "        return self.__getattribute__(self.__slots__[index])"
   ]
  },
  {
   "cell_type": "code",
   "execution_count": 20,
   "metadata": {},
   "outputs": [],
   "source": [
    "notes = Notes()"
   ]
  },
  {
   "cell_type": "markdown",
   "metadata": {},
   "source": [
    "#8"
   ]
  },
  {
   "cell_type": "code",
   "execution_count": 32,
   "metadata": {},
   "outputs": [],
   "source": [
    "class Function:\n",
    "    def __init__(self):\n",
    "        self._amplitude = 1.0     # амплитуда функции\n",
    "        self._bias = 0.0          # смещение функции по оси Oy\n",
    "\n",
    "    def __call__(self, x, *args, **kwargs):\n",
    "        return self._amplitude * self._get_function(x) + self._bias\n",
    "\n",
    "    def _get_function(self, x):\n",
    "        raise NotImplementedError('метод _get_function должен быть переопределен в дочернем классе')\n",
    "\n",
    "    def __add__(self, other):\n",
    "        if type(other) not in (int, float):\n",
    "            raise TypeError('смещение должно быть числом')\n",
    "\n",
    "        obj = self.__class__(self)\n",
    "        obj._bias = self._bias + other\n",
    "        return obj\n",
    "\n",
    "    def __mul__(self, other):\n",
    "        if type(other) not in (int, float):\n",
    "            raise TypeError('смещение должно быть числом')\n",
    "\n",
    "        obj = self.__class__(self)\n",
    "        obj._amplitude *= other\n",
    "        return obj\n",
    "\n",
    "\n",
    "class Linear(Function):\n",
    "    def __init__(self, *args) -> None:\n",
    "        super().__init__()\n",
    "        if len(args) == 2:\n",
    "            self._k = args[0]\n",
    "            self._b = args[1]\n",
    "        elif len(args) == 1:\n",
    "            self._k = args[0]._k\n",
    "            self._b = args[0]._b\n",
    "\n",
    "    def _get_function(self, x):\n",
    "        return self._k * x + self._b\n",
    "\n",
    "        "
   ]
  },
  {
   "cell_type": "code",
   "execution_count": 33,
   "metadata": {},
   "outputs": [],
   "source": [
    "f = Linear(1, 0.5)\n",
    "f2 = f + 10   # изменение смещения (атрибут _bias)\n",
    "y1 = f(0)     # 0.5\n",
    "y2 = f2(0)    # 10.5\n"
   ]
  }
 ],
 "metadata": {
  "kernelspec": {
   "display_name": "Python 3.9.12 64-bit",
   "language": "python",
   "name": "python3"
  },
  "language_info": {
   "codemirror_mode": {
    "name": "ipython",
    "version": 3
   },
   "file_extension": ".py",
   "mimetype": "text/x-python",
   "name": "python",
   "nbconvert_exporter": "python",
   "pygments_lexer": "ipython3",
   "version": "3.9.12"
  },
  "orig_nbformat": 4,
  "vscode": {
   "interpreter": {
    "hash": "aee8b7b246df8f9039afb4144a1f6fd8d2ca17a180786b69acc140d282b71a49"
   }
  }
 },
 "nbformat": 4,
 "nbformat_minor": 2
}
